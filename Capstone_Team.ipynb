{
  "nbformat": 4,
  "nbformat_minor": 0,
  "metadata": {
    "colab": {
      "name": "Capstone_Team.ipynb",
      "provenance": [],
      "collapsed_sections": [],
      "authorship_tag": "ABX9TyNyPlZ9sBJWDeMs5wDXmGbO",
      "include_colab_link": true
    },
    "kernelspec": {
      "name": "python3",
      "display_name": "Python 3"
    }
  },
  "cells": [
    {
      "cell_type": "markdown",
      "metadata": {
        "id": "view-in-github",
        "colab_type": "text"
      },
      "source": [
        "<a href=\"https://colab.research.google.com/github/haritmm97/ML-Projects-Portfolio/blob/master/Capstone_Team.ipynb\" target=\"_parent\"><img src=\"https://colab.research.google.com/assets/colab-badge.svg\" alt=\"Open In Colab\"/></a>"
      ]
    },
    {
      "cell_type": "markdown",
      "metadata": {
        "id": "1FlByirI3ijX",
        "colab_type": "text"
      },
      "source": [
        "**1.Define the problem, propose solution:**\n",
        "\n",
        "**Problem Statement:**\n",
        "\n",
        "In the current situation, we find it difficult to predict the correct house prices. Generally, people consider the location of the house and the square foot area of the house to come up with the prices which might be inappropriate as there are lot other factors that needs to be considered when coming up with the prices. Without having much idea on factors contributing to the prices, people tend to compare the house prices in same locality to come up with the estimation price which could either too high or too low which in turn doesn’t satisfy the buyer/seller. This exercise of comparison also causes some manual effort to be spent at times which goes useless due to inaccuracies.\n",
        "\n",
        "**Areas of improvement/Solution:**\n",
        "\n",
        "We see a solution for getting in the features/details which are contributing to house prices using a machine learning based system which can learn using the past history of data. Also, the machine learning system can help in automating the house-based comparison process much faster than the manual work that is being done currently which would eliminate the manual task/effort spent on this. This system would help in predicting the appropriate house prices with higher accuracy compared to current system\n",
        "\n",
        "**Findings on the data:**\n",
        "\n",
        "We have looked into the data shared which contains various factors of houses like different housing types like 2BHK,3BHK, different floors, different square foot areas, amenities like coast & sight view, condition & quality of houses captured from different locations with prices associated to that as required.\n",
        "\n",
        "**2.EDA and Pre-processing**\n",
        "\n",
        "In this section,we will perform the Exploratory data analysis like checking for null value,checking & treating outliers and removing unwanted variables.We will also analyze the relationship & distribution of indepedent and target variables"
      ]
    },
    {
      "cell_type": "code",
      "metadata": {
        "id": "mK-DBgYtz-h5",
        "colab_type": "code",
        "outputId": "2a8c21ad-d07a-49d7-99ef-85c4518b02ca",
        "colab": {
          "base_uri": "https://localhost:8080/",
          "height": 34
        }
      },
      "source": [
        "from google.colab import drive\n",
        "drive.mount('/content/drive')"
      ],
      "execution_count": 1,
      "outputs": [
        {
          "output_type": "stream",
          "text": [
            "Drive already mounted at /content/drive; to attempt to forcibly remount, call drive.mount(\"/content/drive\", force_remount=True).\n"
          ],
          "name": "stdout"
        }
      ]
    },
    {
      "cell_type": "code",
      "metadata": {
        "id": "J1rk391IJK3U",
        "colab_type": "code",
        "colab": {
          "base_uri": "https://localhost:8080/",
          "height": 71
        },
        "outputId": "80a7006d-354a-4fa4-b4af-d4c6daac4b0c"
      },
      "source": [
        "#Import required libraries\n",
        "import numpy as np\n",
        "import pandas as pd\n",
        "import seaborn as sns\n",
        "import matplotlib.pyplot as plt\n",
        "from sklearn.model_selection import train_test_split\n",
        "from sklearn import preprocessing\n",
        "from IPython.display import Image\n",
        "from graphviz import Source\n",
        "from sklearn import tree\n",
        "import pydotplus"
      ],
      "execution_count": 2,
      "outputs": [
        {
          "output_type": "stream",
          "text": [
            "/usr/local/lib/python3.6/dist-packages/statsmodels/tools/_testing.py:19: FutureWarning: pandas.util.testing is deprecated. Use the functions in the public API at pandas.testing instead.\n",
            "  import pandas.util.testing as tm\n"
          ],
          "name": "stderr"
        }
      ]
    },
    {
      "cell_type": "code",
      "metadata": {
        "id": "jakqZCXXJRNe",
        "colab_type": "code",
        "colab": {
          "base_uri": "https://localhost:8080/",
          "height": 224
        },
        "outputId": "6622dfa6-3cec-4e56-c36e-131f7f690f5f"
      },
      "source": [
        "#read data from csv using dataframe\n",
        "dfdata = pd.read_csv(\"/content/drive/My Drive/Machine Learning/Great Learning/Capstone/innercity.csv\")\n",
        "dfdata.head()"
      ],
      "execution_count": 3,
      "outputs": [
        {
          "output_type": "execute_result",
          "data": {
            "text/html": [
              "<div>\n",
              "<style scoped>\n",
              "    .dataframe tbody tr th:only-of-type {\n",
              "        vertical-align: middle;\n",
              "    }\n",
              "\n",
              "    .dataframe tbody tr th {\n",
              "        vertical-align: top;\n",
              "    }\n",
              "\n",
              "    .dataframe thead th {\n",
              "        text-align: right;\n",
              "    }\n",
              "</style>\n",
              "<table border=\"1\" class=\"dataframe\">\n",
              "  <thead>\n",
              "    <tr style=\"text-align: right;\">\n",
              "      <th></th>\n",
              "      <th>cid</th>\n",
              "      <th>dayhours</th>\n",
              "      <th>price</th>\n",
              "      <th>room_bed</th>\n",
              "      <th>room_bath</th>\n",
              "      <th>living_measure</th>\n",
              "      <th>lot_measure</th>\n",
              "      <th>ceil</th>\n",
              "      <th>coast</th>\n",
              "      <th>sight</th>\n",
              "      <th>condition</th>\n",
              "      <th>quality</th>\n",
              "      <th>ceil_measure</th>\n",
              "      <th>basement</th>\n",
              "      <th>yr_built</th>\n",
              "      <th>yr_renovated</th>\n",
              "      <th>zipcode</th>\n",
              "      <th>lat</th>\n",
              "      <th>long</th>\n",
              "      <th>living_measure15</th>\n",
              "      <th>lot_measure15</th>\n",
              "      <th>furnished</th>\n",
              "      <th>total_area</th>\n",
              "    </tr>\n",
              "  </thead>\n",
              "  <tbody>\n",
              "    <tr>\n",
              "      <th>0</th>\n",
              "      <td>3034200666</td>\n",
              "      <td>20141107T000000</td>\n",
              "      <td>808100</td>\n",
              "      <td>4</td>\n",
              "      <td>3.25</td>\n",
              "      <td>3020</td>\n",
              "      <td>13457</td>\n",
              "      <td>1.0</td>\n",
              "      <td>0</td>\n",
              "      <td>0</td>\n",
              "      <td>5</td>\n",
              "      <td>9</td>\n",
              "      <td>3020</td>\n",
              "      <td>0</td>\n",
              "      <td>1956</td>\n",
              "      <td>0</td>\n",
              "      <td>98133</td>\n",
              "      <td>47.7174</td>\n",
              "      <td>-122.336</td>\n",
              "      <td>2120</td>\n",
              "      <td>7553</td>\n",
              "      <td>1</td>\n",
              "      <td>16477</td>\n",
              "    </tr>\n",
              "    <tr>\n",
              "      <th>1</th>\n",
              "      <td>8731981640</td>\n",
              "      <td>20141204T000000</td>\n",
              "      <td>277500</td>\n",
              "      <td>4</td>\n",
              "      <td>2.50</td>\n",
              "      <td>2550</td>\n",
              "      <td>7500</td>\n",
              "      <td>1.0</td>\n",
              "      <td>0</td>\n",
              "      <td>0</td>\n",
              "      <td>3</td>\n",
              "      <td>8</td>\n",
              "      <td>1750</td>\n",
              "      <td>800</td>\n",
              "      <td>1976</td>\n",
              "      <td>0</td>\n",
              "      <td>98023</td>\n",
              "      <td>47.3165</td>\n",
              "      <td>-122.386</td>\n",
              "      <td>2260</td>\n",
              "      <td>8800</td>\n",
              "      <td>0</td>\n",
              "      <td>10050</td>\n",
              "    </tr>\n",
              "    <tr>\n",
              "      <th>2</th>\n",
              "      <td>5104530220</td>\n",
              "      <td>20150420T000000</td>\n",
              "      <td>404000</td>\n",
              "      <td>3</td>\n",
              "      <td>2.50</td>\n",
              "      <td>2370</td>\n",
              "      <td>4324</td>\n",
              "      <td>2.0</td>\n",
              "      <td>0</td>\n",
              "      <td>0</td>\n",
              "      <td>3</td>\n",
              "      <td>8</td>\n",
              "      <td>2370</td>\n",
              "      <td>0</td>\n",
              "      <td>2006</td>\n",
              "      <td>0</td>\n",
              "      <td>98038</td>\n",
              "      <td>47.3515</td>\n",
              "      <td>-121.999</td>\n",
              "      <td>2370</td>\n",
              "      <td>4348</td>\n",
              "      <td>0</td>\n",
              "      <td>6694</td>\n",
              "    </tr>\n",
              "    <tr>\n",
              "      <th>3</th>\n",
              "      <td>6145600285</td>\n",
              "      <td>20140529T000000</td>\n",
              "      <td>300000</td>\n",
              "      <td>2</td>\n",
              "      <td>1.00</td>\n",
              "      <td>820</td>\n",
              "      <td>3844</td>\n",
              "      <td>1.0</td>\n",
              "      <td>0</td>\n",
              "      <td>0</td>\n",
              "      <td>4</td>\n",
              "      <td>6</td>\n",
              "      <td>820</td>\n",
              "      <td>0</td>\n",
              "      <td>1916</td>\n",
              "      <td>0</td>\n",
              "      <td>98133</td>\n",
              "      <td>47.7049</td>\n",
              "      <td>-122.349</td>\n",
              "      <td>1520</td>\n",
              "      <td>3844</td>\n",
              "      <td>0</td>\n",
              "      <td>4664</td>\n",
              "    </tr>\n",
              "    <tr>\n",
              "      <th>4</th>\n",
              "      <td>8924100111</td>\n",
              "      <td>20150424T000000</td>\n",
              "      <td>699000</td>\n",
              "      <td>2</td>\n",
              "      <td>1.50</td>\n",
              "      <td>1400</td>\n",
              "      <td>4050</td>\n",
              "      <td>1.0</td>\n",
              "      <td>0</td>\n",
              "      <td>0</td>\n",
              "      <td>4</td>\n",
              "      <td>8</td>\n",
              "      <td>1400</td>\n",
              "      <td>0</td>\n",
              "      <td>1954</td>\n",
              "      <td>0</td>\n",
              "      <td>98115</td>\n",
              "      <td>47.6768</td>\n",
              "      <td>-122.269</td>\n",
              "      <td>1900</td>\n",
              "      <td>5940</td>\n",
              "      <td>0</td>\n",
              "      <td>5450</td>\n",
              "    </tr>\n",
              "  </tbody>\n",
              "</table>\n",
              "</div>"
            ],
            "text/plain": [
              "          cid         dayhours   price  ...  lot_measure15  furnished  total_area\n",
              "0  3034200666  20141107T000000  808100  ...           7553          1       16477\n",
              "1  8731981640  20141204T000000  277500  ...           8800          0       10050\n",
              "2  5104530220  20150420T000000  404000  ...           4348          0        6694\n",
              "3  6145600285  20140529T000000  300000  ...           3844          0        4664\n",
              "4  8924100111  20150424T000000  699000  ...           5940          0        5450\n",
              "\n",
              "[5 rows x 23 columns]"
            ]
          },
          "metadata": {
            "tags": []
          },
          "execution_count": 3
        }
      ]
    },
    {
      "cell_type": "code",
      "metadata": {
        "id": "BsiTQgh4J_Ob",
        "colab_type": "code",
        "colab": {
          "base_uri": "https://localhost:8080/",
          "height": 34
        },
        "outputId": "cadc40af-189f-4cf3-e57b-1d7c5e7a3f03"
      },
      "source": [
        "#Get the shape of the dataset\n",
        "shape=dfdata.shape\n",
        "print('shape of data :',shape)"
      ],
      "execution_count": 4,
      "outputs": [
        {
          "output_type": "stream",
          "text": [
            "shape of data : (21613, 23)\n"
          ],
          "name": "stdout"
        }
      ]
    },
    {
      "cell_type": "code",
      "metadata": {
        "id": "Rk4Y0U8pKCi8",
        "colab_type": "code",
        "colab": {
          "base_uri": "https://localhost:8080/",
          "height": 442
        },
        "outputId": "f3c2bda0-0415-4054-c127-8c8bcc5e8404"
      },
      "source": [
        "#datatype of each column of given data\n",
        "datType=dfdata.dtypes\n",
        "print('datatype of each col:\\n',datType)"
      ],
      "execution_count": 5,
      "outputs": [
        {
          "output_type": "stream",
          "text": [
            "datatype of each col:\n",
            " cid                   int64\n",
            "dayhours             object\n",
            "price                 int64\n",
            "room_bed              int64\n",
            "room_bath           float64\n",
            "living_measure        int64\n",
            "lot_measure           int64\n",
            "ceil                float64\n",
            "coast                 int64\n",
            "sight                 int64\n",
            "condition             int64\n",
            "quality               int64\n",
            "ceil_measure          int64\n",
            "basement              int64\n",
            "yr_built              int64\n",
            "yr_renovated          int64\n",
            "zipcode               int64\n",
            "lat                 float64\n",
            "long                float64\n",
            "living_measure15      int64\n",
            "lot_measure15         int64\n",
            "furnished             int64\n",
            "total_area            int64\n",
            "dtype: object\n"
          ],
          "name": "stdout"
        }
      ]
    },
    {
      "cell_type": "code",
      "metadata": {
        "id": "P9Pn0KR1KFvS",
        "colab_type": "code",
        "colab": {
          "base_uri": "https://localhost:8080/",
          "height": 309
        },
        "outputId": "05945014-643c-42ea-86b5-d90fc488fedf"
      },
      "source": [
        "#converting the dayhours to get the year and month on which it was sold\n",
        "dfdata['dayhours']=dfdata['dayhours'].astype('datetime64[ns]')\n",
        "dfdata['soldyr']=pd.DatetimeIndex(dfdata['dayhours']).year\n",
        "dfdata['soldmonth']=pd.DatetimeIndex(dfdata['dayhours']).month\n",
        "dfdata.head()"
      ],
      "execution_count": 6,
      "outputs": [
        {
          "output_type": "execute_result",
          "data": {
            "text/html": [
              "<div>\n",
              "<style scoped>\n",
              "    .dataframe tbody tr th:only-of-type {\n",
              "        vertical-align: middle;\n",
              "    }\n",
              "\n",
              "    .dataframe tbody tr th {\n",
              "        vertical-align: top;\n",
              "    }\n",
              "\n",
              "    .dataframe thead th {\n",
              "        text-align: right;\n",
              "    }\n",
              "</style>\n",
              "<table border=\"1\" class=\"dataframe\">\n",
              "  <thead>\n",
              "    <tr style=\"text-align: right;\">\n",
              "      <th></th>\n",
              "      <th>cid</th>\n",
              "      <th>dayhours</th>\n",
              "      <th>price</th>\n",
              "      <th>room_bed</th>\n",
              "      <th>room_bath</th>\n",
              "      <th>living_measure</th>\n",
              "      <th>lot_measure</th>\n",
              "      <th>ceil</th>\n",
              "      <th>coast</th>\n",
              "      <th>sight</th>\n",
              "      <th>condition</th>\n",
              "      <th>quality</th>\n",
              "      <th>ceil_measure</th>\n",
              "      <th>basement</th>\n",
              "      <th>yr_built</th>\n",
              "      <th>yr_renovated</th>\n",
              "      <th>zipcode</th>\n",
              "      <th>lat</th>\n",
              "      <th>long</th>\n",
              "      <th>living_measure15</th>\n",
              "      <th>lot_measure15</th>\n",
              "      <th>furnished</th>\n",
              "      <th>total_area</th>\n",
              "      <th>soldyr</th>\n",
              "      <th>soldmonth</th>\n",
              "    </tr>\n",
              "  </thead>\n",
              "  <tbody>\n",
              "    <tr>\n",
              "      <th>0</th>\n",
              "      <td>3034200666</td>\n",
              "      <td>2014-11-07</td>\n",
              "      <td>808100</td>\n",
              "      <td>4</td>\n",
              "      <td>3.25</td>\n",
              "      <td>3020</td>\n",
              "      <td>13457</td>\n",
              "      <td>1.0</td>\n",
              "      <td>0</td>\n",
              "      <td>0</td>\n",
              "      <td>5</td>\n",
              "      <td>9</td>\n",
              "      <td>3020</td>\n",
              "      <td>0</td>\n",
              "      <td>1956</td>\n",
              "      <td>0</td>\n",
              "      <td>98133</td>\n",
              "      <td>47.7174</td>\n",
              "      <td>-122.336</td>\n",
              "      <td>2120</td>\n",
              "      <td>7553</td>\n",
              "      <td>1</td>\n",
              "      <td>16477</td>\n",
              "      <td>2014</td>\n",
              "      <td>11</td>\n",
              "    </tr>\n",
              "    <tr>\n",
              "      <th>1</th>\n",
              "      <td>8731981640</td>\n",
              "      <td>2014-12-04</td>\n",
              "      <td>277500</td>\n",
              "      <td>4</td>\n",
              "      <td>2.50</td>\n",
              "      <td>2550</td>\n",
              "      <td>7500</td>\n",
              "      <td>1.0</td>\n",
              "      <td>0</td>\n",
              "      <td>0</td>\n",
              "      <td>3</td>\n",
              "      <td>8</td>\n",
              "      <td>1750</td>\n",
              "      <td>800</td>\n",
              "      <td>1976</td>\n",
              "      <td>0</td>\n",
              "      <td>98023</td>\n",
              "      <td>47.3165</td>\n",
              "      <td>-122.386</td>\n",
              "      <td>2260</td>\n",
              "      <td>8800</td>\n",
              "      <td>0</td>\n",
              "      <td>10050</td>\n",
              "      <td>2014</td>\n",
              "      <td>12</td>\n",
              "    </tr>\n",
              "    <tr>\n",
              "      <th>2</th>\n",
              "      <td>5104530220</td>\n",
              "      <td>2015-04-20</td>\n",
              "      <td>404000</td>\n",
              "      <td>3</td>\n",
              "      <td>2.50</td>\n",
              "      <td>2370</td>\n",
              "      <td>4324</td>\n",
              "      <td>2.0</td>\n",
              "      <td>0</td>\n",
              "      <td>0</td>\n",
              "      <td>3</td>\n",
              "      <td>8</td>\n",
              "      <td>2370</td>\n",
              "      <td>0</td>\n",
              "      <td>2006</td>\n",
              "      <td>0</td>\n",
              "      <td>98038</td>\n",
              "      <td>47.3515</td>\n",
              "      <td>-121.999</td>\n",
              "      <td>2370</td>\n",
              "      <td>4348</td>\n",
              "      <td>0</td>\n",
              "      <td>6694</td>\n",
              "      <td>2015</td>\n",
              "      <td>4</td>\n",
              "    </tr>\n",
              "    <tr>\n",
              "      <th>3</th>\n",
              "      <td>6145600285</td>\n",
              "      <td>2014-05-29</td>\n",
              "      <td>300000</td>\n",
              "      <td>2</td>\n",
              "      <td>1.00</td>\n",
              "      <td>820</td>\n",
              "      <td>3844</td>\n",
              "      <td>1.0</td>\n",
              "      <td>0</td>\n",
              "      <td>0</td>\n",
              "      <td>4</td>\n",
              "      <td>6</td>\n",
              "      <td>820</td>\n",
              "      <td>0</td>\n",
              "      <td>1916</td>\n",
              "      <td>0</td>\n",
              "      <td>98133</td>\n",
              "      <td>47.7049</td>\n",
              "      <td>-122.349</td>\n",
              "      <td>1520</td>\n",
              "      <td>3844</td>\n",
              "      <td>0</td>\n",
              "      <td>4664</td>\n",
              "      <td>2014</td>\n",
              "      <td>5</td>\n",
              "    </tr>\n",
              "    <tr>\n",
              "      <th>4</th>\n",
              "      <td>8924100111</td>\n",
              "      <td>2015-04-24</td>\n",
              "      <td>699000</td>\n",
              "      <td>2</td>\n",
              "      <td>1.50</td>\n",
              "      <td>1400</td>\n",
              "      <td>4050</td>\n",
              "      <td>1.0</td>\n",
              "      <td>0</td>\n",
              "      <td>0</td>\n",
              "      <td>4</td>\n",
              "      <td>8</td>\n",
              "      <td>1400</td>\n",
              "      <td>0</td>\n",
              "      <td>1954</td>\n",
              "      <td>0</td>\n",
              "      <td>98115</td>\n",
              "      <td>47.6768</td>\n",
              "      <td>-122.269</td>\n",
              "      <td>1900</td>\n",
              "      <td>5940</td>\n",
              "      <td>0</td>\n",
              "      <td>5450</td>\n",
              "      <td>2015</td>\n",
              "      <td>4</td>\n",
              "    </tr>\n",
              "  </tbody>\n",
              "</table>\n",
              "</div>"
            ],
            "text/plain": [
              "          cid   dayhours   price  ...  total_area  soldyr  soldmonth\n",
              "0  3034200666 2014-11-07  808100  ...       16477    2014         11\n",
              "1  8731981640 2014-12-04  277500  ...       10050    2014         12\n",
              "2  5104530220 2015-04-20  404000  ...        6694    2015          4\n",
              "3  6145600285 2014-05-29  300000  ...        4664    2014          5\n",
              "4  8924100111 2015-04-24  699000  ...        5450    2015          4\n",
              "\n",
              "[5 rows x 25 columns]"
            ]
          },
          "metadata": {
            "tags": []
          },
          "execution_count": 6
        }
      ]
    },
    {
      "cell_type": "markdown",
      "metadata": {
        "id": "nOJZFfi_KNnX",
        "colab_type": "text"
      },
      "source": [
        "From the above dataset,dropping off the column day hours as we have extracted the month & year from that and added a seperate column"
      ]
    },
    {
      "cell_type": "code",
      "metadata": {
        "id": "H3_33CgUKJUo",
        "colab_type": "code",
        "colab": {
          "base_uri": "https://localhost:8080/",
          "height": 317
        },
        "outputId": "95ad62f0-ca98-4722-d347-e2242cc42663"
      },
      "source": [
        "#dropping dayhours column\n",
        "house_data=dfdata.drop('dayhours',axis=1)\n",
        "house_data.describe()"
      ],
      "execution_count": 7,
      "outputs": [
        {
          "output_type": "execute_result",
          "data": {
            "text/html": [
              "<div>\n",
              "<style scoped>\n",
              "    .dataframe tbody tr th:only-of-type {\n",
              "        vertical-align: middle;\n",
              "    }\n",
              "\n",
              "    .dataframe tbody tr th {\n",
              "        vertical-align: top;\n",
              "    }\n",
              "\n",
              "    .dataframe thead th {\n",
              "        text-align: right;\n",
              "    }\n",
              "</style>\n",
              "<table border=\"1\" class=\"dataframe\">\n",
              "  <thead>\n",
              "    <tr style=\"text-align: right;\">\n",
              "      <th></th>\n",
              "      <th>cid</th>\n",
              "      <th>price</th>\n",
              "      <th>room_bed</th>\n",
              "      <th>room_bath</th>\n",
              "      <th>living_measure</th>\n",
              "      <th>lot_measure</th>\n",
              "      <th>ceil</th>\n",
              "      <th>coast</th>\n",
              "      <th>sight</th>\n",
              "      <th>condition</th>\n",
              "      <th>quality</th>\n",
              "      <th>ceil_measure</th>\n",
              "      <th>basement</th>\n",
              "      <th>yr_built</th>\n",
              "      <th>yr_renovated</th>\n",
              "      <th>zipcode</th>\n",
              "      <th>lat</th>\n",
              "      <th>long</th>\n",
              "      <th>living_measure15</th>\n",
              "      <th>lot_measure15</th>\n",
              "      <th>furnished</th>\n",
              "      <th>total_area</th>\n",
              "      <th>soldyr</th>\n",
              "      <th>soldmonth</th>\n",
              "    </tr>\n",
              "  </thead>\n",
              "  <tbody>\n",
              "    <tr>\n",
              "      <th>count</th>\n",
              "      <td>2.161300e+04</td>\n",
              "      <td>2.161300e+04</td>\n",
              "      <td>21613.000000</td>\n",
              "      <td>21613.000000</td>\n",
              "      <td>21613.000000</td>\n",
              "      <td>2.161300e+04</td>\n",
              "      <td>21613.000000</td>\n",
              "      <td>21613.000000</td>\n",
              "      <td>21613.000000</td>\n",
              "      <td>21613.000000</td>\n",
              "      <td>21613.000000</td>\n",
              "      <td>21613.000000</td>\n",
              "      <td>21613.000000</td>\n",
              "      <td>21613.000000</td>\n",
              "      <td>21613.000000</td>\n",
              "      <td>21613.000000</td>\n",
              "      <td>21613.000000</td>\n",
              "      <td>21613.000000</td>\n",
              "      <td>21613.000000</td>\n",
              "      <td>21613.000000</td>\n",
              "      <td>21613.000000</td>\n",
              "      <td>2.161300e+04</td>\n",
              "      <td>21613.000000</td>\n",
              "      <td>21613.000000</td>\n",
              "    </tr>\n",
              "    <tr>\n",
              "      <th>mean</th>\n",
              "      <td>4.580302e+09</td>\n",
              "      <td>5.401822e+05</td>\n",
              "      <td>3.370842</td>\n",
              "      <td>2.114757</td>\n",
              "      <td>2079.899736</td>\n",
              "      <td>1.510697e+04</td>\n",
              "      <td>1.494309</td>\n",
              "      <td>0.007542</td>\n",
              "      <td>0.234303</td>\n",
              "      <td>3.409430</td>\n",
              "      <td>7.656873</td>\n",
              "      <td>1788.390691</td>\n",
              "      <td>291.509045</td>\n",
              "      <td>1971.005136</td>\n",
              "      <td>84.402258</td>\n",
              "      <td>98077.939805</td>\n",
              "      <td>47.560053</td>\n",
              "      <td>-122.213896</td>\n",
              "      <td>1986.552492</td>\n",
              "      <td>12768.455652</td>\n",
              "      <td>0.196687</td>\n",
              "      <td>1.718687e+04</td>\n",
              "      <td>2014.322954</td>\n",
              "      <td>6.574423</td>\n",
              "    </tr>\n",
              "    <tr>\n",
              "      <th>std</th>\n",
              "      <td>2.876566e+09</td>\n",
              "      <td>3.673622e+05</td>\n",
              "      <td>0.930062</td>\n",
              "      <td>0.770163</td>\n",
              "      <td>918.440897</td>\n",
              "      <td>4.142051e+04</td>\n",
              "      <td>0.539989</td>\n",
              "      <td>0.086517</td>\n",
              "      <td>0.766318</td>\n",
              "      <td>0.650743</td>\n",
              "      <td>1.175459</td>\n",
              "      <td>828.090978</td>\n",
              "      <td>442.575043</td>\n",
              "      <td>29.373411</td>\n",
              "      <td>401.679240</td>\n",
              "      <td>53.505026</td>\n",
              "      <td>0.138564</td>\n",
              "      <td>0.140828</td>\n",
              "      <td>685.391304</td>\n",
              "      <td>27304.179631</td>\n",
              "      <td>0.397503</td>\n",
              "      <td>4.158908e+04</td>\n",
              "      <td>0.467616</td>\n",
              "      <td>3.115308</td>\n",
              "    </tr>\n",
              "    <tr>\n",
              "      <th>min</th>\n",
              "      <td>1.000102e+06</td>\n",
              "      <td>7.500000e+04</td>\n",
              "      <td>0.000000</td>\n",
              "      <td>0.000000</td>\n",
              "      <td>290.000000</td>\n",
              "      <td>5.200000e+02</td>\n",
              "      <td>1.000000</td>\n",
              "      <td>0.000000</td>\n",
              "      <td>0.000000</td>\n",
              "      <td>1.000000</td>\n",
              "      <td>1.000000</td>\n",
              "      <td>290.000000</td>\n",
              "      <td>0.000000</td>\n",
              "      <td>1900.000000</td>\n",
              "      <td>0.000000</td>\n",
              "      <td>98001.000000</td>\n",
              "      <td>47.155900</td>\n",
              "      <td>-122.519000</td>\n",
              "      <td>399.000000</td>\n",
              "      <td>651.000000</td>\n",
              "      <td>0.000000</td>\n",
              "      <td>1.423000e+03</td>\n",
              "      <td>2014.000000</td>\n",
              "      <td>1.000000</td>\n",
              "    </tr>\n",
              "    <tr>\n",
              "      <th>25%</th>\n",
              "      <td>2.123049e+09</td>\n",
              "      <td>3.219500e+05</td>\n",
              "      <td>3.000000</td>\n",
              "      <td>1.750000</td>\n",
              "      <td>1427.000000</td>\n",
              "      <td>5.040000e+03</td>\n",
              "      <td>1.000000</td>\n",
              "      <td>0.000000</td>\n",
              "      <td>0.000000</td>\n",
              "      <td>3.000000</td>\n",
              "      <td>7.000000</td>\n",
              "      <td>1190.000000</td>\n",
              "      <td>0.000000</td>\n",
              "      <td>1951.000000</td>\n",
              "      <td>0.000000</td>\n",
              "      <td>98033.000000</td>\n",
              "      <td>47.471000</td>\n",
              "      <td>-122.328000</td>\n",
              "      <td>1490.000000</td>\n",
              "      <td>5100.000000</td>\n",
              "      <td>0.000000</td>\n",
              "      <td>7.035000e+03</td>\n",
              "      <td>2014.000000</td>\n",
              "      <td>4.000000</td>\n",
              "    </tr>\n",
              "    <tr>\n",
              "      <th>50%</th>\n",
              "      <td>3.904930e+09</td>\n",
              "      <td>4.500000e+05</td>\n",
              "      <td>3.000000</td>\n",
              "      <td>2.250000</td>\n",
              "      <td>1910.000000</td>\n",
              "      <td>7.618000e+03</td>\n",
              "      <td>1.500000</td>\n",
              "      <td>0.000000</td>\n",
              "      <td>0.000000</td>\n",
              "      <td>3.000000</td>\n",
              "      <td>7.000000</td>\n",
              "      <td>1560.000000</td>\n",
              "      <td>0.000000</td>\n",
              "      <td>1975.000000</td>\n",
              "      <td>0.000000</td>\n",
              "      <td>98065.000000</td>\n",
              "      <td>47.571800</td>\n",
              "      <td>-122.230000</td>\n",
              "      <td>1840.000000</td>\n",
              "      <td>7620.000000</td>\n",
              "      <td>0.000000</td>\n",
              "      <td>9.575000e+03</td>\n",
              "      <td>2014.000000</td>\n",
              "      <td>6.000000</td>\n",
              "    </tr>\n",
              "    <tr>\n",
              "      <th>75%</th>\n",
              "      <td>7.308900e+09</td>\n",
              "      <td>6.450000e+05</td>\n",
              "      <td>4.000000</td>\n",
              "      <td>2.500000</td>\n",
              "      <td>2550.000000</td>\n",
              "      <td>1.068800e+04</td>\n",
              "      <td>2.000000</td>\n",
              "      <td>0.000000</td>\n",
              "      <td>0.000000</td>\n",
              "      <td>4.000000</td>\n",
              "      <td>8.000000</td>\n",
              "      <td>2210.000000</td>\n",
              "      <td>560.000000</td>\n",
              "      <td>1997.000000</td>\n",
              "      <td>0.000000</td>\n",
              "      <td>98118.000000</td>\n",
              "      <td>47.678000</td>\n",
              "      <td>-122.125000</td>\n",
              "      <td>2360.000000</td>\n",
              "      <td>10083.000000</td>\n",
              "      <td>0.000000</td>\n",
              "      <td>1.300000e+04</td>\n",
              "      <td>2015.000000</td>\n",
              "      <td>9.000000</td>\n",
              "    </tr>\n",
              "    <tr>\n",
              "      <th>max</th>\n",
              "      <td>9.900000e+09</td>\n",
              "      <td>7.700000e+06</td>\n",
              "      <td>33.000000</td>\n",
              "      <td>8.000000</td>\n",
              "      <td>13540.000000</td>\n",
              "      <td>1.651359e+06</td>\n",
              "      <td>3.500000</td>\n",
              "      <td>1.000000</td>\n",
              "      <td>4.000000</td>\n",
              "      <td>5.000000</td>\n",
              "      <td>13.000000</td>\n",
              "      <td>9410.000000</td>\n",
              "      <td>4820.000000</td>\n",
              "      <td>2015.000000</td>\n",
              "      <td>2015.000000</td>\n",
              "      <td>98199.000000</td>\n",
              "      <td>47.777600</td>\n",
              "      <td>-121.315000</td>\n",
              "      <td>6210.000000</td>\n",
              "      <td>871200.000000</td>\n",
              "      <td>1.000000</td>\n",
              "      <td>1.652659e+06</td>\n",
              "      <td>2015.000000</td>\n",
              "      <td>12.000000</td>\n",
              "    </tr>\n",
              "  </tbody>\n",
              "</table>\n",
              "</div>"
            ],
            "text/plain": [
              "                cid         price  ...        soldyr     soldmonth\n",
              "count  2.161300e+04  2.161300e+04  ...  21613.000000  21613.000000\n",
              "mean   4.580302e+09  5.401822e+05  ...   2014.322954      6.574423\n",
              "std    2.876566e+09  3.673622e+05  ...      0.467616      3.115308\n",
              "min    1.000102e+06  7.500000e+04  ...   2014.000000      1.000000\n",
              "25%    2.123049e+09  3.219500e+05  ...   2014.000000      4.000000\n",
              "50%    3.904930e+09  4.500000e+05  ...   2014.000000      6.000000\n",
              "75%    7.308900e+09  6.450000e+05  ...   2015.000000      9.000000\n",
              "max    9.900000e+09  7.700000e+06  ...   2015.000000     12.000000\n",
              "\n",
              "[8 rows x 24 columns]"
            ]
          },
          "metadata": {
            "tags": []
          },
          "execution_count": 7
        }
      ]
    },
    {
      "cell_type": "markdown",
      "metadata": {
        "id": "5Jl3We1BKVZr",
        "colab_type": "text"
      },
      "source": [
        "**checking for presence of missing value**"
      ]
    },
    {
      "cell_type": "code",
      "metadata": {
        "id": "vTuGli0AKRUS",
        "colab_type": "code",
        "colab": {
          "base_uri": "https://localhost:8080/",
          "height": 459
        },
        "outputId": "db7e990b-4f72-4af3-edcc-8b3ea6f10702"
      },
      "source": [
        "missing_values=house_data.isnull()\n",
        "print('Missing values count in datatable:\\n',missing_values.sum())"
      ],
      "execution_count": 8,
      "outputs": [
        {
          "output_type": "stream",
          "text": [
            "Missing values count in datatable:\n",
            " cid                 0\n",
            "price               0\n",
            "room_bed            0\n",
            "room_bath           0\n",
            "living_measure      0\n",
            "lot_measure         0\n",
            "ceil                0\n",
            "coast               0\n",
            "sight               0\n",
            "condition           0\n",
            "quality             0\n",
            "ceil_measure        0\n",
            "basement            0\n",
            "yr_built            0\n",
            "yr_renovated        0\n",
            "zipcode             0\n",
            "lat                 0\n",
            "long                0\n",
            "living_measure15    0\n",
            "lot_measure15       0\n",
            "furnished           0\n",
            "total_area          0\n",
            "soldyr              0\n",
            "soldmonth           0\n",
            "dtype: int64\n"
          ],
          "name": "stdout"
        }
      ]
    },
    {
      "cell_type": "code",
      "metadata": {
        "id": "zfrl4opVKchf",
        "colab_type": "code",
        "colab": {
          "base_uri": "https://localhost:8080/",
          "height": 221
        },
        "outputId": "886b6030-2139-4565-e714-43cae1d80186"
      },
      "source": [
        "#five point summary\n",
        "quartiles=house_data.describe(percentiles=[.25,.50,.75])\n",
        "print('five point summary:\\n',quartiles)"
      ],
      "execution_count": 9,
      "outputs": [
        {
          "output_type": "stream",
          "text": [
            "five point summary:\n",
            "                 cid         price  ...        soldyr     soldmonth\n",
            "count  2.161300e+04  2.161300e+04  ...  21613.000000  21613.000000\n",
            "mean   4.580302e+09  5.401822e+05  ...   2014.322954      6.574423\n",
            "std    2.876566e+09  3.673622e+05  ...      0.467616      3.115308\n",
            "min    1.000102e+06  7.500000e+04  ...   2014.000000      1.000000\n",
            "25%    2.123049e+09  3.219500e+05  ...   2014.000000      4.000000\n",
            "50%    3.904930e+09  4.500000e+05  ...   2014.000000      6.000000\n",
            "75%    7.308900e+09  6.450000e+05  ...   2015.000000      9.000000\n",
            "max    9.900000e+09  7.700000e+06  ...   2015.000000     12.000000\n",
            "\n",
            "[8 rows x 24 columns]\n"
          ],
          "name": "stdout"
        }
      ]
    },
    {
      "cell_type": "markdown",
      "metadata": {
        "id": "tZzkp8LoKjqA",
        "colab_type": "text"
      },
      "source": [
        "From the above,five point summary analysis,we see the most of indepedent variables are skewed.This might be due to outliers.The skewness affects the model performance adversely and hence the skewness of the data needs to be correct.For we first check for outliers & treat the outliers\n",
        "\n",
        "Also,we see that yr_renovated seems to be 0 in most of the case eventhough there was a difference between living measure,lot measure compared to living measure15 & lot measure 15 which doesnt make sense to the dataset.Hence we can remove this column.\n",
        "\n",
        "We can add a column to flag renovated as 1 and 0 based on difference in the area"
      ]
    },
    {
      "cell_type": "code",
      "metadata": {
        "id": "jj04KjZJKfl8",
        "colab_type": "code",
        "colab": {
          "base_uri": "https://localhost:8080/",
          "height": 309
        },
        "outputId": "22d82088-27be-4330-c0ac-9d07a910b01b"
      },
      "source": [
        "#Removing yr_renovated column\n",
        "house_dat=house_data.drop('yr_renovated',axis=1)\n",
        "#Adding a column to flag the renovation\n",
        "house_dat['renovated']=0\n",
        "house_dat['renovated'].loc[((house_dat['living_measure']<house_dat['living_measure15'])|(house_dat['living_measure']>house_dat['living_measure15'])|(house_dat['lot_measure']<house_dat['lot_measure15'])|(house_dat['lot_measure']>house_dat['lot_measure15']))]=1\n",
        "house_dat.head()"
      ],
      "execution_count": 10,
      "outputs": [
        {
          "output_type": "stream",
          "text": [
            "/usr/local/lib/python3.6/dist-packages/pandas/core/indexing.py:671: SettingWithCopyWarning: \n",
            "A value is trying to be set on a copy of a slice from a DataFrame\n",
            "\n",
            "See the caveats in the documentation: https://pandas.pydata.org/pandas-docs/stable/user_guide/indexing.html#returning-a-view-versus-a-copy\n",
            "  self._setitem_with_indexer(indexer, value)\n"
          ],
          "name": "stderr"
        },
        {
          "output_type": "execute_result",
          "data": {
            "text/html": [
              "<div>\n",
              "<style scoped>\n",
              "    .dataframe tbody tr th:only-of-type {\n",
              "        vertical-align: middle;\n",
              "    }\n",
              "\n",
              "    .dataframe tbody tr th {\n",
              "        vertical-align: top;\n",
              "    }\n",
              "\n",
              "    .dataframe thead th {\n",
              "        text-align: right;\n",
              "    }\n",
              "</style>\n",
              "<table border=\"1\" class=\"dataframe\">\n",
              "  <thead>\n",
              "    <tr style=\"text-align: right;\">\n",
              "      <th></th>\n",
              "      <th>cid</th>\n",
              "      <th>price</th>\n",
              "      <th>room_bed</th>\n",
              "      <th>room_bath</th>\n",
              "      <th>living_measure</th>\n",
              "      <th>lot_measure</th>\n",
              "      <th>ceil</th>\n",
              "      <th>coast</th>\n",
              "      <th>sight</th>\n",
              "      <th>condition</th>\n",
              "      <th>quality</th>\n",
              "      <th>ceil_measure</th>\n",
              "      <th>basement</th>\n",
              "      <th>yr_built</th>\n",
              "      <th>zipcode</th>\n",
              "      <th>lat</th>\n",
              "      <th>long</th>\n",
              "      <th>living_measure15</th>\n",
              "      <th>lot_measure15</th>\n",
              "      <th>furnished</th>\n",
              "      <th>total_area</th>\n",
              "      <th>soldyr</th>\n",
              "      <th>soldmonth</th>\n",
              "      <th>renovated</th>\n",
              "    </tr>\n",
              "  </thead>\n",
              "  <tbody>\n",
              "    <tr>\n",
              "      <th>0</th>\n",
              "      <td>3034200666</td>\n",
              "      <td>808100</td>\n",
              "      <td>4</td>\n",
              "      <td>3.25</td>\n",
              "      <td>3020</td>\n",
              "      <td>13457</td>\n",
              "      <td>1.0</td>\n",
              "      <td>0</td>\n",
              "      <td>0</td>\n",
              "      <td>5</td>\n",
              "      <td>9</td>\n",
              "      <td>3020</td>\n",
              "      <td>0</td>\n",
              "      <td>1956</td>\n",
              "      <td>98133</td>\n",
              "      <td>47.7174</td>\n",
              "      <td>-122.336</td>\n",
              "      <td>2120</td>\n",
              "      <td>7553</td>\n",
              "      <td>1</td>\n",
              "      <td>16477</td>\n",
              "      <td>2014</td>\n",
              "      <td>11</td>\n",
              "      <td>1</td>\n",
              "    </tr>\n",
              "    <tr>\n",
              "      <th>1</th>\n",
              "      <td>8731981640</td>\n",
              "      <td>277500</td>\n",
              "      <td>4</td>\n",
              "      <td>2.50</td>\n",
              "      <td>2550</td>\n",
              "      <td>7500</td>\n",
              "      <td>1.0</td>\n",
              "      <td>0</td>\n",
              "      <td>0</td>\n",
              "      <td>3</td>\n",
              "      <td>8</td>\n",
              "      <td>1750</td>\n",
              "      <td>800</td>\n",
              "      <td>1976</td>\n",
              "      <td>98023</td>\n",
              "      <td>47.3165</td>\n",
              "      <td>-122.386</td>\n",
              "      <td>2260</td>\n",
              "      <td>8800</td>\n",
              "      <td>0</td>\n",
              "      <td>10050</td>\n",
              "      <td>2014</td>\n",
              "      <td>12</td>\n",
              "      <td>1</td>\n",
              "    </tr>\n",
              "    <tr>\n",
              "      <th>2</th>\n",
              "      <td>5104530220</td>\n",
              "      <td>404000</td>\n",
              "      <td>3</td>\n",
              "      <td>2.50</td>\n",
              "      <td>2370</td>\n",
              "      <td>4324</td>\n",
              "      <td>2.0</td>\n",
              "      <td>0</td>\n",
              "      <td>0</td>\n",
              "      <td>3</td>\n",
              "      <td>8</td>\n",
              "      <td>2370</td>\n",
              "      <td>0</td>\n",
              "      <td>2006</td>\n",
              "      <td>98038</td>\n",
              "      <td>47.3515</td>\n",
              "      <td>-121.999</td>\n",
              "      <td>2370</td>\n",
              "      <td>4348</td>\n",
              "      <td>0</td>\n",
              "      <td>6694</td>\n",
              "      <td>2015</td>\n",
              "      <td>4</td>\n",
              "      <td>1</td>\n",
              "    </tr>\n",
              "    <tr>\n",
              "      <th>3</th>\n",
              "      <td>6145600285</td>\n",
              "      <td>300000</td>\n",
              "      <td>2</td>\n",
              "      <td>1.00</td>\n",
              "      <td>820</td>\n",
              "      <td>3844</td>\n",
              "      <td>1.0</td>\n",
              "      <td>0</td>\n",
              "      <td>0</td>\n",
              "      <td>4</td>\n",
              "      <td>6</td>\n",
              "      <td>820</td>\n",
              "      <td>0</td>\n",
              "      <td>1916</td>\n",
              "      <td>98133</td>\n",
              "      <td>47.7049</td>\n",
              "      <td>-122.349</td>\n",
              "      <td>1520</td>\n",
              "      <td>3844</td>\n",
              "      <td>0</td>\n",
              "      <td>4664</td>\n",
              "      <td>2014</td>\n",
              "      <td>5</td>\n",
              "      <td>1</td>\n",
              "    </tr>\n",
              "    <tr>\n",
              "      <th>4</th>\n",
              "      <td>8924100111</td>\n",
              "      <td>699000</td>\n",
              "      <td>2</td>\n",
              "      <td>1.50</td>\n",
              "      <td>1400</td>\n",
              "      <td>4050</td>\n",
              "      <td>1.0</td>\n",
              "      <td>0</td>\n",
              "      <td>0</td>\n",
              "      <td>4</td>\n",
              "      <td>8</td>\n",
              "      <td>1400</td>\n",
              "      <td>0</td>\n",
              "      <td>1954</td>\n",
              "      <td>98115</td>\n",
              "      <td>47.6768</td>\n",
              "      <td>-122.269</td>\n",
              "      <td>1900</td>\n",
              "      <td>5940</td>\n",
              "      <td>0</td>\n",
              "      <td>5450</td>\n",
              "      <td>2015</td>\n",
              "      <td>4</td>\n",
              "      <td>1</td>\n",
              "    </tr>\n",
              "  </tbody>\n",
              "</table>\n",
              "</div>"
            ],
            "text/plain": [
              "          cid   price  room_bed  ...  soldyr  soldmonth  renovated\n",
              "0  3034200666  808100         4  ...    2014         11          1\n",
              "1  8731981640  277500         4  ...    2014         12          1\n",
              "2  5104530220  404000         3  ...    2015          4          1\n",
              "3  6145600285  300000         2  ...    2014          5          1\n",
              "4  8924100111  699000         2  ...    2015          4          1\n",
              "\n",
              "[5 rows x 24 columns]"
            ]
          },
          "metadata": {
            "tags": []
          },
          "execution_count": 10
        }
      ]
    },
    {
      "cell_type": "markdown",
      "metadata": {
        "id": "qTOY3pwKKthV",
        "colab_type": "text"
      },
      "source": [
        "Since we had a new column \"renovation\" to indicate whether the house was renovated or not.We can drop off living measure15 and lot measure15 columns"
      ]
    },
    {
      "cell_type": "code",
      "metadata": {
        "id": "Ix-8-b9QKm46",
        "colab_type": "code",
        "colab": {
          "base_uri": "https://localhost:8080/",
          "height": 224
        },
        "outputId": "34a7eab1-9820-436f-ec71-efd7027d201d"
      },
      "source": [
        "#Removing living_measure 15 and lot_measure15 columns\n",
        "house_dat1=house_dat.drop(['living_measure15','lot_measure15'],axis=1)\n",
        "house_dat1.head()"
      ],
      "execution_count": 11,
      "outputs": [
        {
          "output_type": "execute_result",
          "data": {
            "text/html": [
              "<div>\n",
              "<style scoped>\n",
              "    .dataframe tbody tr th:only-of-type {\n",
              "        vertical-align: middle;\n",
              "    }\n",
              "\n",
              "    .dataframe tbody tr th {\n",
              "        vertical-align: top;\n",
              "    }\n",
              "\n",
              "    .dataframe thead th {\n",
              "        text-align: right;\n",
              "    }\n",
              "</style>\n",
              "<table border=\"1\" class=\"dataframe\">\n",
              "  <thead>\n",
              "    <tr style=\"text-align: right;\">\n",
              "      <th></th>\n",
              "      <th>cid</th>\n",
              "      <th>price</th>\n",
              "      <th>room_bed</th>\n",
              "      <th>room_bath</th>\n",
              "      <th>living_measure</th>\n",
              "      <th>lot_measure</th>\n",
              "      <th>ceil</th>\n",
              "      <th>coast</th>\n",
              "      <th>sight</th>\n",
              "      <th>condition</th>\n",
              "      <th>quality</th>\n",
              "      <th>ceil_measure</th>\n",
              "      <th>basement</th>\n",
              "      <th>yr_built</th>\n",
              "      <th>zipcode</th>\n",
              "      <th>lat</th>\n",
              "      <th>long</th>\n",
              "      <th>furnished</th>\n",
              "      <th>total_area</th>\n",
              "      <th>soldyr</th>\n",
              "      <th>soldmonth</th>\n",
              "      <th>renovated</th>\n",
              "    </tr>\n",
              "  </thead>\n",
              "  <tbody>\n",
              "    <tr>\n",
              "      <th>0</th>\n",
              "      <td>3034200666</td>\n",
              "      <td>808100</td>\n",
              "      <td>4</td>\n",
              "      <td>3.25</td>\n",
              "      <td>3020</td>\n",
              "      <td>13457</td>\n",
              "      <td>1.0</td>\n",
              "      <td>0</td>\n",
              "      <td>0</td>\n",
              "      <td>5</td>\n",
              "      <td>9</td>\n",
              "      <td>3020</td>\n",
              "      <td>0</td>\n",
              "      <td>1956</td>\n",
              "      <td>98133</td>\n",
              "      <td>47.7174</td>\n",
              "      <td>-122.336</td>\n",
              "      <td>1</td>\n",
              "      <td>16477</td>\n",
              "      <td>2014</td>\n",
              "      <td>11</td>\n",
              "      <td>1</td>\n",
              "    </tr>\n",
              "    <tr>\n",
              "      <th>1</th>\n",
              "      <td>8731981640</td>\n",
              "      <td>277500</td>\n",
              "      <td>4</td>\n",
              "      <td>2.50</td>\n",
              "      <td>2550</td>\n",
              "      <td>7500</td>\n",
              "      <td>1.0</td>\n",
              "      <td>0</td>\n",
              "      <td>0</td>\n",
              "      <td>3</td>\n",
              "      <td>8</td>\n",
              "      <td>1750</td>\n",
              "      <td>800</td>\n",
              "      <td>1976</td>\n",
              "      <td>98023</td>\n",
              "      <td>47.3165</td>\n",
              "      <td>-122.386</td>\n",
              "      <td>0</td>\n",
              "      <td>10050</td>\n",
              "      <td>2014</td>\n",
              "      <td>12</td>\n",
              "      <td>1</td>\n",
              "    </tr>\n",
              "    <tr>\n",
              "      <th>2</th>\n",
              "      <td>5104530220</td>\n",
              "      <td>404000</td>\n",
              "      <td>3</td>\n",
              "      <td>2.50</td>\n",
              "      <td>2370</td>\n",
              "      <td>4324</td>\n",
              "      <td>2.0</td>\n",
              "      <td>0</td>\n",
              "      <td>0</td>\n",
              "      <td>3</td>\n",
              "      <td>8</td>\n",
              "      <td>2370</td>\n",
              "      <td>0</td>\n",
              "      <td>2006</td>\n",
              "      <td>98038</td>\n",
              "      <td>47.3515</td>\n",
              "      <td>-121.999</td>\n",
              "      <td>0</td>\n",
              "      <td>6694</td>\n",
              "      <td>2015</td>\n",
              "      <td>4</td>\n",
              "      <td>1</td>\n",
              "    </tr>\n",
              "    <tr>\n",
              "      <th>3</th>\n",
              "      <td>6145600285</td>\n",
              "      <td>300000</td>\n",
              "      <td>2</td>\n",
              "      <td>1.00</td>\n",
              "      <td>820</td>\n",
              "      <td>3844</td>\n",
              "      <td>1.0</td>\n",
              "      <td>0</td>\n",
              "      <td>0</td>\n",
              "      <td>4</td>\n",
              "      <td>6</td>\n",
              "      <td>820</td>\n",
              "      <td>0</td>\n",
              "      <td>1916</td>\n",
              "      <td>98133</td>\n",
              "      <td>47.7049</td>\n",
              "      <td>-122.349</td>\n",
              "      <td>0</td>\n",
              "      <td>4664</td>\n",
              "      <td>2014</td>\n",
              "      <td>5</td>\n",
              "      <td>1</td>\n",
              "    </tr>\n",
              "    <tr>\n",
              "      <th>4</th>\n",
              "      <td>8924100111</td>\n",
              "      <td>699000</td>\n",
              "      <td>2</td>\n",
              "      <td>1.50</td>\n",
              "      <td>1400</td>\n",
              "      <td>4050</td>\n",
              "      <td>1.0</td>\n",
              "      <td>0</td>\n",
              "      <td>0</td>\n",
              "      <td>4</td>\n",
              "      <td>8</td>\n",
              "      <td>1400</td>\n",
              "      <td>0</td>\n",
              "      <td>1954</td>\n",
              "      <td>98115</td>\n",
              "      <td>47.6768</td>\n",
              "      <td>-122.269</td>\n",
              "      <td>0</td>\n",
              "      <td>5450</td>\n",
              "      <td>2015</td>\n",
              "      <td>4</td>\n",
              "      <td>1</td>\n",
              "    </tr>\n",
              "  </tbody>\n",
              "</table>\n",
              "</div>"
            ],
            "text/plain": [
              "          cid   price  room_bed  ...  soldyr  soldmonth  renovated\n",
              "0  3034200666  808100         4  ...    2014         11          1\n",
              "1  8731981640  277500         4  ...    2014         12          1\n",
              "2  5104530220  404000         3  ...    2015          4          1\n",
              "3  6145600285  300000         2  ...    2014          5          1\n",
              "4  8924100111  699000         2  ...    2015          4          1\n",
              "\n",
              "[5 rows x 22 columns]"
            ]
          },
          "metadata": {
            "tags": []
          },
          "execution_count": 11
        }
      ]
    },
    {
      "cell_type": "markdown",
      "metadata": {
        "id": "P9ZXghkPKzVg",
        "colab_type": "text"
      },
      "source": [
        "Checking for outlier"
      ]
    },
    {
      "cell_type": "code",
      "metadata": {
        "id": "pJN6ANPWKwo_",
        "colab_type": "code",
        "colab": {
          "base_uri": "https://localhost:8080/",
          "height": 1000
        },
        "outputId": "199fd6b1-5a1d-4bde-da1f-966b16097ac7"
      },
      "source": [
        "#checking outlier using IQR\n",
        "Q1=house_dat1.quantile(0.25)\n",
        "Q3=house_dat1.quantile(0.75)\n",
        "IQR=Q3-Q1\n",
        "low_value  = Q1-1.5*IQR\n",
        "high_value = Q3+1.5*IQR\n",
        "print(low_value,high_value)\n",
        "dfnonoutlier=(house_dat1>low_value) & (house_dat1<high_value)\n",
        "print('Non outlier count in datatable:\\n',dfnonoutlier.sum())"
      ],
      "execution_count": 12,
      "outputs": [
        {
          "output_type": "stream",
          "text": [
            "cid              -5.655728e+09\n",
            "price            -1.626250e+05\n",
            "room_bed          1.500000e+00\n",
            "room_bath         6.250000e-01\n",
            "living_measure   -2.575000e+02\n",
            "lot_measure      -3.432000e+03\n",
            "ceil             -5.000000e-01\n",
            "coast             0.000000e+00\n",
            "sight             0.000000e+00\n",
            "condition         1.500000e+00\n",
            "quality           5.500000e+00\n",
            "ceil_measure     -3.400000e+02\n",
            "basement         -8.400000e+02\n",
            "yr_built          1.882000e+03\n",
            "zipcode           9.790550e+04\n",
            "lat               4.716050e+01\n",
            "long             -1.226325e+02\n",
            "furnished         0.000000e+00\n",
            "total_area       -1.912500e+03\n",
            "soldyr            2.012500e+03\n",
            "soldmonth        -3.500000e+00\n",
            "renovated         1.000000e+00\n",
            "dtype: float64 cid               1.508768e+10\n",
            "price             1.129575e+06\n",
            "room_bed          5.500000e+00\n",
            "room_bath         3.625000e+00\n",
            "living_measure    4.234500e+03\n",
            "lot_measure       1.916000e+04\n",
            "ceil              3.500000e+00\n",
            "coast             0.000000e+00\n",
            "sight             0.000000e+00\n",
            "condition         5.500000e+00\n",
            "quality           9.500000e+00\n",
            "ceil_measure      3.740000e+03\n",
            "basement          1.400000e+03\n",
            "yr_built          2.066000e+03\n",
            "zipcode           9.824550e+04\n",
            "lat               4.798850e+01\n",
            "long             -1.218205e+02\n",
            "furnished         0.000000e+00\n",
            "total_area        2.194750e+04\n",
            "soldyr            2.016500e+03\n",
            "soldmonth         1.650000e+01\n",
            "renovated         1.000000e+00\n",
            "dtype: float64\n",
            "Non outlier count in datatable:\n",
            " cid               21613\n",
            "price             20454\n",
            "room_bed          21067\n",
            "room_bath         21042\n",
            "living_measure    21041\n",
            "lot_measure       19188\n",
            "ceil              21605\n",
            "coast                 0\n",
            "sight                 0\n",
            "condition         21583\n",
            "quality           19702\n",
            "ceil_measure      20994\n",
            "basement          21078\n",
            "yr_built          21613\n",
            "zipcode           21613\n",
            "lat               21611\n",
            "long              21357\n",
            "furnished             0\n",
            "total_area        19194\n",
            "soldyr            21613\n",
            "soldmonth         21613\n",
            "renovated             0\n",
            "dtype: int64\n"
          ],
          "name": "stdout"
        }
      ]
    },
    {
      "cell_type": "markdown",
      "metadata": {
        "id": "anlTxnX7K7rp",
        "colab_type": "text"
      },
      "source": [
        "From the above analysis,we see outliers in the most of the independent variables.We can ignore coast,sight,furnished,renovation for outlier treatment as these hold binary value For the other continuous variable like room_bed,room_bath,living_measure,lot_measure,ceil,condition,quality,ceil_measure,basement,total_area ,we would treat outliers with the 10% and 90% quantiles"
      ]
    },
    {
      "cell_type": "code",
      "metadata": {
        "id": "9n9HLdMfK3oY",
        "colab_type": "code",
        "colab": {
          "base_uri": "https://localhost:8080/",
          "height": 1000
        },
        "outputId": "d3936d9d-8fdb-4a6d-9bb0-0ca62a3326b1"
      },
      "source": [
        "#Box plot to visualise outlier\n",
        "house_dat1.boxplot('room_bed')\n",
        "plt.show()\n",
        "house_dat1.boxplot('room_bath')\n",
        "plt.show()\n",
        "house_dat1.boxplot('living_measure')\n",
        "plt.show()\n",
        "house_dat1.boxplot('lot_measure')\n",
        "plt.show()\n",
        "house_dat1.boxplot('ceil')\n",
        "plt.show()\n",
        "house_dat1.boxplot('condition')\n",
        "plt.show()\n",
        "house_dat1.boxplot('ceil_measure')\n",
        "plt.show()\n",
        "house_dat1.boxplot('basement')\n",
        "plt.show()\n",
        "house_dat1.boxplot('total_area')\n",
        "plt.show()"
      ],
      "execution_count": 13,
      "outputs": [
        {
          "output_type": "display_data",
          "data": {
            "image/png": "[encoded data removed]",
            "text/plain": [
              "<Figure size 432x288 with 1 Axes>"
            ]
          },
          "metadata": {
            "tags": []
          }
        },
        {
          "output_type": "display_data",
          "data": {
            "image/png": "[encoded data removed]",
            "text/plain": [
              "<Figure size 432x288 with 1 Axes>"
            ]
          },
          "metadata": {
            "tags": []
          }
        },
        {
          "output_type": "display_data",
          "data": {
            "image/png": "[encoded data removed]",
            "text/plain": [
              "<Figure size 432x288 with 1 Axes>"
            ]
          },
          "metadata": {
            "tags": []
          }
        },
        {
          "output_type": "display_data",
          "data": {
            "image/png": "[encoded data removed]",
            "text/plain": [
              "<Figure size 432x288 with 1 Axes>"
            ]
          },
          "metadata": {
            "tags": []
          }
        },
        {
          "output_type": "display_data",
          "data": {
            "image/png": "[encoded data removed]",
            "text/plain": [
              "<Figure size 432x288 with 1 Axes>"
            ]
          },
          "metadata": {
            "tags": []
          }
        },
        {
          "output_type": "display_data",
          "data": {
            "image/png": "[encoded data removed]",
            "text/plain": [
              "<Figure size 432x288 with 1 Axes>"
            ]
          },
          "metadata": {
            "tags": []
          }
        },
        {
          "output_type": "display_data",
          "data": {
            "image/png": "[encoded data removed]",
            "text/plain": [
              "<Figure size 432x288 with 1 Axes>"
            ]
          },
          "metadata": {
            "tags": []
          }
        },
        {
          "output_type": "display_data",
          "data": {
            "image/png": "[encoded data removed]",
            "text/plain": [
              "<Figure size 432x288 with 1 Axes>"
            ]
          },
          "metadata": {
            "tags": []
          }
        },
        {
          "output_type": "display_data",
          "data": {
            "image/png": "[encoded data removed]",
            "text/plain": [
              "<Figure size 432x288 with 1 Axes>"
            ]
          },
          "metadata": {
            "tags": []
          }
        }
      ]
    },
    {
      "cell_type": "code",
      "metadata": {
        "id": "ZdE1IDRXK_LS",
        "colab_type": "code",
        "colab": {
          "base_uri": "https://localhost:8080/",
          "height": 782
        },
        "outputId": "59fa3d25-7520-4d4e-dfe0-859e70133dea"
      },
      "source": [
        "#calculating 10% & 90% quantile\n",
        "lowerquantile=house_dat1.quantile(0.10)\n",
        "upperquantile=house_dat1.quantile(0.90)\n",
        "print(lowerquantile,upperquantile)"
      ],
      "execution_count": 14,
      "outputs": [
        {
          "output_type": "stream",
          "text": [
            "cid               1.036000e+09\n",
            "price             2.450000e+05\n",
            "room_bed          2.000000e+00\n",
            "room_bath         1.000000e+00\n",
            "living_measure    1.090000e+03\n",
            "lot_measure       3.322200e+03\n",
            "ceil              1.000000e+00\n",
            "coast             0.000000e+00\n",
            "sight             0.000000e+00\n",
            "condition         3.000000e+00\n",
            "quality           6.000000e+00\n",
            "ceil_measure      9.700000e+02\n",
            "basement          0.000000e+00\n",
            "yr_built          1.926000e+03\n",
            "zipcode           9.800800e+04\n",
            "lat               4.735030e+01\n",
            "long             -1.223720e+02\n",
            "furnished         0.000000e+00\n",
            "total_area        4.941200e+03\n",
            "soldyr            2.014000e+03\n",
            "soldmonth         2.000000e+00\n",
            "renovated         1.000000e+00\n",
            "Name: 0.1, dtype: float64 cid               8.732028e+09\n",
            "price             8.870000e+05\n",
            "room_bed          4.000000e+00\n",
            "room_bath         3.000000e+00\n",
            "living_measure    3.250000e+03\n",
            "lot_measure       2.139760e+04\n",
            "ceil              2.000000e+00\n",
            "coast             0.000000e+00\n",
            "sight             0.000000e+00\n",
            "condition         4.000000e+00\n",
            "quality           9.000000e+00\n",
            "ceil_measure      2.950000e+03\n",
            "basement          9.700000e+02\n",
            "yr_built          2.007000e+03\n",
            "zipcode           9.815500e+04\n",
            "lat               4.772790e+01\n",
            "long             -1.220220e+02\n",
            "furnished         1.000000e+00\n",
            "total_area        2.408880e+04\n",
            "soldyr            2.015000e+03\n",
            "soldmonth         1.100000e+01\n",
            "renovated         1.000000e+00\n",
            "Name: 0.9, dtype: float64\n"
          ],
          "name": "stdout"
        }
      ]
    },
    {
      "cell_type": "code",
      "metadata": {
        "id": "dlnLxc1-LDHB",
        "colab_type": "code",
        "colab": {
          "base_uri": "https://localhost:8080/",
          "height": 102
        },
        "outputId": "08e598f8-944e-4fb4-afe8-154f2c9719c9"
      },
      "source": [
        "# treating outliers by replacing lower outlier with  quartile 10% and higher outlier with quartile 90%\n",
        "house_dat1['room_bed'].loc[(house_dat1['room_bed']<1.500000e+00)]=2.000000e+00\n",
        "house_dat1['room_bed'].loc[(house_data['room_bed']>5.500000e+00)]= 4.000000e+00\n",
        "house_dat1['room_bath'].loc[(house_data['room_bath']<6.250000e-01)]=1.000000e+00\n",
        "house_dat1['room_bath'].loc[(house_data['room_bath']>3.625000e+00)]=3.000000e+00\n",
        "house_dat1['living_measure'].loc[(house_data['living_measure']<-2.575000e+02)]=1.090000e+03\n",
        "house_dat1['living_measure'].loc[(house_data['living_measure']>4.234500e+03)]=3.250000e+03\n",
        "house_dat1['lot_measure'].loc[(house_data['lot_measure']<-3.432000e+03)]=3.322200e+03\n",
        "house_dat1['lot_measure'].loc[(house_data['lot_measure']>1.916000e+04)]=2.139760e+04\n",
        "house_dat1['ceil'].loc[(house_data['ceil']<-5.000000e-01)]=1.000000e+00\n",
        "house_dat1['ceil'].loc[(house_data['ceil']>3.500000e+00)]=2.000000e+00\n",
        "house_dat1['condition'].loc[(house_data['condition']<1.500000e+00)]=3.000000e+00\n",
        "house_dat1['condition'].loc[(house_data['condition']>5.500000e+00)]=4.000000e+00\n",
        "house_dat1['quality'].loc[(house_data['quality']<5.500000e+00)]= 6.000000e+00\n",
        "house_dat1['quality'].loc[(house_data['quality']>9.500000e+00)]=9.000000e+00\n",
        "house_dat1['ceil_measure'].loc[(house_data['ceil_measure']<-3.400000e+02)]=9.700000e+02\n",
        "house_dat1['ceil_measure'].loc[(house_data['ceil_measure']>3.740000e+03)]=2.950000e+03\n",
        "house_dat1['basement'].loc[(house_data['basement']<-8.400000e+02)]=0.000000e+00\n",
        "house_dat1['basement'].loc[(house_data['basement']>1.400000e+03)]=9.700000e+02\n",
        "house_dat1['long'].loc[(house_data['long']<-1.226325e+02)]=-1.223870e+02\n",
        "house_dat1['long'].loc[(house_data['long']>-1.218205e+02)]=-1.219790e+02\n",
        "house_dat1['total_area'].loc[(house_data['total_area']<-1.912500e+03)]=4.941200e+03\n",
        "house_dat1['total_area'].loc[(house_data['total_area']>2.194750e+04)]=2.408880e+04"
      ],
      "execution_count": 15,
      "outputs": [
        {
          "output_type": "stream",
          "text": [
            "/usr/local/lib/python3.6/dist-packages/pandas/core/indexing.py:671: SettingWithCopyWarning: \n",
            "A value is trying to be set on a copy of a slice from a DataFrame\n",
            "\n",
            "See the caveats in the documentation: https://pandas.pydata.org/pandas-docs/stable/user_guide/indexing.html#returning-a-view-versus-a-copy\n",
            "  self._setitem_with_indexer(indexer, value)\n"
          ],
          "name": "stderr"
        }
      ]
    },
    {
      "cell_type": "code",
      "metadata": {
        "id": "IOXf-yZLLJV-",
        "colab_type": "code",
        "colab": {
          "base_uri": "https://localhost:8080/",
          "height": 1000
        },
        "outputId": "8963c64b-ba02-4b21-b82e-bf06950c671c"
      },
      "source": [
        "#Box plot to validate after removal of outlier\n",
        "house_dat1.boxplot('room_bed')\n",
        "plt.show()\n",
        "house_dat1.boxplot('room_bath')\n",
        "plt.show()\n",
        "house_dat1.boxplot('living_measure')\n",
        "plt.show()\n",
        "house_dat1.boxplot('lot_measure')\n",
        "plt.show()\n",
        "house_dat1.boxplot('ceil')\n",
        "plt.show()\n",
        "house_dat1.boxplot('condition')\n",
        "plt.show()\n",
        "house_dat1.boxplot('quality')\n",
        "plt.show()\n",
        "house_dat1.boxplot('ceil_measure')\n",
        "plt.show()\n",
        "house_dat1.boxplot('basement')\n",
        "plt.show()\n",
        "house_dat1.boxplot('long')\n",
        "plt.show()\n",
        "house_dat1.boxplot('total_area')\n",
        "plt.show()"
      ],
      "execution_count": 16,
      "outputs": [
        {
          "output_type": "display_data",
          "data": {
            "image/png": "[encoded data removed]",
            "text/plain": [
              "<Figure size 432x288 with 1 Axes>"
            ]
          },
          "metadata": {
            "tags": []
          }
        },
        {
          "output_type": "display_data",
          "data": {
            "image/png": "[encoded data removed]",
            "text/plain": [
              "<Figure size 432x288 with 1 Axes>"
            ]
          },
          "metadata": {
            "tags": []
          }
        },
        {
          "output_type": "display_data",
          "data": {
            "image/png": "[encoded data removed]",
            "text/plain": [
              "<Figure size 432x288 with 1 Axes>"
            ]
          },
          "metadata": {
            "tags": []
          }
        },
        {
          "output_type": "display_data",
          "data": {
            "image/png": "[encoded data removed]",
            "text/plain": [
              "<Figure size 432x288 with 1 Axes>"
            ]
          },
          "metadata": {
            "tags": []
          }
        },
        {
          "output_type": "display_data",
          "data": {
            "image/png": "[encoded data removed]",
            "text/plain": [
              "<Figure size 432x288 with 1 Axes>"
            ]
          },
          "metadata": {
            "tags": []
          }
        },
        {
          "output_type": "display_data",
          "data": {
            "image/png": "[encoded data removed]",
            "text/plain": [
              "<Figure size 432x288 with 1 Axes>"
            ]
          },
          "metadata": {
            "tags": []
          }
        },
        {
          "output_type": "display_data",
          "data": {
            "image/png": "[encoded data removed]",
            "text/plain": [
              "<Figure size 432x288 with 1 Axes>"
            ]
          },
          "metadata": {
            "tags": []
          }
        },
        {
          "output_type": "display_data",
          "data": {
            "image/png": "[encoded data removed]",
            "text/plain": [
              "<Figure size 432x288 with 1 Axes>"
            ]
          },
          "metadata": {
            "tags": []
          }
        },
        {
          "output_type": "display_data",
          "data": {
            "image/png": "[encoded data removed]",
            "text/plain": [
              "<Figure size 432x288 with 1 Axes>"
            ]
          },
          "metadata": {
            "tags": []
          }
        },
        {
          "output_type": "display_data",
          "data": {
            "image/png": "[encoded data removed]",
            "text/plain": [
              "<Figure size 432x288 with 1 Axes>"
            ]
          },
          "metadata": {
            "tags": []
          }
        },
        {
          "output_type": "display_data",
          "data": {
            "image/png": "[encoded data removed]",
            "text/plain": [
              "<Figure size 432x288 with 1 Axes>"
            ]
          },
          "metadata": {
            "tags": []
          }
        }
      ]
    },
    {
      "cell_type": "code",
      "metadata": {
        "id": "alq4ivu-LNEQ",
        "colab_type": "code",
        "colab": {
          "base_uri": "https://localhost:8080/",
          "height": 51
        },
        "outputId": "d5de7247-f519-4ba5-e54d-3029870dea97"
      },
      "source": [
        "#Identify unique values in each column\n",
        "print('unique values in cid:',house_dat1['cid'].unique().size)\n",
        "print('unique values in zipcode:',house_dat1['zipcode'].unique().size)"
      ],
      "execution_count": 17,
      "outputs": [
        {
          "output_type": "stream",
          "text": [
            "unique values in cid: 21436\n",
            "unique values in zipcode: 70\n"
          ],
          "name": "stdout"
        }
      ]
    },
    {
      "cell_type": "code",
      "metadata": {
        "id": "IzIymhkhLUMg",
        "colab_type": "code",
        "colab": {}
      },
      "source": [
        "#removing the cid column as it doesnt conribute to price\n",
        "house_dat2=house_dat1.drop(['cid'],axis=1)"
      ],
      "execution_count": 0,
      "outputs": []
    },
    {
      "cell_type": "markdown",
      "metadata": {
        "id": "8PBwX2mNLZt6",
        "colab_type": "text"
      },
      "source": [
        "Label encoding for zip code"
      ]
    },
    {
      "cell_type": "code",
      "metadata": {
        "id": "mP3XnpdaLXPS",
        "colab_type": "code",
        "colab": {
          "base_uri": "https://localhost:8080/",
          "height": 224
        },
        "outputId": "957f6dac-8007-438b-c389-5f56e6c521c2"
      },
      "source": [
        "#converting the categorical variables cid & zipcode to numerical values using label encoder\n",
        "preprocess=preprocessing.LabelEncoder()\n",
        "#house_dat2['cid']=preprocess.fit_transform(house_dat2.loc[:,'cid'])\n",
        "house_dat2['zipcode']=preprocess.fit_transform(house_dat2.loc[:,'zipcode'])\n",
        "house_dat2.head()"
      ],
      "execution_count": 19,
      "outputs": [
        {
          "output_type": "execute_result",
          "data": {
            "text/html": [
              "<div>\n",
              "<style scoped>\n",
              "    .dataframe tbody tr th:only-of-type {\n",
              "        vertical-align: middle;\n",
              "    }\n",
              "\n",
              "    .dataframe tbody tr th {\n",
              "        vertical-align: top;\n",
              "    }\n",
              "\n",
              "    .dataframe thead th {\n",
              "        text-align: right;\n",
              "    }\n",
              "</style>\n",
              "<table border=\"1\" class=\"dataframe\">\n",
              "  <thead>\n",
              "    <tr style=\"text-align: right;\">\n",
              "      <th></th>\n",
              "      <th>price</th>\n",
              "      <th>room_bed</th>\n",
              "      <th>room_bath</th>\n",
              "      <th>living_measure</th>\n",
              "      <th>lot_measure</th>\n",
              "      <th>ceil</th>\n",
              "      <th>coast</th>\n",
              "      <th>sight</th>\n",
              "      <th>condition</th>\n",
              "      <th>quality</th>\n",
              "      <th>ceil_measure</th>\n",
              "      <th>basement</th>\n",
              "      <th>yr_built</th>\n",
              "      <th>zipcode</th>\n",
              "      <th>lat</th>\n",
              "      <th>long</th>\n",
              "      <th>furnished</th>\n",
              "      <th>total_area</th>\n",
              "      <th>soldyr</th>\n",
              "      <th>soldmonth</th>\n",
              "      <th>renovated</th>\n",
              "    </tr>\n",
              "  </thead>\n",
              "  <tbody>\n",
              "    <tr>\n",
              "      <th>0</th>\n",
              "      <td>808100</td>\n",
              "      <td>4.0</td>\n",
              "      <td>3.25</td>\n",
              "      <td>3020.0</td>\n",
              "      <td>13457.0</td>\n",
              "      <td>1.0</td>\n",
              "      <td>0</td>\n",
              "      <td>0</td>\n",
              "      <td>5.0</td>\n",
              "      <td>9.0</td>\n",
              "      <td>3020.0</td>\n",
              "      <td>0.0</td>\n",
              "      <td>1956</td>\n",
              "      <td>57</td>\n",
              "      <td>47.7174</td>\n",
              "      <td>-122.336</td>\n",
              "      <td>1</td>\n",
              "      <td>16477.0</td>\n",
              "      <td>2014</td>\n",
              "      <td>11</td>\n",
              "      <td>1</td>\n",
              "    </tr>\n",
              "    <tr>\n",
              "      <th>1</th>\n",
              "      <td>277500</td>\n",
              "      <td>4.0</td>\n",
              "      <td>2.50</td>\n",
              "      <td>2550.0</td>\n",
              "      <td>7500.0</td>\n",
              "      <td>1.0</td>\n",
              "      <td>0</td>\n",
              "      <td>0</td>\n",
              "      <td>3.0</td>\n",
              "      <td>8.0</td>\n",
              "      <td>1750.0</td>\n",
              "      <td>800.0</td>\n",
              "      <td>1976</td>\n",
              "      <td>13</td>\n",
              "      <td>47.3165</td>\n",
              "      <td>-122.386</td>\n",
              "      <td>0</td>\n",
              "      <td>10050.0</td>\n",
              "      <td>2014</td>\n",
              "      <td>12</td>\n",
              "      <td>1</td>\n",
              "    </tr>\n",
              "    <tr>\n",
              "      <th>2</th>\n",
              "      <td>404000</td>\n",
              "      <td>3.0</td>\n",
              "      <td>2.50</td>\n",
              "      <td>2370.0</td>\n",
              "      <td>4324.0</td>\n",
              "      <td>2.0</td>\n",
              "      <td>0</td>\n",
              "      <td>0</td>\n",
              "      <td>3.0</td>\n",
              "      <td>8.0</td>\n",
              "      <td>2370.0</td>\n",
              "      <td>0.0</td>\n",
              "      <td>2006</td>\n",
              "      <td>23</td>\n",
              "      <td>47.3515</td>\n",
              "      <td>-121.999</td>\n",
              "      <td>0</td>\n",
              "      <td>6694.0</td>\n",
              "      <td>2015</td>\n",
              "      <td>4</td>\n",
              "      <td>1</td>\n",
              "    </tr>\n",
              "    <tr>\n",
              "      <th>3</th>\n",
              "      <td>300000</td>\n",
              "      <td>2.0</td>\n",
              "      <td>1.00</td>\n",
              "      <td>820.0</td>\n",
              "      <td>3844.0</td>\n",
              "      <td>1.0</td>\n",
              "      <td>0</td>\n",
              "      <td>0</td>\n",
              "      <td>4.0</td>\n",
              "      <td>6.0</td>\n",
              "      <td>820.0</td>\n",
              "      <td>0.0</td>\n",
              "      <td>1916</td>\n",
              "      <td>57</td>\n",
              "      <td>47.7049</td>\n",
              "      <td>-122.349</td>\n",
              "      <td>0</td>\n",
              "      <td>4664.0</td>\n",
              "      <td>2014</td>\n",
              "      <td>5</td>\n",
              "      <td>1</td>\n",
              "    </tr>\n",
              "    <tr>\n",
              "      <th>4</th>\n",
              "      <td>699000</td>\n",
              "      <td>2.0</td>\n",
              "      <td>1.50</td>\n",
              "      <td>1400.0</td>\n",
              "      <td>4050.0</td>\n",
              "      <td>1.0</td>\n",
              "      <td>0</td>\n",
              "      <td>0</td>\n",
              "      <td>4.0</td>\n",
              "      <td>8.0</td>\n",
              "      <td>1400.0</td>\n",
              "      <td>0.0</td>\n",
              "      <td>1954</td>\n",
              "      <td>49</td>\n",
              "      <td>47.6768</td>\n",
              "      <td>-122.269</td>\n",
              "      <td>0</td>\n",
              "      <td>5450.0</td>\n",
              "      <td>2015</td>\n",
              "      <td>4</td>\n",
              "      <td>1</td>\n",
              "    </tr>\n",
              "  </tbody>\n",
              "</table>\n",
              "</div>"
            ],
            "text/plain": [
              "    price  room_bed  room_bath  ...  soldyr  soldmonth  renovated\n",
              "0  808100       4.0       3.25  ...    2014         11          1\n",
              "1  277500       4.0       2.50  ...    2014         12          1\n",
              "2  404000       3.0       2.50  ...    2015          4          1\n",
              "3  300000       2.0       1.00  ...    2014          5          1\n",
              "4  699000       2.0       1.50  ...    2015          4          1\n",
              "\n",
              "[5 rows x 21 columns]"
            ]
          },
          "metadata": {
            "tags": []
          },
          "execution_count": 19
        }
      ]
    },
    {
      "cell_type": "markdown",
      "metadata": {
        "id": "WYxi2rMsLhH_",
        "colab_type": "text"
      },
      "source": [
        "Feature scaling using z score"
      ]
    },
    {
      "cell_type": "code",
      "metadata": {
        "id": "69-o6wdILdlV",
        "colab_type": "code",
        "colab": {}
      },
      "source": [
        "#scaling\n",
        "from scipy.stats import zscore\n",
        "housedat_scaled = house_dat2.loc[:,'price':'renovated']\n",
        "housedat_scaled_z = housedat_scaled.apply(zscore)"
      ],
      "execution_count": 0,
      "outputs": []
    },
    {
      "cell_type": "markdown",
      "metadata": {
        "id": "AvF2hjfCLotX",
        "colab_type": "text"
      },
      "source": [
        "**Studying relationship of target/other variable in the given data set using pair plot**"
      ]
    },
    {
      "cell_type": "code",
      "metadata": {
        "id": "sL5pnFiyLlYR",
        "colab_type": "code",
        "colab": {}
      },
      "source": [
        "#sns.pairplot(housedat_scaled_z,diag_kind = 'kde')\n",
        "#plt.show"
      ],
      "execution_count": 0,
      "outputs": []
    },
    {
      "cell_type": "markdown",
      "metadata": {
        "id": "WgBk0t9gL1Fo",
        "colab_type": "text"
      },
      "source": [
        "Inference from the above plot:\n",
        "Price seems to have linearity relationship with room_bed,room_bath,living measure,quality,ceil measure but doesnt have any linearity with other attributes and price is highly distributed in the range of 1000000 - 2000000"
      ]
    },
    {
      "cell_type": "code",
      "metadata": {
        "id": "Sv5ovCKQLwa8",
        "colab_type": "code",
        "colab": {}
      },
      "source": [
        "from sklearn.model_selection import train_test_split\n",
        "X=housedat_scaled_z.drop('price',axis=1) #Indepedent feature columns\n",
        "y=housedat_scaled_z['price'] # dependent feature column\n",
        "x_train,x_test,y_train,y_test=train_test_split(X,y,test_size=0.3,random_state=1)"
      ],
      "execution_count": 0,
      "outputs": []
    },
    {
      "cell_type": "markdown",
      "metadata": {
        "id": "BYSMCmyVMHzv",
        "colab_type": "text"
      },
      "source": [
        "**3.Model building**"
      ]
    },
    {
      "cell_type": "markdown",
      "metadata": {
        "id": "dMm0Lg8AMOZA",
        "colab_type": "text"
      },
      "source": [
        "In the below section,we will evaluate the performance of the different models on the dataset.We will analyse the score of each model and find the best fit regressor for this pricing model"
      ]
    },
    {
      "cell_type": "markdown",
      "metadata": {
        "id": "ktZhejjuMWlW",
        "colab_type": "text"
      },
      "source": [
        "**Linear Regression model**"
      ]
    },
    {
      "cell_type": "code",
      "metadata": {
        "id": "uwNZdtqhMDWD",
        "colab_type": "code",
        "colab": {}
      },
      "source": [
        "from sklearn.linear_model import LinearRegression\n",
        "#fit the model on training data\n",
        "linmodel= LinearRegression()\n",
        "linmodel.fit(x_train,y_train)\n",
        "#predict using test\n",
        "y_predict=linmodel.predict(x_test)\n",
        "#predict using training data\n",
        "y_predict_trn=linmodel.predict(x_train)"
      ],
      "execution_count": 0,
      "outputs": []
    },
    {
      "cell_type": "code",
      "metadata": {
        "id": "2FwaZfo6McFu",
        "colab_type": "code",
        "colab": {
          "base_uri": "https://localhost:8080/",
          "height": 51
        },
        "outputId": "b836f113-e35b-471c-94ce-63018d136ff6"
      },
      "source": [
        "#linear regression model score\n",
        "model_score_trn=linmodel.score(x_train,y_train)\n",
        "print(\"Linear regresion model score using training data:\",model_score_trn)\n",
        "model_score=linmodel.score(x_test,y_test)\n",
        "print(\"Linear regresion model score using test data:\",model_score)"
      ],
      "execution_count": 24,
      "outputs": [
        {
          "output_type": "stream",
          "text": [
            "Linear regresion model score using training data: 0.6215636855741313\n",
            "Linear regresion model score using test data: 0.6033359781150031\n"
          ],
          "name": "stdout"
        }
      ]
    },
    {
      "cell_type": "code",
      "metadata": {
        "id": "tncJ-RzkMe2P",
        "colab_type": "code",
        "colab": {}
      },
      "source": [
        "#RMSE of linear regression model\n",
        "from sklearn.metrics import mean_squared_error \n",
        "RMSE_lin=np.sqrt(mean_squared_error(y_test,y_predict))"
      ],
      "execution_count": 0,
      "outputs": []
    },
    {
      "cell_type": "code",
      "metadata": {
        "id": "pyoSZA02Mh4b",
        "colab_type": "code",
        "colab": {}
      },
      "source": [
        "#creating a dataframe to track the performance of each model\n",
        "data={'Model':[],'Traindata_score':[],'Testdata_score':[],'RMSE':[]}\n",
        "Perf_metric=pd.DataFrame(data)\n",
        "Perf_metric.loc[0]=['Linear regression',model_score_trn,model_score,RMSE_lin]"
      ],
      "execution_count": 0,
      "outputs": []
    },
    {
      "cell_type": "markdown",
      "metadata": {
        "id": "6dbJ81V6MnGB",
        "colab_type": "text"
      },
      "source": [
        "**Polynomial Regression model**"
      ]
    },
    {
      "cell_type": "code",
      "metadata": {
        "id": "Ol7NyTxtMkYP",
        "colab_type": "code",
        "colab": {}
      },
      "source": [
        "#since not all other independent variables are linear with the target(pricing)>we apply polynomial features as data is non linear\n",
        "from sklearn.preprocessing import PolynomialFeatures\n",
        "from sklearn import linear_model\n",
        "polymodel = PolynomialFeatures(degree=2,interaction_only=True)\n",
        "poly_x_train = polymodel.fit_transform(x_train)\n",
        "poly_x_test = polymodel.fit_transform(x_test)\n",
        "linear_polymodel = linear_model.LinearRegression()\n",
        "linear_polymodel.fit(poly_x_train,y_train)\n",
        "#predict using test\n",
        "poly_y_predict=linear_polymodel.predict(poly_x_test)\n",
        "#predict using training data\n",
        "poly_y_predict_trn=linear_polymodel.predict(poly_x_train)"
      ],
      "execution_count": 0,
      "outputs": []
    },
    {
      "cell_type": "code",
      "metadata": {
        "id": "HD_EFRcBMtW2",
        "colab_type": "code",
        "colab": {
          "base_uri": "https://localhost:8080/",
          "height": 51
        },
        "outputId": "73eac1de-0ffd-4a12-a983-43d63c1a91cd"
      },
      "source": [
        "#polynomial regression model score\n",
        "model_score_polytrn=linear_polymodel.score(poly_x_train,y_train)\n",
        "print(\"Polynomial regresion model score using training data:\",model_score_polytrn)\n",
        "model_score_poly=linear_polymodel.score(poly_x_test,y_test)\n",
        "print(\"Polynomial regresion model score using test data:\",model_score_poly)"
      ],
      "execution_count": 28,
      "outputs": [
        {
          "output_type": "stream",
          "text": [
            "Polynomial regresion model score using training data: 0.7393747762923484\n",
            "Polynomial regresion model score using test data: 0.688009924829305\n"
          ],
          "name": "stdout"
        }
      ]
    },
    {
      "cell_type": "code",
      "metadata": {
        "id": "wJp_9jLxMz6D",
        "colab_type": "code",
        "colab": {}
      },
      "source": [
        "#RMSE of polynomial regression model\n",
        "rmse_poly=np.sqrt(mean_squared_error(y_test,poly_y_predict))\n",
        "Perf_metric.loc[1]=['Polynomial regression',model_score_polytrn,model_score_poly,rmse_poly]"
      ],
      "execution_count": 0,
      "outputs": []
    },
    {
      "cell_type": "markdown",
      "metadata": {
        "id": "OSNrcgc9M6Jb",
        "colab_type": "text"
      },
      "source": [
        "**K- Nearest Neighbor regression model**"
      ]
    },
    {
      "cell_type": "code",
      "metadata": {
        "id": "qRQ9Zy4aM24E",
        "colab_type": "code",
        "colab": {}
      },
      "source": [
        "##KNN regressor model\n",
        "from sklearn.neighbors import KNeighborsRegressor\n",
        "#fit the model on training data\n",
        "knnmodel=KNeighborsRegressor(n_neighbors=5)\n",
        "knnmodel.fit(x_train,y_train)\n",
        "#predict using training data\n",
        "y_predict_knn_trn=knnmodel.predict(x_train)\n",
        "#predict using test\n",
        "y_predict_knn=knnmodel.predict(x_test)"
      ],
      "execution_count": 0,
      "outputs": []
    },
    {
      "cell_type": "code",
      "metadata": {
        "id": "17JT6czoM_xR",
        "colab_type": "code",
        "colab": {
          "base_uri": "https://localhost:8080/",
          "height": 51
        },
        "outputId": "6c16f77f-855e-4067-c17d-adeec9071134"
      },
      "source": [
        "#K-NN model model score\n",
        "knnmodel_score_trn=knnmodel.score(x_train,y_train)\n",
        "print(\"K-NN model score using training data:\",knnmodel_score_trn)\n",
        "knnmodel_score=knnmodel.score(x_test,y_test)\n",
        "print(\"K-NN model score using test data:\",knnmodel_score)"
      ],
      "execution_count": 31,
      "outputs": [
        {
          "output_type": "stream",
          "text": [
            "K-NN model score using training data: 0.8222965239167643\n",
            "K-NN model score using test data: 0.6775933577252405\n"
          ],
          "name": "stdout"
        }
      ]
    },
    {
      "cell_type": "code",
      "metadata": {
        "id": "1vF1V4lMNFLm",
        "colab_type": "code",
        "colab": {}
      },
      "source": [
        "#RMSE of KNN regression model\n",
        "rmse_knn=np.sqrt(mean_squared_error(y_test,y_predict_knn))\n",
        "Perf_metric.loc[2]=['KNN regression',knnmodel_score_trn,knnmodel_score,rmse_knn]"
      ],
      "execution_count": 0,
      "outputs": []
    },
    {
      "cell_type": "markdown",
      "metadata": {
        "id": "ohYdXQd7NLl6",
        "colab_type": "text"
      },
      "source": [
        "**Decision Tree**"
      ]
    },
    {
      "cell_type": "code",
      "metadata": {
        "id": "-2ZII5S4NK8D",
        "colab_type": "code",
        "colab": {
          "base_uri": "https://localhost:8080/",
          "height": 51
        },
        "outputId": "46c31692-ac96-49c1-be69-ef505fb02cae"
      },
      "source": [
        "#Decision Tree Model\n",
        "from sklearn.tree import DecisionTreeRegressor\n",
        "dTree=DecisionTreeRegressor(criterion='mse',random_state=1)\n",
        "dTree.fit(x_train,y_train)\n",
        "#predict using test data\n",
        "y_predict_dtree=dTree.predict(x_test)\n",
        "#decision tree score\n",
        "print(\"Decision Tree score for training dataset:\",dTree.score(x_train,y_train))\n",
        "print(\"Decision Tree score for test dataset:\",dTree.score(x_test,y_test))"
      ],
      "execution_count": 33,
      "outputs": [
        {
          "output_type": "stream",
          "text": [
            "Decision Tree score for training dataset: 0.9999999741183707\n",
            "Decision Tree score for test dataset: 0.6672998278127034\n"
          ],
          "name": "stdout"
        }
      ]
    },
    {
      "cell_type": "code",
      "metadata": {
        "id": "Tid7uTOnNQrb",
        "colab_type": "code",
        "colab": {}
      },
      "source": [
        "#RMSE of dtree regression model\n",
        "rmse_dtree=np.sqrt(mean_squared_error(y_test,y_predict_dtree))\n",
        "Perf_metric.loc[4]=['Decision tree',dTree.score(x_train,y_train),dTree.score(x_test,y_test),rmse_dtree]"
      ],
      "execution_count": 0,
      "outputs": []
    },
    {
      "cell_type": "markdown",
      "metadata": {
        "id": "w6e4u0o9NZgB",
        "colab_type": "text"
      },
      "source": [
        "**Feature selection based on feature importance**"
      ]
    },
    {
      "cell_type": "code",
      "metadata": {
        "id": "wz8ZpqCbNVPU",
        "colab_type": "code",
        "colab": {
          "base_uri": "https://localhost:8080/",
          "height": 374
        },
        "outputId": "6b837309-2151-4ed1-a142-f22642050a90"
      },
      "source": [
        "# Get feature importance\n",
        "feature_importances = dTree.feature_importances_\n",
        "print (pd.DataFrame(feature_importances, columns = [\"Imp\"], index = x_train.columns))"
      ],
      "execution_count": 35,
      "outputs": [
        {
          "output_type": "stream",
          "text": [
            "                     Imp\n",
            "room_bed        0.005024\n",
            "room_bath       0.006220\n",
            "living_measure  0.180473\n",
            "lot_measure     0.016479\n",
            "ceil            0.002737\n",
            "coast           0.067229\n",
            "sight           0.007920\n",
            "condition       0.002935\n",
            "quality         0.007602\n",
            "ceil_measure    0.016980\n",
            "basement        0.010705\n",
            "yr_built        0.037301\n",
            "zipcode         0.029743\n",
            "lat             0.176621\n",
            "long            0.076274\n",
            "furnished       0.324014\n",
            "total_area      0.015780\n",
            "soldyr          0.004090\n",
            "soldmonth       0.011734\n",
            "renovated       0.000140\n"
          ],
          "name": "stdout"
        }
      ]
    },
    {
      "cell_type": "markdown",
      "metadata": {
        "id": "HBbuNYflNjnI",
        "colab_type": "text"
      },
      "source": [
        "From the above analysis on feature importance,we see that renovated,soldyr,ceil are of least important.Hence we will evaluate the performance by dropping these column"
      ]
    },
    {
      "cell_type": "markdown",
      "metadata": {
        "id": "Nlow-hxJNnHO",
        "colab_type": "text"
      },
      "source": [
        "**Decision tree regressor after feature selection**"
      ]
    },
    {
      "cell_type": "code",
      "metadata": {
        "id": "bIW3lXNWNhKF",
        "colab_type": "code",
        "colab": {
          "base_uri": "https://localhost:8080/",
          "height": 51
        },
        "outputId": "99c66510-494b-4430-f973-81436e447e3d"
      },
      "source": [
        "#Dropping renovated,soldyr,ceil and predicting using decision tree\n",
        "X2 = housedat_scaled_z.drop(['price','renovated','soldyr','ceil'],axis=1) \n",
        "y2 = housedat_scaled_z['price']\n",
        "x2_train,x2_test,y2_train,y2_test=train_test_split(X2,y2,test_size=0.3,random_state=1)\n",
        "dTree.fit(x2_train,y2_train)\n",
        "#predict using test data\n",
        "y2_predict_dtree=dTree.predict(x2_test)\n",
        "#predict using train data\n",
        "y2_predict_dtree_train=dTree.predict(x2_train)\n",
        "#decision tree score\n",
        "print(\"Decision Tree score for training dataset:\",dTree.score(x2_train,y2_train))\n",
        "print(\"Decision Tree score for test dataset:\",dTree.score(x2_test,y2_test))"
      ],
      "execution_count": 37,
      "outputs": [
        {
          "output_type": "stream",
          "text": [
            "Decision Tree score for training dataset: 0.9999999740934852\n",
            "Decision Tree score for test dataset: 0.6926248798634176\n"
          ],
          "name": "stdout"
        }
      ]
    },
    {
      "cell_type": "code",
      "metadata": {
        "id": "kIj4GCfSNrO-",
        "colab_type": "code",
        "colab": {}
      },
      "source": [
        "#RMSE of dtree after feature selection model\n",
        "rmse_dtree_fs=np.sqrt(mean_squared_error(y2_test,y2_predict_dtree))\n",
        "Perf_metric.loc[5]=['Decisiontree_featuresel',dTree.score(x2_train,y2_train),dTree.score(x2_test,y2_test),rmse_dtree_fs]"
      ],
      "execution_count": 0,
      "outputs": []
    },
    {
      "cell_type": "markdown",
      "metadata": {
        "id": "lozRj2DUOBaF",
        "colab_type": "text"
      },
      "source": [
        "**Ensemble Techniques**\n",
        "\n",
        "In below selection,we evaluate by applying different ensemble techniques like bagging,boosting & random forest to improve the performance of model.\n",
        "\n",
        "From the base model analysis,decision tree seems to perform well compared to other models and hence we apply ensemble technique on top of decision tree"
      ]
    },
    {
      "cell_type": "markdown",
      "metadata": {
        "id": "qrJ-j_N4OMO8",
        "colab_type": "text"
      },
      "source": [
        "**Applying bagging on top of decision tree**"
      ]
    },
    {
      "cell_type": "code",
      "metadata": {
        "id": "3C9Z31hGN7yF",
        "colab_type": "code",
        "colab": {
          "base_uri": "https://localhost:8080/",
          "height": 51
        },
        "outputId": "906f3b12-6c76-4151-975c-3b1c0d2a135e"
      },
      "source": [
        "#Bagging\n",
        "from sklearn.ensemble import BaggingRegressor\n",
        "bgc=BaggingRegressor(base_estimator=dTree,n_estimators=10,random_state=1)\n",
        "bgc.fit(x2_train,y2_train)\n",
        "#predict using test data\n",
        "bgc_predict=bgc.predict(x2_test)\n",
        "#accuracy score\n",
        "print(\"Bagging regressor score for test dataset:\",bgc.score(x2_test,y2_test))\n",
        "print(\"Bagging regressor score for training dataset:\",bgc.score(x2_train,y2_train))"
      ],
      "execution_count": 40,
      "outputs": [
        {
          "output_type": "stream",
          "text": [
            "Bagging regressor score for test dataset: 0.8255229631693326\n",
            "Bagging regressor score for training dataset: 0.9734253711697305\n"
          ],
          "name": "stdout"
        }
      ]
    },
    {
      "cell_type": "code",
      "metadata": {
        "id": "HlNn09-uORGS",
        "colab_type": "code",
        "colab": {
          "base_uri": "https://localhost:8080/",
          "height": 235
        },
        "outputId": "3f52bf0b-ff8e-436a-f709-a58f64fcf853"
      },
      "source": [
        "#RMSE of bagging regression model\n",
        "rmse_bagging=np.sqrt(mean_squared_error(y2_test,bgc_predict))\n",
        "Perf_metric.loc[6]=['Bagging_DecTree',bgc.score(x2_train,y2_train),bgc.score(x2_test,y2_test),rmse_bagging]\n",
        "Perf_metric"
      ],
      "execution_count": 41,
      "outputs": [
        {
          "output_type": "execute_result",
          "data": {
            "text/html": [
              "<div>\n",
              "<style scoped>\n",
              "    .dataframe tbody tr th:only-of-type {\n",
              "        vertical-align: middle;\n",
              "    }\n",
              "\n",
              "    .dataframe tbody tr th {\n",
              "        vertical-align: top;\n",
              "    }\n",
              "\n",
              "    .dataframe thead th {\n",
              "        text-align: right;\n",
              "    }\n",
              "</style>\n",
              "<table border=\"1\" class=\"dataframe\">\n",
              "  <thead>\n",
              "    <tr style=\"text-align: right;\">\n",
              "      <th></th>\n",
              "      <th>Model</th>\n",
              "      <th>Traindata_score</th>\n",
              "      <th>Testdata_score</th>\n",
              "      <th>RMSE</th>\n",
              "    </tr>\n",
              "  </thead>\n",
              "  <tbody>\n",
              "    <tr>\n",
              "      <th>0</th>\n",
              "      <td>Linear regression</td>\n",
              "      <td>0.621564</td>\n",
              "      <td>0.603336</td>\n",
              "      <td>0.628937</td>\n",
              "    </tr>\n",
              "    <tr>\n",
              "      <th>1</th>\n",
              "      <td>Polynomial regression</td>\n",
              "      <td>0.739375</td>\n",
              "      <td>0.688010</td>\n",
              "      <td>0.557784</td>\n",
              "    </tr>\n",
              "    <tr>\n",
              "      <th>2</th>\n",
              "      <td>KNN regression</td>\n",
              "      <td>0.822297</td>\n",
              "      <td>0.677593</td>\n",
              "      <td>0.567020</td>\n",
              "    </tr>\n",
              "    <tr>\n",
              "      <th>4</th>\n",
              "      <td>Decision tree</td>\n",
              "      <td>1.000000</td>\n",
              "      <td>0.667300</td>\n",
              "      <td>0.576000</td>\n",
              "    </tr>\n",
              "    <tr>\n",
              "      <th>5</th>\n",
              "      <td>Decisiontree_featuresel</td>\n",
              "      <td>1.000000</td>\n",
              "      <td>0.692625</td>\n",
              "      <td>0.553644</td>\n",
              "    </tr>\n",
              "    <tr>\n",
              "      <th>6</th>\n",
              "      <td>Bagging_DecTree</td>\n",
              "      <td>0.973425</td>\n",
              "      <td>0.825523</td>\n",
              "      <td>0.417124</td>\n",
              "    </tr>\n",
              "  </tbody>\n",
              "</table>\n",
              "</div>"
            ],
            "text/plain": [
              "                     Model  Traindata_score  Testdata_score      RMSE\n",
              "0        Linear regression         0.621564        0.603336  0.628937\n",
              "1    Polynomial regression         0.739375        0.688010  0.557784\n",
              "2           KNN regression         0.822297        0.677593  0.567020\n",
              "4            Decision tree         1.000000        0.667300  0.576000\n",
              "5  Decisiontree_featuresel         1.000000        0.692625  0.553644\n",
              "6          Bagging_DecTree         0.973425        0.825523  0.417124"
            ]
          },
          "metadata": {
            "tags": []
          },
          "execution_count": 41
        }
      ]
    },
    {
      "cell_type": "markdown",
      "metadata": {
        "id": "kADFxsOaOaSn",
        "colab_type": "text"
      },
      "source": [
        "**Applying Adaboost on top of decision tree**"
      ]
    },
    {
      "cell_type": "code",
      "metadata": {
        "id": "hEoH05vAOUkU",
        "colab_type": "code",
        "colab": {
          "base_uri": "https://localhost:8080/",
          "height": 51
        },
        "outputId": "7ffa778c-09a2-4e0c-f1a8-00747d214e2b"
      },
      "source": [
        "#AdaBoosting\n",
        "from sklearn.ensemble import AdaBoostRegressor\n",
        "abc=AdaBoostRegressor(base_estimator=dTree,n_estimators=10,random_state=1)\n",
        "abc.fit(x2_train,y2_train)\n",
        "#predict using test data\n",
        "abc_predict=abc.predict(x2_test)\n",
        "#accuracy score\n",
        "print(\"Adaboost regressor score for test dataset:\",abc.score(x2_test,y2_test))\n",
        "print(\"Adaboost regressor score for training dataset:\",abc.score(x2_train,y2_train))"
      ],
      "execution_count": 42,
      "outputs": [
        {
          "output_type": "stream",
          "text": [
            "Adaboost regressor score for test dataset: 0.8114783311119443\n",
            "Adaboost regressor score for training dataset: 0.9987487988980341\n"
          ],
          "name": "stdout"
        }
      ]
    },
    {
      "cell_type": "code",
      "metadata": {
        "id": "dloF4oyVOe5-",
        "colab_type": "code",
        "colab": {}
      },
      "source": [
        "#RMSE of boosting regression model\n",
        "rmse_boosting=np.sqrt(mean_squared_error(y2_test,abc_predict))\n",
        "Perf_metric.loc[7]=['Boosting_DecTree',abc.score(x2_train,y2_train),abc.score(x2_test,y2_test),rmse_boosting]"
      ],
      "execution_count": 0,
      "outputs": []
    },
    {
      "cell_type": "markdown",
      "metadata": {
        "id": "PVQKnYXuOmdV",
        "colab_type": "text"
      },
      "source": [
        "**Applying GradientBoost on top of decision tree**"
      ]
    },
    {
      "cell_type": "code",
      "metadata": {
        "id": "v5GRqsMZOi4y",
        "colab_type": "code",
        "colab": {
          "base_uri": "https://localhost:8080/",
          "height": 51
        },
        "outputId": "48749c2e-f0ac-4cae-d26f-c18fe2e6df2d"
      },
      "source": [
        "#GradientBoost\n",
        "from sklearn.ensemble import GradientBoostingRegressor\n",
        "gbc=GradientBoostingRegressor(init=dTree,n_estimators=10,random_state=1)\n",
        "gbc.fit(x2_train,y2_train)\n",
        "#predict using test data\n",
        "gbc_predict=gbc.predict(x2_test)\n",
        "#accuracy score\n",
        "print(\"GradientBoost regressor score for test dataset:\",gbc.score(x2_test,y2_test))\n",
        "print(\"GradientBoost regressor score for training dataset:\",gbc.score(x2_train,y2_train))"
      ],
      "execution_count": 44,
      "outputs": [
        {
          "output_type": "stream",
          "text": [
            "GradientBoost regressor score for test dataset: 0.6926248798634176\n",
            "GradientBoost regressor score for training dataset: 0.9999999740934852\n"
          ],
          "name": "stdout"
        }
      ]
    },
    {
      "cell_type": "code",
      "metadata": {
        "id": "HyTeF-nnOric",
        "colab_type": "code",
        "colab": {}
      },
      "source": [
        "#RMSE of gradient boosting regression model\n",
        "rmse_gradboosting=np.sqrt(mean_squared_error(y2_test,gbc_predict))\n",
        "Perf_metric.loc[8]=['GradBoosting_DecTree',gbc.score(x2_train,y2_train),gbc.score(x2_test,y2_test),rmse_gradboosting]"
      ],
      "execution_count": 0,
      "outputs": []
    },
    {
      "cell_type": "markdown",
      "metadata": {
        "id": "0lpP6FdyOzBY",
        "colab_type": "text"
      },
      "source": [
        "**Applying random forest regressor on top of decision tree**"
      ]
    },
    {
      "cell_type": "code",
      "metadata": {
        "id": "9uVzyCwdOvaV",
        "colab_type": "code",
        "colab": {
          "base_uri": "https://localhost:8080/",
          "height": 51
        },
        "outputId": "358b4abb-818f-4c83-b88a-dc802eb151c1"
      },
      "source": [
        "#RandomForestClassifier\n",
        "from sklearn.ensemble import RandomForestRegressor\n",
        "rfc=RandomForestRegressor(n_estimators=50,random_state=1,max_features=17)\n",
        "rfc.fit(x2_train,y2_train)\n",
        "#predict using test data\n",
        "rfc_predict=rfc.predict(x2_test)\n",
        "#accuracy score\n",
        "print(\"RandomForest regressor score for test dataset:\",rfc.score(x2_test,y2_test))\n",
        "print(\"RandomForest regressor score for training dataset:\",rfc.score(x2_train,y2_train))"
      ],
      "execution_count": 46,
      "outputs": [
        {
          "output_type": "stream",
          "text": [
            "RandomForest regressor score for test dataset: 0.8413092680728002\n",
            "RandomForest regressor score for training dataset: 0.9801717401898339\n"
          ],
          "name": "stdout"
        }
      ]
    },
    {
      "cell_type": "code",
      "metadata": {
        "id": "MOAncxRZO4vE",
        "colab_type": "code",
        "colab": {}
      },
      "source": [
        "#RMSE of random forest regression model\n",
        "rmse_ranforest=np.sqrt(mean_squared_error(y2_test,rfc_predict))\n",
        "Perf_metric.loc[9]=['RandomForest_DecTree',rfc.score(x2_train,y2_train),rfc.score(x2_test,y2_test),rmse_ranforest]"
      ],
      "execution_count": 0,
      "outputs": []
    },
    {
      "cell_type": "markdown",
      "metadata": {
        "id": "Z7V3-aq5PD4u",
        "colab_type": "text"
      },
      "source": [
        "**Inference on Performance of the models**"
      ]
    },
    {
      "cell_type": "code",
      "metadata": {
        "id": "guQPwFxUO_sn",
        "colab_type": "code",
        "colab": {
          "base_uri": "https://localhost:8080/",
          "height": 328
        },
        "outputId": "6656c36b-105a-45dd-b97f-0cfc5f5052ef"
      },
      "source": [
        "Perf_metric"
      ],
      "execution_count": 48,
      "outputs": [
        {
          "output_type": "execute_result",
          "data": {
            "text/html": [
              "<div>\n",
              "<style scoped>\n",
              "    .dataframe tbody tr th:only-of-type {\n",
              "        vertical-align: middle;\n",
              "    }\n",
              "\n",
              "    .dataframe tbody tr th {\n",
              "        vertical-align: top;\n",
              "    }\n",
              "\n",
              "    .dataframe thead th {\n",
              "        text-align: right;\n",
              "    }\n",
              "</style>\n",
              "<table border=\"1\" class=\"dataframe\">\n",
              "  <thead>\n",
              "    <tr style=\"text-align: right;\">\n",
              "      <th></th>\n",
              "      <th>Model</th>\n",
              "      <th>Traindata_score</th>\n",
              "      <th>Testdata_score</th>\n",
              "      <th>RMSE</th>\n",
              "    </tr>\n",
              "  </thead>\n",
              "  <tbody>\n",
              "    <tr>\n",
              "      <th>0</th>\n",
              "      <td>Linear regression</td>\n",
              "      <td>0.621564</td>\n",
              "      <td>0.603336</td>\n",
              "      <td>0.628937</td>\n",
              "    </tr>\n",
              "    <tr>\n",
              "      <th>1</th>\n",
              "      <td>Polynomial regression</td>\n",
              "      <td>0.739375</td>\n",
              "      <td>0.688010</td>\n",
              "      <td>0.557784</td>\n",
              "    </tr>\n",
              "    <tr>\n",
              "      <th>2</th>\n",
              "      <td>KNN regression</td>\n",
              "      <td>0.822297</td>\n",
              "      <td>0.677593</td>\n",
              "      <td>0.567020</td>\n",
              "    </tr>\n",
              "    <tr>\n",
              "      <th>4</th>\n",
              "      <td>Decision tree</td>\n",
              "      <td>1.000000</td>\n",
              "      <td>0.667300</td>\n",
              "      <td>0.576000</td>\n",
              "    </tr>\n",
              "    <tr>\n",
              "      <th>5</th>\n",
              "      <td>Decisiontree_featuresel</td>\n",
              "      <td>1.000000</td>\n",
              "      <td>0.692625</td>\n",
              "      <td>0.553644</td>\n",
              "    </tr>\n",
              "    <tr>\n",
              "      <th>6</th>\n",
              "      <td>Bagging_DecTree</td>\n",
              "      <td>0.973425</td>\n",
              "      <td>0.825523</td>\n",
              "      <td>0.417124</td>\n",
              "    </tr>\n",
              "    <tr>\n",
              "      <th>7</th>\n",
              "      <td>Boosting_DecTree</td>\n",
              "      <td>0.998749</td>\n",
              "      <td>0.811478</td>\n",
              "      <td>0.433587</td>\n",
              "    </tr>\n",
              "    <tr>\n",
              "      <th>8</th>\n",
              "      <td>GradBoosting_DecTree</td>\n",
              "      <td>1.000000</td>\n",
              "      <td>0.692625</td>\n",
              "      <td>0.553644</td>\n",
              "    </tr>\n",
              "    <tr>\n",
              "      <th>9</th>\n",
              "      <td>RandomForest_DecTree</td>\n",
              "      <td>0.980172</td>\n",
              "      <td>0.841309</td>\n",
              "      <td>0.397806</td>\n",
              "    </tr>\n",
              "  </tbody>\n",
              "</table>\n",
              "</div>"
            ],
            "text/plain": [
              "                     Model  Traindata_score  Testdata_score      RMSE\n",
              "0        Linear regression         0.621564        0.603336  0.628937\n",
              "1    Polynomial regression         0.739375        0.688010  0.557784\n",
              "2           KNN regression         0.822297        0.677593  0.567020\n",
              "4            Decision tree         1.000000        0.667300  0.576000\n",
              "5  Decisiontree_featuresel         1.000000        0.692625  0.553644\n",
              "6          Bagging_DecTree         0.973425        0.825523  0.417124\n",
              "7         Boosting_DecTree         0.998749        0.811478  0.433587\n",
              "8     GradBoosting_DecTree         1.000000        0.692625  0.553644\n",
              "9     RandomForest_DecTree         0.980172        0.841309  0.397806"
            ]
          },
          "metadata": {
            "tags": []
          },
          "execution_count": 48
        }
      ]
    },
    {
      "cell_type": "code",
      "metadata": {
        "id": "6XRTq-hMPICn",
        "colab_type": "code",
        "colab": {}
      },
      "source": [
        ""
      ],
      "execution_count": 0,
      "outputs": []
    }
  ]
}