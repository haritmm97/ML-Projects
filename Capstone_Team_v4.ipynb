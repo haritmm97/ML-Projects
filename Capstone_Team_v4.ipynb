{
  "nbformat": 4,
  "nbformat_minor": 0,
  "metadata": {
    "colab": {
      "name": "Capstone_Team_zip.ipynb",
      "provenance": [],
      "collapsed_sections": [],
      "authorship_tag": "ABX9TyPPI1fUQtO+X8gg93KcTvrq",
      "include_colab_link": true
    },
    "kernelspec": {
      "name": "python3",
      "display_name": "Python 3"
    }
  },
  "cells": [
    {
      "cell_type": "markdown",
      "metadata": {
        "id": "view-in-github",
        "colab_type": "text"
      },
      "source": [
        "<a href=\"https://colab.research.google.com/github/haritmm97/ML-Projects-Portfolio/blob/master/Capstone_Team_v4.ipynb\" target=\"_parent\"><img src=\"https://colab.research.google.com/assets/colab-badge.svg\" alt=\"Open In Colab\"/></a>"
      ]
    },
    {
      "cell_type": "markdown",
      "metadata": {
        "id": "1FlByirI3ijX",
        "colab_type": "text"
      },
      "source": [
        "**1.Define the problem, propose solution:**\n",
        "\n",
        "**Problem Statement:**\n",
        "\n",
        "In the current situation, we find it difficult to predict the correct house prices. Generally, people consider the location of the house and the square foot area of the house to come up with the prices which might be inappropriate as there are lot other factors that needs to be considered when coming up with the prices. Without having much idea on factors contributing to the prices, people tend to compare the house prices in same locality to come up with the estimation price which could either too high or too low which in turn doesn’t satisfy the buyer/seller. This exercise of comparison also causes some manual effort to be spent at times which goes useless due to inaccuracies.\n",
        "\n",
        "**Areas of improvement/Solution:**\n",
        "\n",
        "We see a solution for getting in the features/details which are contributing to house prices using a machine learning based system which can learn using the past history of data. Also, the machine learning system can help in automating the house-based comparison process much faster than the manual work that is being done currently which would eliminate the manual task/effort spent on this. This system would help in predicting the appropriate house prices with higher accuracy compared to current system\n",
        "\n",
        "**Findings on the data:**\n",
        "\n",
        "We have looked into the data shared which contains various factors of houses like different housing types like 2BHK,3BHK, different floors, different square foot areas, amenities like coast & sight view, condition & quality of houses captured from different locations with prices associated to that as required.\n",
        "\n",
        "**2.EDA and Pre-processing**\n",
        "\n",
        "In this section,we will perform the Exploratory data analysis like checking for null value,checking & treating outliers and removing unwanted variables.We will also analyze the relationship & distribution of indepedent and target variables"
      ]
    },
    {
      "cell_type": "code",
      "metadata": {
        "id": "mK-DBgYtz-h5",
        "colab_type": "code",
        "outputId": "d4d62557-d918-4a59-8671-2d3926316528",
        "colab": {
          "base_uri": "https://localhost:8080/",
          "height": 34
        }
      },
      "source": [
        "from google.colab import drive\n",
        "drive.mount('/content/drive')"
      ],
      "execution_count": 187,
      "outputs": [
        {
          "output_type": "stream",
          "text": [
            "Drive already mounted at /content/drive; to attempt to forcibly remount, call drive.mount(\"/content/drive\", force_remount=True).\n"
          ],
          "name": "stdout"
        }
      ]
    },
    {
      "cell_type": "code",
      "metadata": {
        "id": "J1rk391IJK3U",
        "colab_type": "code",
        "colab": {}
      },
      "source": [
        "#Import required libraries\n",
        "import numpy as np\n",
        "import pandas as pd\n",
        "import seaborn as sns\n",
        "import matplotlib.pyplot as plt\n",
        "from sklearn.model_selection import train_test_split\n",
        "from sklearn import preprocessing\n",
        "from IPython.display import Image\n",
        "from graphviz import Source\n",
        "from sklearn import tree\n",
        "import pydotplus"
      ],
      "execution_count": 0,
      "outputs": []
    },
    {
      "cell_type": "markdown",
      "metadata": {
        "id": "-MDGnRXQe_UK",
        "colab_type": "text"
      },
      "source": [
        "**Importing Data from Google Drive**"
      ]
    },
    {
      "cell_type": "code",
      "metadata": {
        "id": "jakqZCXXJRNe",
        "colab_type": "code",
        "outputId": "cd9145cd-d545-41fe-cb91-48072804dbc3",
        "colab": {
          "base_uri": "https://localhost:8080/",
          "height": 224
        }
      },
      "source": [
        "#read data from csv using dataframe\n",
        "dfdata = pd.read_csv(\"/content/drive/My Drive/Machine Learning/Great Learning/Capstone/innercity.csv\")\n",
        "dfdata.head()"
      ],
      "execution_count": 189,
      "outputs": [
        {
          "output_type": "execute_result",
          "data": {
            "text/html": [
              "<div>\n",
              "<style scoped>\n",
              "    .dataframe tbody tr th:only-of-type {\n",
              "        vertical-align: middle;\n",
              "    }\n",
              "\n",
              "    .dataframe tbody tr th {\n",
              "        vertical-align: top;\n",
              "    }\n",
              "\n",
              "    .dataframe thead th {\n",
              "        text-align: right;\n",
              "    }\n",
              "</style>\n",
              "<table border=\"1\" class=\"dataframe\">\n",
              "  <thead>\n",
              "    <tr style=\"text-align: right;\">\n",
              "      <th></th>\n",
              "      <th>cid</th>\n",
              "      <th>dayhours</th>\n",
              "      <th>price</th>\n",
              "      <th>room_bed</th>\n",
              "      <th>room_bath</th>\n",
              "      <th>living_measure</th>\n",
              "      <th>lot_measure</th>\n",
              "      <th>ceil</th>\n",
              "      <th>coast</th>\n",
              "      <th>sight</th>\n",
              "      <th>condition</th>\n",
              "      <th>quality</th>\n",
              "      <th>ceil_measure</th>\n",
              "      <th>basement</th>\n",
              "      <th>yr_built</th>\n",
              "      <th>yr_renovated</th>\n",
              "      <th>zipcode</th>\n",
              "      <th>lat</th>\n",
              "      <th>long</th>\n",
              "      <th>living_measure15</th>\n",
              "      <th>lot_measure15</th>\n",
              "      <th>furnished</th>\n",
              "      <th>total_area</th>\n",
              "    </tr>\n",
              "  </thead>\n",
              "  <tbody>\n",
              "    <tr>\n",
              "      <th>0</th>\n",
              "      <td>3034200666</td>\n",
              "      <td>20141107T000000</td>\n",
              "      <td>808100</td>\n",
              "      <td>4</td>\n",
              "      <td>3.25</td>\n",
              "      <td>3020</td>\n",
              "      <td>13457</td>\n",
              "      <td>1.0</td>\n",
              "      <td>0</td>\n",
              "      <td>0</td>\n",
              "      <td>5</td>\n",
              "      <td>9</td>\n",
              "      <td>3020</td>\n",
              "      <td>0</td>\n",
              "      <td>1956</td>\n",
              "      <td>0</td>\n",
              "      <td>98133</td>\n",
              "      <td>47.7174</td>\n",
              "      <td>-122.336</td>\n",
              "      <td>2120</td>\n",
              "      <td>7553</td>\n",
              "      <td>1</td>\n",
              "      <td>16477</td>\n",
              "    </tr>\n",
              "    <tr>\n",
              "      <th>1</th>\n",
              "      <td>8731981640</td>\n",
              "      <td>20141204T000000</td>\n",
              "      <td>277500</td>\n",
              "      <td>4</td>\n",
              "      <td>2.50</td>\n",
              "      <td>2550</td>\n",
              "      <td>7500</td>\n",
              "      <td>1.0</td>\n",
              "      <td>0</td>\n",
              "      <td>0</td>\n",
              "      <td>3</td>\n",
              "      <td>8</td>\n",
              "      <td>1750</td>\n",
              "      <td>800</td>\n",
              "      <td>1976</td>\n",
              "      <td>0</td>\n",
              "      <td>98023</td>\n",
              "      <td>47.3165</td>\n",
              "      <td>-122.386</td>\n",
              "      <td>2260</td>\n",
              "      <td>8800</td>\n",
              "      <td>0</td>\n",
              "      <td>10050</td>\n",
              "    </tr>\n",
              "    <tr>\n",
              "      <th>2</th>\n",
              "      <td>5104530220</td>\n",
              "      <td>20150420T000000</td>\n",
              "      <td>404000</td>\n",
              "      <td>3</td>\n",
              "      <td>2.50</td>\n",
              "      <td>2370</td>\n",
              "      <td>4324</td>\n",
              "      <td>2.0</td>\n",
              "      <td>0</td>\n",
              "      <td>0</td>\n",
              "      <td>3</td>\n",
              "      <td>8</td>\n",
              "      <td>2370</td>\n",
              "      <td>0</td>\n",
              "      <td>2006</td>\n",
              "      <td>0</td>\n",
              "      <td>98038</td>\n",
              "      <td>47.3515</td>\n",
              "      <td>-121.999</td>\n",
              "      <td>2370</td>\n",
              "      <td>4348</td>\n",
              "      <td>0</td>\n",
              "      <td>6694</td>\n",
              "    </tr>\n",
              "    <tr>\n",
              "      <th>3</th>\n",
              "      <td>6145600285</td>\n",
              "      <td>20140529T000000</td>\n",
              "      <td>300000</td>\n",
              "      <td>2</td>\n",
              "      <td>1.00</td>\n",
              "      <td>820</td>\n",
              "      <td>3844</td>\n",
              "      <td>1.0</td>\n",
              "      <td>0</td>\n",
              "      <td>0</td>\n",
              "      <td>4</td>\n",
              "      <td>6</td>\n",
              "      <td>820</td>\n",
              "      <td>0</td>\n",
              "      <td>1916</td>\n",
              "      <td>0</td>\n",
              "      <td>98133</td>\n",
              "      <td>47.7049</td>\n",
              "      <td>-122.349</td>\n",
              "      <td>1520</td>\n",
              "      <td>3844</td>\n",
              "      <td>0</td>\n",
              "      <td>4664</td>\n",
              "    </tr>\n",
              "    <tr>\n",
              "      <th>4</th>\n",
              "      <td>8924100111</td>\n",
              "      <td>20150424T000000</td>\n",
              "      <td>699000</td>\n",
              "      <td>2</td>\n",
              "      <td>1.50</td>\n",
              "      <td>1400</td>\n",
              "      <td>4050</td>\n",
              "      <td>1.0</td>\n",
              "      <td>0</td>\n",
              "      <td>0</td>\n",
              "      <td>4</td>\n",
              "      <td>8</td>\n",
              "      <td>1400</td>\n",
              "      <td>0</td>\n",
              "      <td>1954</td>\n",
              "      <td>0</td>\n",
              "      <td>98115</td>\n",
              "      <td>47.6768</td>\n",
              "      <td>-122.269</td>\n",
              "      <td>1900</td>\n",
              "      <td>5940</td>\n",
              "      <td>0</td>\n",
              "      <td>5450</td>\n",
              "    </tr>\n",
              "  </tbody>\n",
              "</table>\n",
              "</div>"
            ],
            "text/plain": [
              "          cid         dayhours   price  ...  lot_measure15  furnished  total_area\n",
              "0  3034200666  20141107T000000  808100  ...           7553          1       16477\n",
              "1  8731981640  20141204T000000  277500  ...           8800          0       10050\n",
              "2  5104530220  20150420T000000  404000  ...           4348          0        6694\n",
              "3  6145600285  20140529T000000  300000  ...           3844          0        4664\n",
              "4  8924100111  20150424T000000  699000  ...           5940          0        5450\n",
              "\n",
              "[5 rows x 23 columns]"
            ]
          },
          "metadata": {
            "tags": []
          },
          "execution_count": 189
        }
      ]
    },
    {
      "cell_type": "code",
      "metadata": {
        "id": "BsiTQgh4J_Ob",
        "colab_type": "code",
        "outputId": "436bbedf-be49-4fa4-abc9-80426abf7385",
        "colab": {
          "base_uri": "https://localhost:8080/",
          "height": 34
        }
      },
      "source": [
        "#Get the shape of the dataset\n",
        "shape=dfdata.shape\n",
        "print('shape of data :',shape)"
      ],
      "execution_count": 190,
      "outputs": [
        {
          "output_type": "stream",
          "text": [
            "shape of data : (21613, 23)\n"
          ],
          "name": "stdout"
        }
      ]
    },
    {
      "cell_type": "code",
      "metadata": {
        "id": "Rk4Y0U8pKCi8",
        "colab_type": "code",
        "outputId": "6682b9c6-d5d0-41d7-cf55-79b907fad15a",
        "colab": {
          "base_uri": "https://localhost:8080/",
          "height": 442
        }
      },
      "source": [
        "#datatype of each column of given data\n",
        "datType=dfdata.dtypes\n",
        "print('datatype of each col:\\n',datType)"
      ],
      "execution_count": 191,
      "outputs": [
        {
          "output_type": "stream",
          "text": [
            "datatype of each col:\n",
            " cid                   int64\n",
            "dayhours             object\n",
            "price                 int64\n",
            "room_bed              int64\n",
            "room_bath           float64\n",
            "living_measure        int64\n",
            "lot_measure           int64\n",
            "ceil                float64\n",
            "coast                 int64\n",
            "sight                 int64\n",
            "condition             int64\n",
            "quality               int64\n",
            "ceil_measure          int64\n",
            "basement              int64\n",
            "yr_built              int64\n",
            "yr_renovated          int64\n",
            "zipcode               int64\n",
            "lat                 float64\n",
            "long                float64\n",
            "living_measure15      int64\n",
            "lot_measure15         int64\n",
            "furnished             int64\n",
            "total_area            int64\n",
            "dtype: object\n"
          ],
          "name": "stdout"
        }
      ]
    },
    {
      "cell_type": "code",
      "metadata": {
        "id": "P9Pn0KR1KFvS",
        "colab_type": "code",
        "outputId": "ee61475c-601e-4cac-9a9b-8495438a2cdb",
        "colab": {
          "base_uri": "https://localhost:8080/",
          "height": 309
        }
      },
      "source": [
        "#converting the dayhours to get the year and month on which it was sold\n",
        "dfdata['dayhours']=dfdata['dayhours'].astype('datetime64[ns]')\n",
        "dfdata['soldyr']=pd.DatetimeIndex(dfdata['dayhours']).year\n",
        "dfdata['soldmonth']=pd.DatetimeIndex(dfdata['dayhours']).month\n",
        "dfdata.head()"
      ],
      "execution_count": 192,
      "outputs": [
        {
          "output_type": "execute_result",
          "data": {
            "text/html": [
              "<div>\n",
              "<style scoped>\n",
              "    .dataframe tbody tr th:only-of-type {\n",
              "        vertical-align: middle;\n",
              "    }\n",
              "\n",
              "    .dataframe tbody tr th {\n",
              "        vertical-align: top;\n",
              "    }\n",
              "\n",
              "    .dataframe thead th {\n",
              "        text-align: right;\n",
              "    }\n",
              "</style>\n",
              "<table border=\"1\" class=\"dataframe\">\n",
              "  <thead>\n",
              "    <tr style=\"text-align: right;\">\n",
              "      <th></th>\n",
              "      <th>cid</th>\n",
              "      <th>dayhours</th>\n",
              "      <th>price</th>\n",
              "      <th>room_bed</th>\n",
              "      <th>room_bath</th>\n",
              "      <th>living_measure</th>\n",
              "      <th>lot_measure</th>\n",
              "      <th>ceil</th>\n",
              "      <th>coast</th>\n",
              "      <th>sight</th>\n",
              "      <th>condition</th>\n",
              "      <th>quality</th>\n",
              "      <th>ceil_measure</th>\n",
              "      <th>basement</th>\n",
              "      <th>yr_built</th>\n",
              "      <th>yr_renovated</th>\n",
              "      <th>zipcode</th>\n",
              "      <th>lat</th>\n",
              "      <th>long</th>\n",
              "      <th>living_measure15</th>\n",
              "      <th>lot_measure15</th>\n",
              "      <th>furnished</th>\n",
              "      <th>total_area</th>\n",
              "      <th>soldyr</th>\n",
              "      <th>soldmonth</th>\n",
              "    </tr>\n",
              "  </thead>\n",
              "  <tbody>\n",
              "    <tr>\n",
              "      <th>0</th>\n",
              "      <td>3034200666</td>\n",
              "      <td>2014-11-07</td>\n",
              "      <td>808100</td>\n",
              "      <td>4</td>\n",
              "      <td>3.25</td>\n",
              "      <td>3020</td>\n",
              "      <td>13457</td>\n",
              "      <td>1.0</td>\n",
              "      <td>0</td>\n",
              "      <td>0</td>\n",
              "      <td>5</td>\n",
              "      <td>9</td>\n",
              "      <td>3020</td>\n",
              "      <td>0</td>\n",
              "      <td>1956</td>\n",
              "      <td>0</td>\n",
              "      <td>98133</td>\n",
              "      <td>47.7174</td>\n",
              "      <td>-122.336</td>\n",
              "      <td>2120</td>\n",
              "      <td>7553</td>\n",
              "      <td>1</td>\n",
              "      <td>16477</td>\n",
              "      <td>2014</td>\n",
              "      <td>11</td>\n",
              "    </tr>\n",
              "    <tr>\n",
              "      <th>1</th>\n",
              "      <td>8731981640</td>\n",
              "      <td>2014-12-04</td>\n",
              "      <td>277500</td>\n",
              "      <td>4</td>\n",
              "      <td>2.50</td>\n",
              "      <td>2550</td>\n",
              "      <td>7500</td>\n",
              "      <td>1.0</td>\n",
              "      <td>0</td>\n",
              "      <td>0</td>\n",
              "      <td>3</td>\n",
              "      <td>8</td>\n",
              "      <td>1750</td>\n",
              "      <td>800</td>\n",
              "      <td>1976</td>\n",
              "      <td>0</td>\n",
              "      <td>98023</td>\n",
              "      <td>47.3165</td>\n",
              "      <td>-122.386</td>\n",
              "      <td>2260</td>\n",
              "      <td>8800</td>\n",
              "      <td>0</td>\n",
              "      <td>10050</td>\n",
              "      <td>2014</td>\n",
              "      <td>12</td>\n",
              "    </tr>\n",
              "    <tr>\n",
              "      <th>2</th>\n",
              "      <td>5104530220</td>\n",
              "      <td>2015-04-20</td>\n",
              "      <td>404000</td>\n",
              "      <td>3</td>\n",
              "      <td>2.50</td>\n",
              "      <td>2370</td>\n",
              "      <td>4324</td>\n",
              "      <td>2.0</td>\n",
              "      <td>0</td>\n",
              "      <td>0</td>\n",
              "      <td>3</td>\n",
              "      <td>8</td>\n",
              "      <td>2370</td>\n",
              "      <td>0</td>\n",
              "      <td>2006</td>\n",
              "      <td>0</td>\n",
              "      <td>98038</td>\n",
              "      <td>47.3515</td>\n",
              "      <td>-121.999</td>\n",
              "      <td>2370</td>\n",
              "      <td>4348</td>\n",
              "      <td>0</td>\n",
              "      <td>6694</td>\n",
              "      <td>2015</td>\n",
              "      <td>4</td>\n",
              "    </tr>\n",
              "    <tr>\n",
              "      <th>3</th>\n",
              "      <td>6145600285</td>\n",
              "      <td>2014-05-29</td>\n",
              "      <td>300000</td>\n",
              "      <td>2</td>\n",
              "      <td>1.00</td>\n",
              "      <td>820</td>\n",
              "      <td>3844</td>\n",
              "      <td>1.0</td>\n",
              "      <td>0</td>\n",
              "      <td>0</td>\n",
              "      <td>4</td>\n",
              "      <td>6</td>\n",
              "      <td>820</td>\n",
              "      <td>0</td>\n",
              "      <td>1916</td>\n",
              "      <td>0</td>\n",
              "      <td>98133</td>\n",
              "      <td>47.7049</td>\n",
              "      <td>-122.349</td>\n",
              "      <td>1520</td>\n",
              "      <td>3844</td>\n",
              "      <td>0</td>\n",
              "      <td>4664</td>\n",
              "      <td>2014</td>\n",
              "      <td>5</td>\n",
              "    </tr>\n",
              "    <tr>\n",
              "      <th>4</th>\n",
              "      <td>8924100111</td>\n",
              "      <td>2015-04-24</td>\n",
              "      <td>699000</td>\n",
              "      <td>2</td>\n",
              "      <td>1.50</td>\n",
              "      <td>1400</td>\n",
              "      <td>4050</td>\n",
              "      <td>1.0</td>\n",
              "      <td>0</td>\n",
              "      <td>0</td>\n",
              "      <td>4</td>\n",
              "      <td>8</td>\n",
              "      <td>1400</td>\n",
              "      <td>0</td>\n",
              "      <td>1954</td>\n",
              "      <td>0</td>\n",
              "      <td>98115</td>\n",
              "      <td>47.6768</td>\n",
              "      <td>-122.269</td>\n",
              "      <td>1900</td>\n",
              "      <td>5940</td>\n",
              "      <td>0</td>\n",
              "      <td>5450</td>\n",
              "      <td>2015</td>\n",
              "      <td>4</td>\n",
              "    </tr>\n",
              "  </tbody>\n",
              "</table>\n",
              "</div>"
            ],
            "text/plain": [
              "          cid   dayhours   price  ...  total_area  soldyr  soldmonth\n",
              "0  3034200666 2014-11-07  808100  ...       16477    2014         11\n",
              "1  8731981640 2014-12-04  277500  ...       10050    2014         12\n",
              "2  5104530220 2015-04-20  404000  ...        6694    2015          4\n",
              "3  6145600285 2014-05-29  300000  ...        4664    2014          5\n",
              "4  8924100111 2015-04-24  699000  ...        5450    2015          4\n",
              "\n",
              "[5 rows x 25 columns]"
            ]
          },
          "metadata": {
            "tags": []
          },
          "execution_count": 192
        }
      ]
    },
    {
      "cell_type": "markdown",
      "metadata": {
        "id": "nOJZFfi_KNnX",
        "colab_type": "text"
      },
      "source": [
        "From the above dataset,dropping off the column day hours as we have extracted the month & year from that and added a seperate column"
      ]
    },
    {
      "cell_type": "code",
      "metadata": {
        "id": "H3_33CgUKJUo",
        "colab_type": "code",
        "outputId": "b97460f9-f6fa-47e9-a7db-ae5ff600a6cc",
        "colab": {
          "base_uri": "https://localhost:8080/",
          "height": 317
        }
      },
      "source": [
        "#dropping dayhours column\n",
        "house_data=dfdata.drop('dayhours',axis=1)\n",
        "house_data.describe()"
      ],
      "execution_count": 193,
      "outputs": [
        {
          "output_type": "execute_result",
          "data": {
            "text/html": [
              "<div>\n",
              "<style scoped>\n",
              "    .dataframe tbody tr th:only-of-type {\n",
              "        vertical-align: middle;\n",
              "    }\n",
              "\n",
              "    .dataframe tbody tr th {\n",
              "        vertical-align: top;\n",
              "    }\n",
              "\n",
              "    .dataframe thead th {\n",
              "        text-align: right;\n",
              "    }\n",
              "</style>\n",
              "<table border=\"1\" class=\"dataframe\">\n",
              "  <thead>\n",
              "    <tr style=\"text-align: right;\">\n",
              "      <th></th>\n",
              "      <th>cid</th>\n",
              "      <th>price</th>\n",
              "      <th>room_bed</th>\n",
              "      <th>room_bath</th>\n",
              "      <th>living_measure</th>\n",
              "      <th>lot_measure</th>\n",
              "      <th>ceil</th>\n",
              "      <th>coast</th>\n",
              "      <th>sight</th>\n",
              "      <th>condition</th>\n",
              "      <th>quality</th>\n",
              "      <th>ceil_measure</th>\n",
              "      <th>basement</th>\n",
              "      <th>yr_built</th>\n",
              "      <th>yr_renovated</th>\n",
              "      <th>zipcode</th>\n",
              "      <th>lat</th>\n",
              "      <th>long</th>\n",
              "      <th>living_measure15</th>\n",
              "      <th>lot_measure15</th>\n",
              "      <th>furnished</th>\n",
              "      <th>total_area</th>\n",
              "      <th>soldyr</th>\n",
              "      <th>soldmonth</th>\n",
              "    </tr>\n",
              "  </thead>\n",
              "  <tbody>\n",
              "    <tr>\n",
              "      <th>count</th>\n",
              "      <td>2.161300e+04</td>\n",
              "      <td>2.161300e+04</td>\n",
              "      <td>21613.000000</td>\n",
              "      <td>21613.000000</td>\n",
              "      <td>21613.000000</td>\n",
              "      <td>2.161300e+04</td>\n",
              "      <td>21613.000000</td>\n",
              "      <td>21613.000000</td>\n",
              "      <td>21613.000000</td>\n",
              "      <td>21613.000000</td>\n",
              "      <td>21613.000000</td>\n",
              "      <td>21613.000000</td>\n",
              "      <td>21613.000000</td>\n",
              "      <td>21613.000000</td>\n",
              "      <td>21613.000000</td>\n",
              "      <td>21613.000000</td>\n",
              "      <td>21613.000000</td>\n",
              "      <td>21613.000000</td>\n",
              "      <td>21613.000000</td>\n",
              "      <td>21613.000000</td>\n",
              "      <td>21613.000000</td>\n",
              "      <td>2.161300e+04</td>\n",
              "      <td>21613.000000</td>\n",
              "      <td>21613.000000</td>\n",
              "    </tr>\n",
              "    <tr>\n",
              "      <th>mean</th>\n",
              "      <td>4.580302e+09</td>\n",
              "      <td>5.401822e+05</td>\n",
              "      <td>3.370842</td>\n",
              "      <td>2.114757</td>\n",
              "      <td>2079.899736</td>\n",
              "      <td>1.510697e+04</td>\n",
              "      <td>1.494309</td>\n",
              "      <td>0.007542</td>\n",
              "      <td>0.234303</td>\n",
              "      <td>3.409430</td>\n",
              "      <td>7.656873</td>\n",
              "      <td>1788.390691</td>\n",
              "      <td>291.509045</td>\n",
              "      <td>1971.005136</td>\n",
              "      <td>84.402258</td>\n",
              "      <td>98077.939805</td>\n",
              "      <td>47.560053</td>\n",
              "      <td>-122.213896</td>\n",
              "      <td>1986.552492</td>\n",
              "      <td>12768.455652</td>\n",
              "      <td>0.196687</td>\n",
              "      <td>1.718687e+04</td>\n",
              "      <td>2014.322954</td>\n",
              "      <td>6.574423</td>\n",
              "    </tr>\n",
              "    <tr>\n",
              "      <th>std</th>\n",
              "      <td>2.876566e+09</td>\n",
              "      <td>3.673622e+05</td>\n",
              "      <td>0.930062</td>\n",
              "      <td>0.770163</td>\n",
              "      <td>918.440897</td>\n",
              "      <td>4.142051e+04</td>\n",
              "      <td>0.539989</td>\n",
              "      <td>0.086517</td>\n",
              "      <td>0.766318</td>\n",
              "      <td>0.650743</td>\n",
              "      <td>1.175459</td>\n",
              "      <td>828.090978</td>\n",
              "      <td>442.575043</td>\n",
              "      <td>29.373411</td>\n",
              "      <td>401.679240</td>\n",
              "      <td>53.505026</td>\n",
              "      <td>0.138564</td>\n",
              "      <td>0.140828</td>\n",
              "      <td>685.391304</td>\n",
              "      <td>27304.179631</td>\n",
              "      <td>0.397503</td>\n",
              "      <td>4.158908e+04</td>\n",
              "      <td>0.467616</td>\n",
              "      <td>3.115308</td>\n",
              "    </tr>\n",
              "    <tr>\n",
              "      <th>min</th>\n",
              "      <td>1.000102e+06</td>\n",
              "      <td>7.500000e+04</td>\n",
              "      <td>0.000000</td>\n",
              "      <td>0.000000</td>\n",
              "      <td>290.000000</td>\n",
              "      <td>5.200000e+02</td>\n",
              "      <td>1.000000</td>\n",
              "      <td>0.000000</td>\n",
              "      <td>0.000000</td>\n",
              "      <td>1.000000</td>\n",
              "      <td>1.000000</td>\n",
              "      <td>290.000000</td>\n",
              "      <td>0.000000</td>\n",
              "      <td>1900.000000</td>\n",
              "      <td>0.000000</td>\n",
              "      <td>98001.000000</td>\n",
              "      <td>47.155900</td>\n",
              "      <td>-122.519000</td>\n",
              "      <td>399.000000</td>\n",
              "      <td>651.000000</td>\n",
              "      <td>0.000000</td>\n",
              "      <td>1.423000e+03</td>\n",
              "      <td>2014.000000</td>\n",
              "      <td>1.000000</td>\n",
              "    </tr>\n",
              "    <tr>\n",
              "      <th>25%</th>\n",
              "      <td>2.123049e+09</td>\n",
              "      <td>3.219500e+05</td>\n",
              "      <td>3.000000</td>\n",
              "      <td>1.750000</td>\n",
              "      <td>1427.000000</td>\n",
              "      <td>5.040000e+03</td>\n",
              "      <td>1.000000</td>\n",
              "      <td>0.000000</td>\n",
              "      <td>0.000000</td>\n",
              "      <td>3.000000</td>\n",
              "      <td>7.000000</td>\n",
              "      <td>1190.000000</td>\n",
              "      <td>0.000000</td>\n",
              "      <td>1951.000000</td>\n",
              "      <td>0.000000</td>\n",
              "      <td>98033.000000</td>\n",
              "      <td>47.471000</td>\n",
              "      <td>-122.328000</td>\n",
              "      <td>1490.000000</td>\n",
              "      <td>5100.000000</td>\n",
              "      <td>0.000000</td>\n",
              "      <td>7.035000e+03</td>\n",
              "      <td>2014.000000</td>\n",
              "      <td>4.000000</td>\n",
              "    </tr>\n",
              "    <tr>\n",
              "      <th>50%</th>\n",
              "      <td>3.904930e+09</td>\n",
              "      <td>4.500000e+05</td>\n",
              "      <td>3.000000</td>\n",
              "      <td>2.250000</td>\n",
              "      <td>1910.000000</td>\n",
              "      <td>7.618000e+03</td>\n",
              "      <td>1.500000</td>\n",
              "      <td>0.000000</td>\n",
              "      <td>0.000000</td>\n",
              "      <td>3.000000</td>\n",
              "      <td>7.000000</td>\n",
              "      <td>1560.000000</td>\n",
              "      <td>0.000000</td>\n",
              "      <td>1975.000000</td>\n",
              "      <td>0.000000</td>\n",
              "      <td>98065.000000</td>\n",
              "      <td>47.571800</td>\n",
              "      <td>-122.230000</td>\n",
              "      <td>1840.000000</td>\n",
              "      <td>7620.000000</td>\n",
              "      <td>0.000000</td>\n",
              "      <td>9.575000e+03</td>\n",
              "      <td>2014.000000</td>\n",
              "      <td>6.000000</td>\n",
              "    </tr>\n",
              "    <tr>\n",
              "      <th>75%</th>\n",
              "      <td>7.308900e+09</td>\n",
              "      <td>6.450000e+05</td>\n",
              "      <td>4.000000</td>\n",
              "      <td>2.500000</td>\n",
              "      <td>2550.000000</td>\n",
              "      <td>1.068800e+04</td>\n",
              "      <td>2.000000</td>\n",
              "      <td>0.000000</td>\n",
              "      <td>0.000000</td>\n",
              "      <td>4.000000</td>\n",
              "      <td>8.000000</td>\n",
              "      <td>2210.000000</td>\n",
              "      <td>560.000000</td>\n",
              "      <td>1997.000000</td>\n",
              "      <td>0.000000</td>\n",
              "      <td>98118.000000</td>\n",
              "      <td>47.678000</td>\n",
              "      <td>-122.125000</td>\n",
              "      <td>2360.000000</td>\n",
              "      <td>10083.000000</td>\n",
              "      <td>0.000000</td>\n",
              "      <td>1.300000e+04</td>\n",
              "      <td>2015.000000</td>\n",
              "      <td>9.000000</td>\n",
              "    </tr>\n",
              "    <tr>\n",
              "      <th>max</th>\n",
              "      <td>9.900000e+09</td>\n",
              "      <td>7.700000e+06</td>\n",
              "      <td>33.000000</td>\n",
              "      <td>8.000000</td>\n",
              "      <td>13540.000000</td>\n",
              "      <td>1.651359e+06</td>\n",
              "      <td>3.500000</td>\n",
              "      <td>1.000000</td>\n",
              "      <td>4.000000</td>\n",
              "      <td>5.000000</td>\n",
              "      <td>13.000000</td>\n",
              "      <td>9410.000000</td>\n",
              "      <td>4820.000000</td>\n",
              "      <td>2015.000000</td>\n",
              "      <td>2015.000000</td>\n",
              "      <td>98199.000000</td>\n",
              "      <td>47.777600</td>\n",
              "      <td>-121.315000</td>\n",
              "      <td>6210.000000</td>\n",
              "      <td>871200.000000</td>\n",
              "      <td>1.000000</td>\n",
              "      <td>1.652659e+06</td>\n",
              "      <td>2015.000000</td>\n",
              "      <td>12.000000</td>\n",
              "    </tr>\n",
              "  </tbody>\n",
              "</table>\n",
              "</div>"
            ],
            "text/plain": [
              "                cid         price  ...        soldyr     soldmonth\n",
              "count  2.161300e+04  2.161300e+04  ...  21613.000000  21613.000000\n",
              "mean   4.580302e+09  5.401822e+05  ...   2014.322954      6.574423\n",
              "std    2.876566e+09  3.673622e+05  ...      0.467616      3.115308\n",
              "min    1.000102e+06  7.500000e+04  ...   2014.000000      1.000000\n",
              "25%    2.123049e+09  3.219500e+05  ...   2014.000000      4.000000\n",
              "50%    3.904930e+09  4.500000e+05  ...   2014.000000      6.000000\n",
              "75%    7.308900e+09  6.450000e+05  ...   2015.000000      9.000000\n",
              "max    9.900000e+09  7.700000e+06  ...   2015.000000     12.000000\n",
              "\n",
              "[8 rows x 24 columns]"
            ]
          },
          "metadata": {
            "tags": []
          },
          "execution_count": 193
        }
      ]
    },
    {
      "cell_type": "markdown",
      "metadata": {
        "id": "5Jl3We1BKVZr",
        "colab_type": "text"
      },
      "source": [
        "**checking for presence of missing value**"
      ]
    },
    {
      "cell_type": "code",
      "metadata": {
        "id": "vTuGli0AKRUS",
        "colab_type": "code",
        "outputId": "8453eb83-735d-45a6-b6c8-eec1042a72fa",
        "colab": {
          "base_uri": "https://localhost:8080/",
          "height": 459
        }
      },
      "source": [
        "missing_values=house_data.isnull()\n",
        "print('Missing values count in datatable:\\n',missing_values.sum())"
      ],
      "execution_count": 194,
      "outputs": [
        {
          "output_type": "stream",
          "text": [
            "Missing values count in datatable:\n",
            " cid                 0\n",
            "price               0\n",
            "room_bed            0\n",
            "room_bath           0\n",
            "living_measure      0\n",
            "lot_measure         0\n",
            "ceil                0\n",
            "coast               0\n",
            "sight               0\n",
            "condition           0\n",
            "quality             0\n",
            "ceil_measure        0\n",
            "basement            0\n",
            "yr_built            0\n",
            "yr_renovated        0\n",
            "zipcode             0\n",
            "lat                 0\n",
            "long                0\n",
            "living_measure15    0\n",
            "lot_measure15       0\n",
            "furnished           0\n",
            "total_area          0\n",
            "soldyr              0\n",
            "soldmonth           0\n",
            "dtype: int64\n"
          ],
          "name": "stdout"
        }
      ]
    },
    {
      "cell_type": "code",
      "metadata": {
        "id": "zfrl4opVKchf",
        "colab_type": "code",
        "outputId": "aac146cc-7ada-4bc3-d518-1a539aabc4d8",
        "colab": {
          "base_uri": "https://localhost:8080/",
          "height": 221
        }
      },
      "source": [
        "#five point summary\n",
        "quartiles=house_data.describe(percentiles=[.25,.50,.75])\n",
        "print('five point summary:\\n',quartiles)"
      ],
      "execution_count": 195,
      "outputs": [
        {
          "output_type": "stream",
          "text": [
            "five point summary:\n",
            "                 cid         price  ...        soldyr     soldmonth\n",
            "count  2.161300e+04  2.161300e+04  ...  21613.000000  21613.000000\n",
            "mean   4.580302e+09  5.401822e+05  ...   2014.322954      6.574423\n",
            "std    2.876566e+09  3.673622e+05  ...      0.467616      3.115308\n",
            "min    1.000102e+06  7.500000e+04  ...   2014.000000      1.000000\n",
            "25%    2.123049e+09  3.219500e+05  ...   2014.000000      4.000000\n",
            "50%    3.904930e+09  4.500000e+05  ...   2014.000000      6.000000\n",
            "75%    7.308900e+09  6.450000e+05  ...   2015.000000      9.000000\n",
            "max    9.900000e+09  7.700000e+06  ...   2015.000000     12.000000\n",
            "\n",
            "[8 rows x 24 columns]\n"
          ],
          "name": "stdout"
        }
      ]
    },
    {
      "cell_type": "markdown",
      "metadata": {
        "id": "tZzkp8LoKjqA",
        "colab_type": "text"
      },
      "source": [
        "From the above,five point summary analysis,we see the most of indepedent variables are skewed.This might be due to outliers.The skewness affects the model performance adversely and hence the skewness of the data needs to be correct.For we first check for outliers & treat the outliers\n",
        "\n",
        "Also,we see that yr_renovated seems to be 0 in most of the case eventhough there was a difference between living measure,lot measure compared to living measure15 & lot measure 15 which doesnt make sense to the dataset.Hence we can remove this column.\n",
        "\n",
        "We can add a column to flag renovated as 1 and 0 based on difference in the area"
      ]
    },
    {
      "cell_type": "code",
      "metadata": {
        "id": "jj04KjZJKfl8",
        "colab_type": "code",
        "outputId": "09240400-125e-4f6a-d1d2-22cfade4a2f1",
        "colab": {
          "base_uri": "https://localhost:8080/",
          "height": 309
        }
      },
      "source": [
        "#Removing yr_renovated column\n",
        "house_dat=house_data.drop('yr_renovated',axis=1)\n",
        "#Adding a column to flag the renovation\n",
        "house_dat['renovated']=0\n",
        "house_dat['renovated'].loc[((house_dat['living_measure']<house_dat['living_measure15'])|(house_dat['living_measure']>house_dat['living_measure15'])|(house_dat['lot_measure']<house_dat['lot_measure15'])|(house_dat['lot_measure']>house_dat['lot_measure15']))]=1\n",
        "house_dat.head()"
      ],
      "execution_count": 196,
      "outputs": [
        {
          "output_type": "stream",
          "text": [
            "/usr/local/lib/python3.6/dist-packages/pandas/core/indexing.py:671: SettingWithCopyWarning: \n",
            "A value is trying to be set on a copy of a slice from a DataFrame\n",
            "\n",
            "See the caveats in the documentation: https://pandas.pydata.org/pandas-docs/stable/user_guide/indexing.html#returning-a-view-versus-a-copy\n",
            "  self._setitem_with_indexer(indexer, value)\n"
          ],
          "name": "stderr"
        },
        {
          "output_type": "execute_result",
          "data": {
            "text/html": [
              "<div>\n",
              "<style scoped>\n",
              "    .dataframe tbody tr th:only-of-type {\n",
              "        vertical-align: middle;\n",
              "    }\n",
              "\n",
              "    .dataframe tbody tr th {\n",
              "        vertical-align: top;\n",
              "    }\n",
              "\n",
              "    .dataframe thead th {\n",
              "        text-align: right;\n",
              "    }\n",
              "</style>\n",
              "<table border=\"1\" class=\"dataframe\">\n",
              "  <thead>\n",
              "    <tr style=\"text-align: right;\">\n",
              "      <th></th>\n",
              "      <th>cid</th>\n",
              "      <th>price</th>\n",
              "      <th>room_bed</th>\n",
              "      <th>room_bath</th>\n",
              "      <th>living_measure</th>\n",
              "      <th>lot_measure</th>\n",
              "      <th>ceil</th>\n",
              "      <th>coast</th>\n",
              "      <th>sight</th>\n",
              "      <th>condition</th>\n",
              "      <th>quality</th>\n",
              "      <th>ceil_measure</th>\n",
              "      <th>basement</th>\n",
              "      <th>yr_built</th>\n",
              "      <th>zipcode</th>\n",
              "      <th>lat</th>\n",
              "      <th>long</th>\n",
              "      <th>living_measure15</th>\n",
              "      <th>lot_measure15</th>\n",
              "      <th>furnished</th>\n",
              "      <th>total_area</th>\n",
              "      <th>soldyr</th>\n",
              "      <th>soldmonth</th>\n",
              "      <th>renovated</th>\n",
              "    </tr>\n",
              "  </thead>\n",
              "  <tbody>\n",
              "    <tr>\n",
              "      <th>0</th>\n",
              "      <td>3034200666</td>\n",
              "      <td>808100</td>\n",
              "      <td>4</td>\n",
              "      <td>3.25</td>\n",
              "      <td>3020</td>\n",
              "      <td>13457</td>\n",
              "      <td>1.0</td>\n",
              "      <td>0</td>\n",
              "      <td>0</td>\n",
              "      <td>5</td>\n",
              "      <td>9</td>\n",
              "      <td>3020</td>\n",
              "      <td>0</td>\n",
              "      <td>1956</td>\n",
              "      <td>98133</td>\n",
              "      <td>47.7174</td>\n",
              "      <td>-122.336</td>\n",
              "      <td>2120</td>\n",
              "      <td>7553</td>\n",
              "      <td>1</td>\n",
              "      <td>16477</td>\n",
              "      <td>2014</td>\n",
              "      <td>11</td>\n",
              "      <td>1</td>\n",
              "    </tr>\n",
              "    <tr>\n",
              "      <th>1</th>\n",
              "      <td>8731981640</td>\n",
              "      <td>277500</td>\n",
              "      <td>4</td>\n",
              "      <td>2.50</td>\n",
              "      <td>2550</td>\n",
              "      <td>7500</td>\n",
              "      <td>1.0</td>\n",
              "      <td>0</td>\n",
              "      <td>0</td>\n",
              "      <td>3</td>\n",
              "      <td>8</td>\n",
              "      <td>1750</td>\n",
              "      <td>800</td>\n",
              "      <td>1976</td>\n",
              "      <td>98023</td>\n",
              "      <td>47.3165</td>\n",
              "      <td>-122.386</td>\n",
              "      <td>2260</td>\n",
              "      <td>8800</td>\n",
              "      <td>0</td>\n",
              "      <td>10050</td>\n",
              "      <td>2014</td>\n",
              "      <td>12</td>\n",
              "      <td>1</td>\n",
              "    </tr>\n",
              "    <tr>\n",
              "      <th>2</th>\n",
              "      <td>5104530220</td>\n",
              "      <td>404000</td>\n",
              "      <td>3</td>\n",
              "      <td>2.50</td>\n",
              "      <td>2370</td>\n",
              "      <td>4324</td>\n",
              "      <td>2.0</td>\n",
              "      <td>0</td>\n",
              "      <td>0</td>\n",
              "      <td>3</td>\n",
              "      <td>8</td>\n",
              "      <td>2370</td>\n",
              "      <td>0</td>\n",
              "      <td>2006</td>\n",
              "      <td>98038</td>\n",
              "      <td>47.3515</td>\n",
              "      <td>-121.999</td>\n",
              "      <td>2370</td>\n",
              "      <td>4348</td>\n",
              "      <td>0</td>\n",
              "      <td>6694</td>\n",
              "      <td>2015</td>\n",
              "      <td>4</td>\n",
              "      <td>1</td>\n",
              "    </tr>\n",
              "    <tr>\n",
              "      <th>3</th>\n",
              "      <td>6145600285</td>\n",
              "      <td>300000</td>\n",
              "      <td>2</td>\n",
              "      <td>1.00</td>\n",
              "      <td>820</td>\n",
              "      <td>3844</td>\n",
              "      <td>1.0</td>\n",
              "      <td>0</td>\n",
              "      <td>0</td>\n",
              "      <td>4</td>\n",
              "      <td>6</td>\n",
              "      <td>820</td>\n",
              "      <td>0</td>\n",
              "      <td>1916</td>\n",
              "      <td>98133</td>\n",
              "      <td>47.7049</td>\n",
              "      <td>-122.349</td>\n",
              "      <td>1520</td>\n",
              "      <td>3844</td>\n",
              "      <td>0</td>\n",
              "      <td>4664</td>\n",
              "      <td>2014</td>\n",
              "      <td>5</td>\n",
              "      <td>1</td>\n",
              "    </tr>\n",
              "    <tr>\n",
              "      <th>4</th>\n",
              "      <td>8924100111</td>\n",
              "      <td>699000</td>\n",
              "      <td>2</td>\n",
              "      <td>1.50</td>\n",
              "      <td>1400</td>\n",
              "      <td>4050</td>\n",
              "      <td>1.0</td>\n",
              "      <td>0</td>\n",
              "      <td>0</td>\n",
              "      <td>4</td>\n",
              "      <td>8</td>\n",
              "      <td>1400</td>\n",
              "      <td>0</td>\n",
              "      <td>1954</td>\n",
              "      <td>98115</td>\n",
              "      <td>47.6768</td>\n",
              "      <td>-122.269</td>\n",
              "      <td>1900</td>\n",
              "      <td>5940</td>\n",
              "      <td>0</td>\n",
              "      <td>5450</td>\n",
              "      <td>2015</td>\n",
              "      <td>4</td>\n",
              "      <td>1</td>\n",
              "    </tr>\n",
              "  </tbody>\n",
              "</table>\n",
              "</div>"
            ],
            "text/plain": [
              "          cid   price  room_bed  ...  soldyr  soldmonth  renovated\n",
              "0  3034200666  808100         4  ...    2014         11          1\n",
              "1  8731981640  277500         4  ...    2014         12          1\n",
              "2  5104530220  404000         3  ...    2015          4          1\n",
              "3  6145600285  300000         2  ...    2014          5          1\n",
              "4  8924100111  699000         2  ...    2015          4          1\n",
              "\n",
              "[5 rows x 24 columns]"
            ]
          },
          "metadata": {
            "tags": []
          },
          "execution_count": 196
        }
      ]
    },
    {
      "cell_type": "markdown",
      "metadata": {
        "id": "qTOY3pwKKthV",
        "colab_type": "text"
      },
      "source": [
        "Since we had a new column \"renovation\" to indicate whether the house was renovated or not.We can drop off living measure15 and lot measure15 columns"
      ]
    },
    {
      "cell_type": "code",
      "metadata": {
        "id": "Ix-8-b9QKm46",
        "colab_type": "code",
        "outputId": "e0679040-7a83-47f6-aa55-692412c2d521",
        "colab": {
          "base_uri": "https://localhost:8080/",
          "height": 224
        }
      },
      "source": [
        "#Removing living_measure 15 and lot_measure15 columns\n",
        "house_dat1=house_dat.drop(['living_measure15','lot_measure15'],axis=1)\n",
        "house_dat1.head()"
      ],
      "execution_count": 197,
      "outputs": [
        {
          "output_type": "execute_result",
          "data": {
            "text/html": [
              "<div>\n",
              "<style scoped>\n",
              "    .dataframe tbody tr th:only-of-type {\n",
              "        vertical-align: middle;\n",
              "    }\n",
              "\n",
              "    .dataframe tbody tr th {\n",
              "        vertical-align: top;\n",
              "    }\n",
              "\n",
              "    .dataframe thead th {\n",
              "        text-align: right;\n",
              "    }\n",
              "</style>\n",
              "<table border=\"1\" class=\"dataframe\">\n",
              "  <thead>\n",
              "    <tr style=\"text-align: right;\">\n",
              "      <th></th>\n",
              "      <th>cid</th>\n",
              "      <th>price</th>\n",
              "      <th>room_bed</th>\n",
              "      <th>room_bath</th>\n",
              "      <th>living_measure</th>\n",
              "      <th>lot_measure</th>\n",
              "      <th>ceil</th>\n",
              "      <th>coast</th>\n",
              "      <th>sight</th>\n",
              "      <th>condition</th>\n",
              "      <th>quality</th>\n",
              "      <th>ceil_measure</th>\n",
              "      <th>basement</th>\n",
              "      <th>yr_built</th>\n",
              "      <th>zipcode</th>\n",
              "      <th>lat</th>\n",
              "      <th>long</th>\n",
              "      <th>furnished</th>\n",
              "      <th>total_area</th>\n",
              "      <th>soldyr</th>\n",
              "      <th>soldmonth</th>\n",
              "      <th>renovated</th>\n",
              "    </tr>\n",
              "  </thead>\n",
              "  <tbody>\n",
              "    <tr>\n",
              "      <th>0</th>\n",
              "      <td>3034200666</td>\n",
              "      <td>808100</td>\n",
              "      <td>4</td>\n",
              "      <td>3.25</td>\n",
              "      <td>3020</td>\n",
              "      <td>13457</td>\n",
              "      <td>1.0</td>\n",
              "      <td>0</td>\n",
              "      <td>0</td>\n",
              "      <td>5</td>\n",
              "      <td>9</td>\n",
              "      <td>3020</td>\n",
              "      <td>0</td>\n",
              "      <td>1956</td>\n",
              "      <td>98133</td>\n",
              "      <td>47.7174</td>\n",
              "      <td>-122.336</td>\n",
              "      <td>1</td>\n",
              "      <td>16477</td>\n",
              "      <td>2014</td>\n",
              "      <td>11</td>\n",
              "      <td>1</td>\n",
              "    </tr>\n",
              "    <tr>\n",
              "      <th>1</th>\n",
              "      <td>8731981640</td>\n",
              "      <td>277500</td>\n",
              "      <td>4</td>\n",
              "      <td>2.50</td>\n",
              "      <td>2550</td>\n",
              "      <td>7500</td>\n",
              "      <td>1.0</td>\n",
              "      <td>0</td>\n",
              "      <td>0</td>\n",
              "      <td>3</td>\n",
              "      <td>8</td>\n",
              "      <td>1750</td>\n",
              "      <td>800</td>\n",
              "      <td>1976</td>\n",
              "      <td>98023</td>\n",
              "      <td>47.3165</td>\n",
              "      <td>-122.386</td>\n",
              "      <td>0</td>\n",
              "      <td>10050</td>\n",
              "      <td>2014</td>\n",
              "      <td>12</td>\n",
              "      <td>1</td>\n",
              "    </tr>\n",
              "    <tr>\n",
              "      <th>2</th>\n",
              "      <td>5104530220</td>\n",
              "      <td>404000</td>\n",
              "      <td>3</td>\n",
              "      <td>2.50</td>\n",
              "      <td>2370</td>\n",
              "      <td>4324</td>\n",
              "      <td>2.0</td>\n",
              "      <td>0</td>\n",
              "      <td>0</td>\n",
              "      <td>3</td>\n",
              "      <td>8</td>\n",
              "      <td>2370</td>\n",
              "      <td>0</td>\n",
              "      <td>2006</td>\n",
              "      <td>98038</td>\n",
              "      <td>47.3515</td>\n",
              "      <td>-121.999</td>\n",
              "      <td>0</td>\n",
              "      <td>6694</td>\n",
              "      <td>2015</td>\n",
              "      <td>4</td>\n",
              "      <td>1</td>\n",
              "    </tr>\n",
              "    <tr>\n",
              "      <th>3</th>\n",
              "      <td>6145600285</td>\n",
              "      <td>300000</td>\n",
              "      <td>2</td>\n",
              "      <td>1.00</td>\n",
              "      <td>820</td>\n",
              "      <td>3844</td>\n",
              "      <td>1.0</td>\n",
              "      <td>0</td>\n",
              "      <td>0</td>\n",
              "      <td>4</td>\n",
              "      <td>6</td>\n",
              "      <td>820</td>\n",
              "      <td>0</td>\n",
              "      <td>1916</td>\n",
              "      <td>98133</td>\n",
              "      <td>47.7049</td>\n",
              "      <td>-122.349</td>\n",
              "      <td>0</td>\n",
              "      <td>4664</td>\n",
              "      <td>2014</td>\n",
              "      <td>5</td>\n",
              "      <td>1</td>\n",
              "    </tr>\n",
              "    <tr>\n",
              "      <th>4</th>\n",
              "      <td>8924100111</td>\n",
              "      <td>699000</td>\n",
              "      <td>2</td>\n",
              "      <td>1.50</td>\n",
              "      <td>1400</td>\n",
              "      <td>4050</td>\n",
              "      <td>1.0</td>\n",
              "      <td>0</td>\n",
              "      <td>0</td>\n",
              "      <td>4</td>\n",
              "      <td>8</td>\n",
              "      <td>1400</td>\n",
              "      <td>0</td>\n",
              "      <td>1954</td>\n",
              "      <td>98115</td>\n",
              "      <td>47.6768</td>\n",
              "      <td>-122.269</td>\n",
              "      <td>0</td>\n",
              "      <td>5450</td>\n",
              "      <td>2015</td>\n",
              "      <td>4</td>\n",
              "      <td>1</td>\n",
              "    </tr>\n",
              "  </tbody>\n",
              "</table>\n",
              "</div>"
            ],
            "text/plain": [
              "          cid   price  room_bed  ...  soldyr  soldmonth  renovated\n",
              "0  3034200666  808100         4  ...    2014         11          1\n",
              "1  8731981640  277500         4  ...    2014         12          1\n",
              "2  5104530220  404000         3  ...    2015          4          1\n",
              "3  6145600285  300000         2  ...    2014          5          1\n",
              "4  8924100111  699000         2  ...    2015          4          1\n",
              "\n",
              "[5 rows x 22 columns]"
            ]
          },
          "metadata": {
            "tags": []
          },
          "execution_count": 197
        }
      ]
    },
    {
      "cell_type": "markdown",
      "metadata": {
        "id": "E3VtWVLIgT05",
        "colab_type": "text"
      },
      "source": [
        "Creating a new variable \"cost_persqft\" from \"price\" & \"total_area\". This is to calculate median cost/sqft for all zip codes and then to save in new data table."
      ]
    },
    {
      "cell_type": "code",
      "metadata": {
        "id": "Vgh4-CB15lsb",
        "colab_type": "code",
        "colab": {}
      },
      "source": [
        "#creating new variable \"cost_persqft\" to main df\n",
        "house_dat1['cost_persqft'] = house_dat1['price']/house_dat1['total_area']"
      ],
      "execution_count": 0,
      "outputs": []
    },
    {
      "cell_type": "code",
      "metadata": {
        "id": "fzzkuAve6NX5",
        "colab_type": "code",
        "outputId": "71927fe4-7377-412c-d9ac-9c2a64052d6e",
        "colab": {
          "base_uri": "https://localhost:8080/",
          "height": 170
        }
      },
      "source": [
        "house_dat1['cost_persqft'].describe()"
      ],
      "execution_count": 199,
      "outputs": [
        {
          "output_type": "execute_result",
          "data": {
            "text/plain": [
              "count    21613.000000\n",
              "mean        59.718198\n",
              "std         45.618343\n",
              "min          0.163020\n",
              "25%         28.129056\n",
              "50%         46.853038\n",
              "75%         78.007046\n",
              "max        399.480351\n",
              "Name: cost_persqft, dtype: float64"
            ]
          },
          "metadata": {
            "tags": []
          },
          "execution_count": 199
        }
      ]
    },
    {
      "cell_type": "code",
      "metadata": {
        "id": "Lq8HkqpR-3lY",
        "colab_type": "code",
        "colab": {
          "base_uri": "https://localhost:8080/",
          "height": 224
        },
        "outputId": "743363e2-8efa-4f88-e7bc-e27d76026d43"
      },
      "source": [
        "house_dat1['median_cost_persqft'] = house_dat1.groupby('zipcode')['cost_persqft'].transform(np.median)\n",
        "house_dat1.head()"
      ],
      "execution_count": 200,
      "outputs": [
        {
          "output_type": "execute_result",
          "data": {
            "text/html": [
              "<div>\n",
              "<style scoped>\n",
              "    .dataframe tbody tr th:only-of-type {\n",
              "        vertical-align: middle;\n",
              "    }\n",
              "\n",
              "    .dataframe tbody tr th {\n",
              "        vertical-align: top;\n",
              "    }\n",
              "\n",
              "    .dataframe thead th {\n",
              "        text-align: right;\n",
              "    }\n",
              "</style>\n",
              "<table border=\"1\" class=\"dataframe\">\n",
              "  <thead>\n",
              "    <tr style=\"text-align: right;\">\n",
              "      <th></th>\n",
              "      <th>cid</th>\n",
              "      <th>price</th>\n",
              "      <th>room_bed</th>\n",
              "      <th>room_bath</th>\n",
              "      <th>living_measure</th>\n",
              "      <th>lot_measure</th>\n",
              "      <th>ceil</th>\n",
              "      <th>coast</th>\n",
              "      <th>sight</th>\n",
              "      <th>condition</th>\n",
              "      <th>quality</th>\n",
              "      <th>ceil_measure</th>\n",
              "      <th>basement</th>\n",
              "      <th>yr_built</th>\n",
              "      <th>zipcode</th>\n",
              "      <th>lat</th>\n",
              "      <th>long</th>\n",
              "      <th>furnished</th>\n",
              "      <th>total_area</th>\n",
              "      <th>soldyr</th>\n",
              "      <th>soldmonth</th>\n",
              "      <th>renovated</th>\n",
              "      <th>cost_persqft</th>\n",
              "      <th>median_cost_persqft</th>\n",
              "    </tr>\n",
              "  </thead>\n",
              "  <tbody>\n",
              "    <tr>\n",
              "      <th>0</th>\n",
              "      <td>3034200666</td>\n",
              "      <td>808100</td>\n",
              "      <td>4</td>\n",
              "      <td>3.25</td>\n",
              "      <td>3020</td>\n",
              "      <td>13457</td>\n",
              "      <td>1.0</td>\n",
              "      <td>0</td>\n",
              "      <td>0</td>\n",
              "      <td>5</td>\n",
              "      <td>9</td>\n",
              "      <td>3020</td>\n",
              "      <td>0</td>\n",
              "      <td>1956</td>\n",
              "      <td>98133</td>\n",
              "      <td>47.7174</td>\n",
              "      <td>-122.336</td>\n",
              "      <td>1</td>\n",
              "      <td>16477</td>\n",
              "      <td>2014</td>\n",
              "      <td>11</td>\n",
              "      <td>1</td>\n",
              "      <td>49.044122</td>\n",
              "      <td>42.522548</td>\n",
              "    </tr>\n",
              "    <tr>\n",
              "      <th>1</th>\n",
              "      <td>8731981640</td>\n",
              "      <td>277500</td>\n",
              "      <td>4</td>\n",
              "      <td>2.50</td>\n",
              "      <td>2550</td>\n",
              "      <td>7500</td>\n",
              "      <td>1.0</td>\n",
              "      <td>0</td>\n",
              "      <td>0</td>\n",
              "      <td>3</td>\n",
              "      <td>8</td>\n",
              "      <td>1750</td>\n",
              "      <td>800</td>\n",
              "      <td>1976</td>\n",
              "      <td>98023</td>\n",
              "      <td>47.3165</td>\n",
              "      <td>-122.386</td>\n",
              "      <td>0</td>\n",
              "      <td>10050</td>\n",
              "      <td>2014</td>\n",
              "      <td>12</td>\n",
              "      <td>1</td>\n",
              "      <td>27.611940</td>\n",
              "      <td>25.394897</td>\n",
              "    </tr>\n",
              "    <tr>\n",
              "      <th>2</th>\n",
              "      <td>5104530220</td>\n",
              "      <td>404000</td>\n",
              "      <td>3</td>\n",
              "      <td>2.50</td>\n",
              "      <td>2370</td>\n",
              "      <td>4324</td>\n",
              "      <td>2.0</td>\n",
              "      <td>0</td>\n",
              "      <td>0</td>\n",
              "      <td>3</td>\n",
              "      <td>8</td>\n",
              "      <td>2370</td>\n",
              "      <td>0</td>\n",
              "      <td>2006</td>\n",
              "      <td>98038</td>\n",
              "      <td>47.3515</td>\n",
              "      <td>-121.999</td>\n",
              "      <td>0</td>\n",
              "      <td>6694</td>\n",
              "      <td>2015</td>\n",
              "      <td>4</td>\n",
              "      <td>1</td>\n",
              "      <td>60.352555</td>\n",
              "      <td>37.139234</td>\n",
              "    </tr>\n",
              "    <tr>\n",
              "      <th>3</th>\n",
              "      <td>6145600285</td>\n",
              "      <td>300000</td>\n",
              "      <td>2</td>\n",
              "      <td>1.00</td>\n",
              "      <td>820</td>\n",
              "      <td>3844</td>\n",
              "      <td>1.0</td>\n",
              "      <td>0</td>\n",
              "      <td>0</td>\n",
              "      <td>4</td>\n",
              "      <td>6</td>\n",
              "      <td>820</td>\n",
              "      <td>0</td>\n",
              "      <td>1916</td>\n",
              "      <td>98133</td>\n",
              "      <td>47.7049</td>\n",
              "      <td>-122.349</td>\n",
              "      <td>0</td>\n",
              "      <td>4664</td>\n",
              "      <td>2014</td>\n",
              "      <td>5</td>\n",
              "      <td>1</td>\n",
              "      <td>64.322470</td>\n",
              "      <td>42.522548</td>\n",
              "    </tr>\n",
              "    <tr>\n",
              "      <th>4</th>\n",
              "      <td>8924100111</td>\n",
              "      <td>699000</td>\n",
              "      <td>2</td>\n",
              "      <td>1.50</td>\n",
              "      <td>1400</td>\n",
              "      <td>4050</td>\n",
              "      <td>1.0</td>\n",
              "      <td>0</td>\n",
              "      <td>0</td>\n",
              "      <td>4</td>\n",
              "      <td>8</td>\n",
              "      <td>1400</td>\n",
              "      <td>0</td>\n",
              "      <td>1954</td>\n",
              "      <td>98115</td>\n",
              "      <td>47.6768</td>\n",
              "      <td>-122.269</td>\n",
              "      <td>0</td>\n",
              "      <td>5450</td>\n",
              "      <td>2015</td>\n",
              "      <td>4</td>\n",
              "      <td>1</td>\n",
              "      <td>128.256881</td>\n",
              "      <td>85.910653</td>\n",
              "    </tr>\n",
              "  </tbody>\n",
              "</table>\n",
              "</div>"
            ],
            "text/plain": [
              "          cid   price  room_bed  ...  renovated  cost_persqft  median_cost_persqft\n",
              "0  3034200666  808100         4  ...          1     49.044122            42.522548\n",
              "1  8731981640  277500         4  ...          1     27.611940            25.394897\n",
              "2  5104530220  404000         3  ...          1     60.352555            37.139234\n",
              "3  6145600285  300000         2  ...          1     64.322470            42.522548\n",
              "4  8924100111  699000         2  ...          1    128.256881            85.910653\n",
              "\n",
              "[5 rows x 24 columns]"
            ]
          },
          "metadata": {
            "tags": []
          },
          "execution_count": 200
        }
      ]
    },
    {
      "cell_type": "markdown",
      "metadata": {
        "id": "CH0Af8DB_e2U",
        "colab_type": "text"
      },
      "source": [
        "**Creating new data table Median Cost Per Sqft by zipcode**"
      ]
    },
    {
      "cell_type": "code",
      "metadata": {
        "id": "P4aB4xho_dlZ",
        "colab_type": "code",
        "colab": {}
      },
      "source": [
        "costpsft_zip = house_dat1[['zipcode', 'median_cost_persqft']]"
      ],
      "execution_count": 0,
      "outputs": []
    },
    {
      "cell_type": "code",
      "metadata": {
        "id": "Hrymfn9wA7AQ",
        "colab_type": "code",
        "colab": {}
      },
      "source": [
        "costpsft_zip = costpsft_zip.drop_duplicates(subset='zipcode', keep=\"last\")"
      ],
      "execution_count": 0,
      "outputs": []
    },
    {
      "cell_type": "code",
      "metadata": {
        "id": "6FUnnJRtBGHM",
        "colab_type": "code",
        "outputId": "d193425e-05c6-42dc-bd16-5f24a7dcce7b",
        "colab": {
          "base_uri": "https://localhost:8080/",
          "height": 170
        }
      },
      "source": [
        "costpsft_zip.info()"
      ],
      "execution_count": 203,
      "outputs": [
        {
          "output_type": "stream",
          "text": [
            "<class 'pandas.core.frame.DataFrame'>\n",
            "Int64Index: 70 entries, 20932 to 21612\n",
            "Data columns (total 2 columns):\n",
            " #   Column               Non-Null Count  Dtype  \n",
            "---  ------               --------------  -----  \n",
            " 0   zipcode              70 non-null     int64  \n",
            " 1   median_cost_persqft  70 non-null     float64\n",
            "dtypes: float64(1), int64(1)\n",
            "memory usage: 1.6 KB\n"
          ],
          "name": "stdout"
        }
      ]
    },
    {
      "cell_type": "markdown",
      "metadata": {
        "id": "PPAZwHOlhwvu",
        "colab_type": "text"
      },
      "source": [
        "Now a new data table is created with median cost per sqft. Removing cost_persqft, as this is derived from variable to be predicted"
      ]
    },
    {
      "cell_type": "code",
      "metadata": {
        "id": "4pZbV1Vlij0I",
        "colab_type": "code",
        "colab": {}
      },
      "source": [
        "house_dat1=house_dat1.drop(['cost_persqft', 'median_cost_persqft'],axis=1)"
      ],
      "execution_count": 0,
      "outputs": []
    },
    {
      "cell_type": "code",
      "metadata": {
        "id": "DCvedPn1lyAk",
        "colab_type": "code",
        "colab": {}
      },
      "source": [
        "house_dat1 = pd.merge(house_dat1, costpsft_zip, on='zipcode')"
      ],
      "execution_count": 0,
      "outputs": []
    },
    {
      "cell_type": "code",
      "metadata": {
        "id": "dNW13Facl7Tj",
        "colab_type": "code",
        "colab": {
          "base_uri": "https://localhost:8080/",
          "height": 224
        },
        "outputId": "0bc5c3fe-dada-48b4-8470-4c3701be37ec"
      },
      "source": [
        "house_dat1.head()"
      ],
      "execution_count": 206,
      "outputs": [
        {
          "output_type": "execute_result",
          "data": {
            "text/html": [
              "<div>\n",
              "<style scoped>\n",
              "    .dataframe tbody tr th:only-of-type {\n",
              "        vertical-align: middle;\n",
              "    }\n",
              "\n",
              "    .dataframe tbody tr th {\n",
              "        vertical-align: top;\n",
              "    }\n",
              "\n",
              "    .dataframe thead th {\n",
              "        text-align: right;\n",
              "    }\n",
              "</style>\n",
              "<table border=\"1\" class=\"dataframe\">\n",
              "  <thead>\n",
              "    <tr style=\"text-align: right;\">\n",
              "      <th></th>\n",
              "      <th>cid</th>\n",
              "      <th>price</th>\n",
              "      <th>room_bed</th>\n",
              "      <th>room_bath</th>\n",
              "      <th>living_measure</th>\n",
              "      <th>lot_measure</th>\n",
              "      <th>ceil</th>\n",
              "      <th>coast</th>\n",
              "      <th>sight</th>\n",
              "      <th>condition</th>\n",
              "      <th>quality</th>\n",
              "      <th>ceil_measure</th>\n",
              "      <th>basement</th>\n",
              "      <th>yr_built</th>\n",
              "      <th>zipcode</th>\n",
              "      <th>lat</th>\n",
              "      <th>long</th>\n",
              "      <th>furnished</th>\n",
              "      <th>total_area</th>\n",
              "      <th>soldyr</th>\n",
              "      <th>soldmonth</th>\n",
              "      <th>renovated</th>\n",
              "      <th>median_cost_persqft</th>\n",
              "    </tr>\n",
              "  </thead>\n",
              "  <tbody>\n",
              "    <tr>\n",
              "      <th>0</th>\n",
              "      <td>3034200666</td>\n",
              "      <td>808100</td>\n",
              "      <td>4</td>\n",
              "      <td>3.25</td>\n",
              "      <td>3020</td>\n",
              "      <td>13457</td>\n",
              "      <td>1.0</td>\n",
              "      <td>0</td>\n",
              "      <td>0</td>\n",
              "      <td>5</td>\n",
              "      <td>9</td>\n",
              "      <td>3020</td>\n",
              "      <td>0</td>\n",
              "      <td>1956</td>\n",
              "      <td>98133</td>\n",
              "      <td>47.7174</td>\n",
              "      <td>-122.336</td>\n",
              "      <td>1</td>\n",
              "      <td>16477</td>\n",
              "      <td>2014</td>\n",
              "      <td>11</td>\n",
              "      <td>1</td>\n",
              "      <td>42.522548</td>\n",
              "    </tr>\n",
              "    <tr>\n",
              "      <th>1</th>\n",
              "      <td>6145600285</td>\n",
              "      <td>300000</td>\n",
              "      <td>2</td>\n",
              "      <td>1.00</td>\n",
              "      <td>820</td>\n",
              "      <td>3844</td>\n",
              "      <td>1.0</td>\n",
              "      <td>0</td>\n",
              "      <td>0</td>\n",
              "      <td>4</td>\n",
              "      <td>6</td>\n",
              "      <td>820</td>\n",
              "      <td>0</td>\n",
              "      <td>1916</td>\n",
              "      <td>98133</td>\n",
              "      <td>47.7049</td>\n",
              "      <td>-122.349</td>\n",
              "      <td>0</td>\n",
              "      <td>4664</td>\n",
              "      <td>2014</td>\n",
              "      <td>5</td>\n",
              "      <td>1</td>\n",
              "      <td>42.522548</td>\n",
              "    </tr>\n",
              "    <tr>\n",
              "      <th>2</th>\n",
              "      <td>2419600075</td>\n",
              "      <td>465000</td>\n",
              "      <td>3</td>\n",
              "      <td>1.75</td>\n",
              "      <td>1480</td>\n",
              "      <td>6360</td>\n",
              "      <td>1.0</td>\n",
              "      <td>0</td>\n",
              "      <td>0</td>\n",
              "      <td>3</td>\n",
              "      <td>7</td>\n",
              "      <td>1480</td>\n",
              "      <td>0</td>\n",
              "      <td>1954</td>\n",
              "      <td>98133</td>\n",
              "      <td>47.7311</td>\n",
              "      <td>-122.353</td>\n",
              "      <td>0</td>\n",
              "      <td>7840</td>\n",
              "      <td>2014</td>\n",
              "      <td>12</td>\n",
              "      <td>0</td>\n",
              "      <td>42.522548</td>\n",
              "    </tr>\n",
              "    <tr>\n",
              "      <th>3</th>\n",
              "      <td>6895300050</td>\n",
              "      <td>529900</td>\n",
              "      <td>5</td>\n",
              "      <td>2.25</td>\n",
              "      <td>3030</td>\n",
              "      <td>9430</td>\n",
              "      <td>2.0</td>\n",
              "      <td>0</td>\n",
              "      <td>0</td>\n",
              "      <td>4</td>\n",
              "      <td>8</td>\n",
              "      <td>2600</td>\n",
              "      <td>430</td>\n",
              "      <td>1961</td>\n",
              "      <td>98133</td>\n",
              "      <td>47.7515</td>\n",
              "      <td>-122.353</td>\n",
              "      <td>0</td>\n",
              "      <td>12460</td>\n",
              "      <td>2014</td>\n",
              "      <td>10</td>\n",
              "      <td>1</td>\n",
              "      <td>42.522548</td>\n",
              "    </tr>\n",
              "    <tr>\n",
              "      <th>4</th>\n",
              "      <td>6300500875</td>\n",
              "      <td>385000</td>\n",
              "      <td>4</td>\n",
              "      <td>1.75</td>\n",
              "      <td>1620</td>\n",
              "      <td>4980</td>\n",
              "      <td>1.0</td>\n",
              "      <td>0</td>\n",
              "      <td>0</td>\n",
              "      <td>4</td>\n",
              "      <td>7</td>\n",
              "      <td>860</td>\n",
              "      <td>760</td>\n",
              "      <td>1947</td>\n",
              "      <td>98133</td>\n",
              "      <td>47.7025</td>\n",
              "      <td>-122.341</td>\n",
              "      <td>0</td>\n",
              "      <td>6600</td>\n",
              "      <td>2014</td>\n",
              "      <td>5</td>\n",
              "      <td>1</td>\n",
              "      <td>42.522548</td>\n",
              "    </tr>\n",
              "  </tbody>\n",
              "</table>\n",
              "</div>"
            ],
            "text/plain": [
              "          cid   price  room_bed  ...  soldmonth  renovated  median_cost_persqft\n",
              "0  3034200666  808100         4  ...         11          1            42.522548\n",
              "1  6145600285  300000         2  ...          5          1            42.522548\n",
              "2  2419600075  465000         3  ...         12          0            42.522548\n",
              "3  6895300050  529900         5  ...         10          1            42.522548\n",
              "4  6300500875  385000         4  ...          5          1            42.522548\n",
              "\n",
              "[5 rows x 23 columns]"
            ]
          },
          "metadata": {
            "tags": []
          },
          "execution_count": 206
        }
      ]
    },
    {
      "cell_type": "markdown",
      "metadata": {
        "id": "P9ZXghkPKzVg",
        "colab_type": "text"
      },
      "source": [
        "Checking for outlier"
      ]
    },
    {
      "cell_type": "code",
      "metadata": {
        "id": "pJN6ANPWKwo_",
        "colab_type": "code",
        "outputId": "7a0e9ac3-f9e9-4d70-f460-a4267af033b8",
        "colab": {
          "base_uri": "https://localhost:8080/",
          "height": 1000
        }
      },
      "source": [
        "#checking outlier using IQR\n",
        "Q1=house_dat1.quantile(0.25)\n",
        "Q3=house_dat1.quantile(0.75)\n",
        "IQR=Q3-Q1\n",
        "low_value  = Q1-1.5*IQR\n",
        "high_value = Q3+1.5*IQR\n",
        "print(low_value,high_value)\n",
        "dfnonoutlier=(house_dat1>low_value) & (house_dat1<high_value)\n",
        "print('Non outlier count in datatable:\\n',dfnonoutlier.sum())"
      ],
      "execution_count": 207,
      "outputs": [
        {
          "output_type": "stream",
          "text": [
            "cid                   -5.655728e+09\n",
            "price                 -1.626250e+05\n",
            "room_bed               1.500000e+00\n",
            "room_bath              6.250000e-01\n",
            "living_measure        -2.575000e+02\n",
            "lot_measure           -3.432000e+03\n",
            "ceil                  -5.000000e-01\n",
            "coast                  0.000000e+00\n",
            "sight                  0.000000e+00\n",
            "condition              1.500000e+00\n",
            "quality                5.500000e+00\n",
            "ceil_measure          -3.400000e+02\n",
            "basement              -8.400000e+02\n",
            "yr_built               1.882000e+03\n",
            "zipcode                9.790550e+04\n",
            "lat                    4.716050e+01\n",
            "long                  -1.226325e+02\n",
            "furnished              0.000000e+00\n",
            "total_area            -1.912500e+03\n",
            "soldyr                 2.012500e+03\n",
            "soldmonth             -3.500000e+00\n",
            "renovated              1.000000e+00\n",
            "median_cost_persqft   -3.056899e+01\n",
            "dtype: float64 cid                    1.508768e+10\n",
            "price                  1.129575e+06\n",
            "room_bed               5.500000e+00\n",
            "room_bath              3.625000e+00\n",
            "living_measure         4.234500e+03\n",
            "lot_measure            1.916000e+04\n",
            "ceil                   3.500000e+00\n",
            "coast                  0.000000e+00\n",
            "sight                  0.000000e+00\n",
            "condition              5.500000e+00\n",
            "quality                9.500000e+00\n",
            "ceil_measure           3.740000e+03\n",
            "basement               1.400000e+03\n",
            "yr_built               2.066000e+03\n",
            "zipcode                9.824550e+04\n",
            "lat                    4.798850e+01\n",
            "long                  -1.218205e+02\n",
            "furnished              0.000000e+00\n",
            "total_area             2.194750e+04\n",
            "soldyr                 2.016500e+03\n",
            "soldmonth              1.650000e+01\n",
            "renovated              1.000000e+00\n",
            "median_cost_persqft    1.289457e+02\n",
            "dtype: float64\n",
            "Non outlier count in datatable:\n",
            " cid                    21613\n",
            "price                  20454\n",
            "room_bed               21067\n",
            "room_bath              21042\n",
            "living_measure         21041\n",
            "lot_measure            19188\n",
            "ceil                   21605\n",
            "coast                      0\n",
            "sight                      0\n",
            "condition              21583\n",
            "quality                19702\n",
            "ceil_measure           20994\n",
            "basement               21078\n",
            "yr_built               21613\n",
            "zipcode                21613\n",
            "lat                    21611\n",
            "long                   21357\n",
            "furnished                  0\n",
            "total_area             19194\n",
            "soldyr                 21613\n",
            "soldmonth              21613\n",
            "renovated                  0\n",
            "median_cost_persqft    20946\n",
            "dtype: int64\n"
          ],
          "name": "stdout"
        }
      ]
    },
    {
      "cell_type": "markdown",
      "metadata": {
        "id": "anlTxnX7K7rp",
        "colab_type": "text"
      },
      "source": [
        "From the above analysis,we see outliers in the most of the independent variables.We can ignore coast,sight,furnished,renovation for outlier treatment as these hold binary value For the other continuous variable like room_bed,room_bath,living_measure,lot_measure,ceil,condition,quality,ceil_measure,basement,total_area ,we would treat outliers with the 10% and 90% quantiles"
      ]
    },
    {
      "cell_type": "code",
      "metadata": {
        "id": "9n9HLdMfK3oY",
        "colab_type": "code",
        "outputId": "cc2e3f4d-7ad8-4495-c162-62c73761df3b",
        "colab": {
          "base_uri": "https://localhost:8080/",
          "height": 1000
        }
      },
      "source": [
        "#Box plot to visualise outlier\n",
        "house_dat1.boxplot('room_bed')\n",
        "plt.show()\n",
        "house_dat1.boxplot('room_bath')\n",
        "plt.show()\n",
        "house_dat1.boxplot('living_measure')\n",
        "plt.show()\n",
        "house_dat1.boxplot('lot_measure')\n",
        "plt.show()\n",
        "house_dat1.boxplot('ceil')\n",
        "plt.show()\n",
        "house_dat1.boxplot('condition')\n",
        "plt.show()\n",
        "house_dat1.boxplot('ceil_measure')\n",
        "plt.show()\n",
        "house_dat1.boxplot('basement')\n",
        "plt.show()\n",
        "house_dat1.boxplot('total_area')\n",
        "plt.show()\n",
        "house_dat1.boxplot('median_cost_persqft')\n",
        "plt.show()"
      ],
      "execution_count": 208,
      "outputs": [
        {
          "output_type": "display_data",
          "data": {
            "image/png": "[encoded data removed]",
            "text/plain": [
              "<Figure size 432x288 with 1 Axes>"
            ]
          },
          "metadata": {
            "tags": []
          }
        },
        {
          "output_type": "display_data",
          "data": {
            "image/png": "[encoded data removed]",
            "text/plain": [
              "<Figure size 432x288 with 1 Axes>"
            ]
          },
          "metadata": {
            "tags": []
          }
        },
        {
          "output_type": "display_data",
          "data": {
            "image/png": "[encoded data removed]",
            "text/plain": [
              "<Figure size 432x288 with 1 Axes>"
            ]
          },
          "metadata": {
            "tags": []
          }
        },
        {
          "output_type": "display_data",
          "data": {
            "image/png": "[encoded data removed]",
            "text/plain": [
              "<Figure size 432x288 with 1 Axes>"
            ]
          },
          "metadata": {
            "tags": []
          }
        },
        {
          "output_type": "display_data",
          "data": {
            "image/png": "[encoded data removed]",
            "text/plain": [
              "<Figure size 432x288 with 1 Axes>"
            ]
          },
          "metadata": {
            "tags": []
          }
        },
        {
          "output_type": "display_data",
          "data": {
            "image/png": "[encoded data removed]",
            "text/plain": [
              "<Figure size 432x288 with 1 Axes>"
            ]
          },
          "metadata": {
            "tags": []
          }
        },
        {
          "output_type": "display_data",
          "data": {
            "image/png": "[encoded data removed]",
            "text/plain": [
              "<Figure size 432x288 with 1 Axes>"
            ]
          },
          "metadata": {
            "tags": []
          }
        },
        {
          "output_type": "display_data",
          "data": {
            "image/png": "[encoded data removed]",
            "text/plain": [
              "<Figure size 432x288 with 1 Axes>"
            ]
          },
          "metadata": {
            "tags": []
          }
        },
        {
          "output_type": "display_data",
          "data": {
            "image/png": "[encoded data removed]",
            "text/plain": [
              "<Figure size 432x288 with 1 Axes>"
            ]
          },
          "metadata": {
            "tags": []
          }
        },
        {
          "output_type": "display_data",
          "data": {
            "image/png": "[encoded data removed]",
            "text/plain": [
              "<Figure size 432x288 with 1 Axes>"
            ]
          },
          "metadata": {
            "tags": []
          }
        }
      ]
    },
    {
      "cell_type": "code",
      "metadata": {
        "id": "ZdE1IDRXK_LS",
        "colab_type": "code",
        "outputId": "64814c02-7761-4fc3-e031-20fd2a157086",
        "colab": {
          "base_uri": "https://localhost:8080/",
          "height": 816
        }
      },
      "source": [
        "#calculating 10% & 90% quantile\n",
        "lowerquantile=house_dat1.quantile(0.10)\n",
        "upperquantile=house_dat1.quantile(0.90)\n",
        "print(lowerquantile,upperquantile)"
      ],
      "execution_count": 209,
      "outputs": [
        {
          "output_type": "stream",
          "text": [
            "cid                    1.036000e+09\n",
            "price                  2.450000e+05\n",
            "room_bed               2.000000e+00\n",
            "room_bath              1.000000e+00\n",
            "living_measure         1.090000e+03\n",
            "lot_measure            3.322200e+03\n",
            "ceil                   1.000000e+00\n",
            "coast                  0.000000e+00\n",
            "sight                  0.000000e+00\n",
            "condition              3.000000e+00\n",
            "quality                6.000000e+00\n",
            "ceil_measure           9.700000e+02\n",
            "basement               0.000000e+00\n",
            "yr_built               1.926000e+03\n",
            "zipcode                9.800800e+04\n",
            "lat                    4.735030e+01\n",
            "long                  -1.223720e+02\n",
            "furnished              0.000000e+00\n",
            "total_area             4.941200e+03\n",
            "soldyr                 2.014000e+03\n",
            "soldmonth              2.000000e+00\n",
            "renovated              1.000000e+00\n",
            "median_cost_persqft    2.517372e+01\n",
            "Name: 0.1, dtype: float64 cid                    8.732028e+09\n",
            "price                  8.870000e+05\n",
            "room_bed               4.000000e+00\n",
            "room_bath              3.000000e+00\n",
            "living_measure         3.250000e+03\n",
            "lot_measure            2.139760e+04\n",
            "ceil                   2.000000e+00\n",
            "coast                  0.000000e+00\n",
            "sight                  0.000000e+00\n",
            "condition              4.000000e+00\n",
            "quality                9.000000e+00\n",
            "ceil_measure           2.950000e+03\n",
            "basement               9.700000e+02\n",
            "yr_built               2.007000e+03\n",
            "zipcode                9.815500e+04\n",
            "lat                    4.772790e+01\n",
            "long                  -1.220220e+02\n",
            "furnished              1.000000e+00\n",
            "total_area             2.408880e+04\n",
            "soldyr                 2.015000e+03\n",
            "soldmonth              1.100000e+01\n",
            "renovated              1.000000e+00\n",
            "median_cost_persqft    1.028071e+02\n",
            "Name: 0.9, dtype: float64\n"
          ],
          "name": "stdout"
        }
      ]
    },
    {
      "cell_type": "code",
      "metadata": {
        "id": "dlnLxc1-LDHB",
        "colab_type": "code",
        "outputId": "fa167762-bcf1-4630-ceb7-e9a91f37acef",
        "colab": {
          "base_uri": "https://localhost:8080/",
          "height": 102
        }
      },
      "source": [
        "# treating outliers by replacing lower outlier with  quartile 10% and higher outlier with quartile 90%\n",
        "house_dat1['room_bed'].loc[(house_dat1['room_bed']<1.500000e+00)]=2.000000e+00\n",
        "house_dat1['room_bed'].loc[(house_data['room_bed']>5.500000e+00)]= 4.000000e+00\n",
        "house_dat1['room_bath'].loc[(house_data['room_bath']<6.250000e-01)]=1.000000e+00\n",
        "house_dat1['room_bath'].loc[(house_data['room_bath']>3.625000e+00)]=3.000000e+00\n",
        "house_dat1['living_measure'].loc[(house_data['living_measure']<-2.575000e+02)]=1.090000e+03\n",
        "house_dat1['living_measure'].loc[(house_data['living_measure']>4.234500e+03)]=3.250000e+03\n",
        "house_dat1['lot_measure'].loc[(house_data['lot_measure']<-3.432000e+03)]=3.322200e+03\n",
        "house_dat1['lot_measure'].loc[(house_data['lot_measure']>1.916000e+04)]=2.139760e+04\n",
        "house_dat1['ceil'].loc[(house_data['ceil']<-5.000000e-01)]=1.000000e+00\n",
        "house_dat1['ceil'].loc[(house_data['ceil']>3.500000e+00)]=2.000000e+00\n",
        "house_dat1['condition'].loc[(house_data['condition']<1.500000e+00)]=3.000000e+00\n",
        "house_dat1['condition'].loc[(house_data['condition']>5.500000e+00)]=4.000000e+00\n",
        "house_dat1['quality'].loc[(house_data['quality']<5.500000e+00)]= 6.000000e+00\n",
        "house_dat1['quality'].loc[(house_data['quality']>9.500000e+00)]=9.000000e+00\n",
        "house_dat1['ceil_measure'].loc[(house_data['ceil_measure']<-3.400000e+02)]=9.700000e+02\n",
        "house_dat1['ceil_measure'].loc[(house_data['ceil_measure']>3.740000e+03)]=2.950000e+03\n",
        "house_dat1['basement'].loc[(house_data['basement']<-8.400000e+02)]=0.000000e+00\n",
        "house_dat1['basement'].loc[(house_data['basement']>1.400000e+03)]=9.700000e+02\n",
        "house_dat1['long'].loc[(house_data['long']<-1.226325e+02)]=-1.223870e+02\n",
        "house_dat1['long'].loc[(house_data['long']>-1.218205e+02)]=-1.219790e+02\n",
        "house_dat1['total_area'].loc[(house_data['total_area']<-1.912500e+03)]=4.941200e+03\n",
        "house_dat1['total_area'].loc[(house_data['total_area']>2.194750e+04)]=2.408880e+04"
      ],
      "execution_count": 210,
      "outputs": [
        {
          "output_type": "stream",
          "text": [
            "/usr/local/lib/python3.6/dist-packages/pandas/core/indexing.py:671: SettingWithCopyWarning: \n",
            "A value is trying to be set on a copy of a slice from a DataFrame\n",
            "\n",
            "See the caveats in the documentation: https://pandas.pydata.org/pandas-docs/stable/user_guide/indexing.html#returning-a-view-versus-a-copy\n",
            "  self._setitem_with_indexer(indexer, value)\n"
          ],
          "name": "stderr"
        }
      ]
    },
    {
      "cell_type": "code",
      "metadata": {
        "id": "IOXf-yZLLJV-",
        "colab_type": "code",
        "outputId": "4d4b15d2-901c-4281-b8c6-41b76ce5d874",
        "colab": {
          "base_uri": "https://localhost:8080/",
          "height": 1000
        }
      },
      "source": [
        "#Box plot to validate after removal of outlier\n",
        "house_dat1.boxplot('room_bed')\n",
        "plt.show()\n",
        "house_dat1.boxplot('room_bath')\n",
        "plt.show()\n",
        "house_dat1.boxplot('living_measure')\n",
        "plt.show()\n",
        "house_dat1.boxplot('lot_measure')\n",
        "plt.show()\n",
        "house_dat1.boxplot('ceil')\n",
        "plt.show()\n",
        "house_dat1.boxplot('condition')\n",
        "plt.show()\n",
        "house_dat1.boxplot('quality')\n",
        "plt.show()\n",
        "house_dat1.boxplot('ceil_measure')\n",
        "plt.show()\n",
        "house_dat1.boxplot('basement')\n",
        "plt.show()\n",
        "house_dat1.boxplot('long')\n",
        "plt.show()\n",
        "house_dat1.boxplot('total_area')\n",
        "plt.show()"
      ],
      "execution_count": 211,
      "outputs": [
        {
          "output_type": "display_data",
          "data": {
            "image/png": "[encoded data removed]",
            "text/plain": [
              "<Figure size 432x288 with 1 Axes>"
            ]
          },
          "metadata": {
            "tags": []
          }
        },
        {
          "output_type": "display_data",
          "data": {
            "image/png": "[encoded data removed]",
            "text/plain": [
              "<Figure size 432x288 with 1 Axes>"
            ]
          },
          "metadata": {
            "tags": []
          }
        },
        {
          "output_type": "display_data",
          "data": {
            "image/png": "[encoded data removed]",
            "text/plain": [
              "<Figure size 432x288 with 1 Axes>"
            ]
          },
          "metadata": {
            "tags": []
          }
        },
        {
          "output_type": "display_data",
          "data": {
            "image/png": "[encoded data removed]",
            "text/plain": [
              "<Figure size 432x288 with 1 Axes>"
            ]
          },
          "metadata": {
            "tags": []
          }
        },
        {
          "output_type": "display_data",
          "data": {
            "image/png": "[encoded data removed]",
            "text/plain": [
              "<Figure size 432x288 with 1 Axes>"
            ]
          },
          "metadata": {
            "tags": []
          }
        },
        {
          "output_type": "display_data",
          "data": {
            "image/png": "[encoded data removed]",
            "text/plain": [
              "<Figure size 432x288 with 1 Axes>"
            ]
          },
          "metadata": {
            "tags": []
          }
        },
        {
          "output_type": "display_data",
          "data": {
            "image/png": "[encoded data removed]",
            "text/plain": [
              "<Figure size 432x288 with 1 Axes>"
            ]
          },
          "metadata": {
            "tags": []
          }
        },
        {
          "output_type": "display_data",
          "data": {
            "image/png": "[encoded data removed]",
            "text/plain": [
              "<Figure size 432x288 with 1 Axes>"
            ]
          },
          "metadata": {
            "tags": []
          }
        },
        {
          "output_type": "display_data",
          "data": {
            "image/png": "[encoded data removed]",
            "text/plain": [
              "<Figure size 432x288 with 1 Axes>"
            ]
          },
          "metadata": {
            "tags": []
          }
        },
        {
          "output_type": "display_data",
          "data": {
            "image/png": "[encoded data removed]",
            "text/plain": [
              "<Figure size 432x288 with 1 Axes>"
            ]
          },
          "metadata": {
            "tags": []
          }
        },
        {
          "output_type": "display_data",
          "data": {
            "image/png": "[encoded data removed]",
            "text/plain": [
              "<Figure size 432x288 with 1 Axes>"
            ]
          },
          "metadata": {
            "tags": []
          }
        }
      ]
    },
    {
      "cell_type": "code",
      "metadata": {
        "id": "alq4ivu-LNEQ",
        "colab_type": "code",
        "outputId": "576913a8-07c0-4b8b-8fec-b700e4f995e4",
        "colab": {
          "base_uri": "https://localhost:8080/",
          "height": 51
        }
      },
      "source": [
        "#Identify unique values in each column\n",
        "print('unique values in cid:',house_dat1['cid'].unique().size)\n",
        "print('unique values in zipcode:',house_dat1['zipcode'].unique().size)"
      ],
      "execution_count": 212,
      "outputs": [
        {
          "output_type": "stream",
          "text": [
            "unique values in cid: 21436\n",
            "unique values in zipcode: 70\n"
          ],
          "name": "stdout"
        }
      ]
    },
    {
      "cell_type": "code",
      "metadata": {
        "id": "IzIymhkhLUMg",
        "colab_type": "code",
        "colab": {}
      },
      "source": [
        "#removing the cid column as it doesnt conribute to price\n",
        "house_dat2=house_dat1.drop(['cid'],axis=1)"
      ],
      "execution_count": 0,
      "outputs": []
    },
    {
      "cell_type": "markdown",
      "metadata": {
        "id": "8PBwX2mNLZt6",
        "colab_type": "text"
      },
      "source": [
        "Label encoding for zip code"
      ]
    },
    {
      "cell_type": "code",
      "metadata": {
        "id": "mP3XnpdaLXPS",
        "colab_type": "code",
        "outputId": "4502c611-f5f3-4359-c1ce-855b9c8236c9",
        "colab": {
          "base_uri": "https://localhost:8080/",
          "height": 224
        }
      },
      "source": [
        "#converting the categorical variables cid & zipcode to numerical values using label encoder\n",
        "#preprocess=preprocessing.LabelEncoder()\n",
        "#house_dat2['cid']=preprocess.fit_transform(house_dat2.loc[:,'cid'])\n",
        "#house_dat2['zipcode']=preprocess.fit_transform(house_dat2.loc[:,'zipcode'])\n",
        "house_dat2.head()"
      ],
      "execution_count": 214,
      "outputs": [
        {
          "output_type": "execute_result",
          "data": {
            "text/html": [
              "<div>\n",
              "<style scoped>\n",
              "    .dataframe tbody tr th:only-of-type {\n",
              "        vertical-align: middle;\n",
              "    }\n",
              "\n",
              "    .dataframe tbody tr th {\n",
              "        vertical-align: top;\n",
              "    }\n",
              "\n",
              "    .dataframe thead th {\n",
              "        text-align: right;\n",
              "    }\n",
              "</style>\n",
              "<table border=\"1\" class=\"dataframe\">\n",
              "  <thead>\n",
              "    <tr style=\"text-align: right;\">\n",
              "      <th></th>\n",
              "      <th>price</th>\n",
              "      <th>room_bed</th>\n",
              "      <th>room_bath</th>\n",
              "      <th>living_measure</th>\n",
              "      <th>lot_measure</th>\n",
              "      <th>ceil</th>\n",
              "      <th>coast</th>\n",
              "      <th>sight</th>\n",
              "      <th>condition</th>\n",
              "      <th>quality</th>\n",
              "      <th>ceil_measure</th>\n",
              "      <th>basement</th>\n",
              "      <th>yr_built</th>\n",
              "      <th>zipcode</th>\n",
              "      <th>lat</th>\n",
              "      <th>long</th>\n",
              "      <th>furnished</th>\n",
              "      <th>total_area</th>\n",
              "      <th>soldyr</th>\n",
              "      <th>soldmonth</th>\n",
              "      <th>renovated</th>\n",
              "      <th>median_cost_persqft</th>\n",
              "    </tr>\n",
              "  </thead>\n",
              "  <tbody>\n",
              "    <tr>\n",
              "      <th>0</th>\n",
              "      <td>808100</td>\n",
              "      <td>4.0</td>\n",
              "      <td>3.25</td>\n",
              "      <td>3020.0</td>\n",
              "      <td>13457.0</td>\n",
              "      <td>1.0</td>\n",
              "      <td>0</td>\n",
              "      <td>0</td>\n",
              "      <td>5.0</td>\n",
              "      <td>9.0</td>\n",
              "      <td>3020.0</td>\n",
              "      <td>0.0</td>\n",
              "      <td>1956</td>\n",
              "      <td>98133</td>\n",
              "      <td>47.7174</td>\n",
              "      <td>-122.336</td>\n",
              "      <td>1</td>\n",
              "      <td>16477.0</td>\n",
              "      <td>2014</td>\n",
              "      <td>11</td>\n",
              "      <td>1</td>\n",
              "      <td>42.522548</td>\n",
              "    </tr>\n",
              "    <tr>\n",
              "      <th>1</th>\n",
              "      <td>300000</td>\n",
              "      <td>2.0</td>\n",
              "      <td>1.00</td>\n",
              "      <td>820.0</td>\n",
              "      <td>3844.0</td>\n",
              "      <td>1.0</td>\n",
              "      <td>0</td>\n",
              "      <td>0</td>\n",
              "      <td>4.0</td>\n",
              "      <td>6.0</td>\n",
              "      <td>820.0</td>\n",
              "      <td>0.0</td>\n",
              "      <td>1916</td>\n",
              "      <td>98133</td>\n",
              "      <td>47.7049</td>\n",
              "      <td>-122.349</td>\n",
              "      <td>0</td>\n",
              "      <td>4664.0</td>\n",
              "      <td>2014</td>\n",
              "      <td>5</td>\n",
              "      <td>1</td>\n",
              "      <td>42.522548</td>\n",
              "    </tr>\n",
              "    <tr>\n",
              "      <th>2</th>\n",
              "      <td>465000</td>\n",
              "      <td>3.0</td>\n",
              "      <td>1.75</td>\n",
              "      <td>1480.0</td>\n",
              "      <td>6360.0</td>\n",
              "      <td>1.0</td>\n",
              "      <td>0</td>\n",
              "      <td>0</td>\n",
              "      <td>3.0</td>\n",
              "      <td>7.0</td>\n",
              "      <td>1480.0</td>\n",
              "      <td>0.0</td>\n",
              "      <td>1954</td>\n",
              "      <td>98133</td>\n",
              "      <td>47.7311</td>\n",
              "      <td>-122.353</td>\n",
              "      <td>0</td>\n",
              "      <td>7840.0</td>\n",
              "      <td>2014</td>\n",
              "      <td>12</td>\n",
              "      <td>0</td>\n",
              "      <td>42.522548</td>\n",
              "    </tr>\n",
              "    <tr>\n",
              "      <th>3</th>\n",
              "      <td>529900</td>\n",
              "      <td>5.0</td>\n",
              "      <td>2.25</td>\n",
              "      <td>3030.0</td>\n",
              "      <td>9430.0</td>\n",
              "      <td>2.0</td>\n",
              "      <td>0</td>\n",
              "      <td>0</td>\n",
              "      <td>4.0</td>\n",
              "      <td>8.0</td>\n",
              "      <td>2600.0</td>\n",
              "      <td>430.0</td>\n",
              "      <td>1961</td>\n",
              "      <td>98133</td>\n",
              "      <td>47.7515</td>\n",
              "      <td>-122.353</td>\n",
              "      <td>0</td>\n",
              "      <td>12460.0</td>\n",
              "      <td>2014</td>\n",
              "      <td>10</td>\n",
              "      <td>1</td>\n",
              "      <td>42.522548</td>\n",
              "    </tr>\n",
              "    <tr>\n",
              "      <th>4</th>\n",
              "      <td>385000</td>\n",
              "      <td>4.0</td>\n",
              "      <td>1.75</td>\n",
              "      <td>1620.0</td>\n",
              "      <td>4980.0</td>\n",
              "      <td>1.0</td>\n",
              "      <td>0</td>\n",
              "      <td>0</td>\n",
              "      <td>4.0</td>\n",
              "      <td>7.0</td>\n",
              "      <td>860.0</td>\n",
              "      <td>760.0</td>\n",
              "      <td>1947</td>\n",
              "      <td>98133</td>\n",
              "      <td>47.7025</td>\n",
              "      <td>-122.341</td>\n",
              "      <td>0</td>\n",
              "      <td>6600.0</td>\n",
              "      <td>2014</td>\n",
              "      <td>5</td>\n",
              "      <td>1</td>\n",
              "      <td>42.522548</td>\n",
              "    </tr>\n",
              "  </tbody>\n",
              "</table>\n",
              "</div>"
            ],
            "text/plain": [
              "    price  room_bed  room_bath  ...  soldmonth  renovated  median_cost_persqft\n",
              "0  808100       4.0       3.25  ...         11          1            42.522548\n",
              "1  300000       2.0       1.00  ...          5          1            42.522548\n",
              "2  465000       3.0       1.75  ...         12          0            42.522548\n",
              "3  529900       5.0       2.25  ...         10          1            42.522548\n",
              "4  385000       4.0       1.75  ...          5          1            42.522548\n",
              "\n",
              "[5 rows x 22 columns]"
            ]
          },
          "metadata": {
            "tags": []
          },
          "execution_count": 214
        }
      ]
    },
    {
      "cell_type": "code",
      "metadata": {
        "id": "c7UQOJRwbfJH",
        "colab_type": "code",
        "outputId": "45716155-562e-4da0-dd1a-5a7602af8250",
        "colab": {
          "base_uri": "https://localhost:8080/",
          "height": 510
        }
      },
      "source": [
        "house_dat2.info()"
      ],
      "execution_count": 215,
      "outputs": [
        {
          "output_type": "stream",
          "text": [
            "<class 'pandas.core.frame.DataFrame'>\n",
            "Int64Index: 21613 entries, 0 to 21612\n",
            "Data columns (total 22 columns):\n",
            " #   Column               Non-Null Count  Dtype  \n",
            "---  ------               --------------  -----  \n",
            " 0   price                21613 non-null  int64  \n",
            " 1   room_bed             21613 non-null  float64\n",
            " 2   room_bath            21613 non-null  float64\n",
            " 3   living_measure       21613 non-null  float64\n",
            " 4   lot_measure          21613 non-null  float64\n",
            " 5   ceil                 21613 non-null  float64\n",
            " 6   coast                21613 non-null  int64  \n",
            " 7   sight                21613 non-null  int64  \n",
            " 8   condition            21613 non-null  float64\n",
            " 9   quality              21613 non-null  float64\n",
            " 10  ceil_measure         21613 non-null  float64\n",
            " 11  basement             21613 non-null  float64\n",
            " 12  yr_built             21613 non-null  int64  \n",
            " 13  zipcode              21613 non-null  int64  \n",
            " 14  lat                  21613 non-null  float64\n",
            " 15  long                 21613 non-null  float64\n",
            " 16  furnished            21613 non-null  int64  \n",
            " 17  total_area           21613 non-null  float64\n",
            " 18  soldyr               21613 non-null  int64  \n",
            " 19  soldmonth            21613 non-null  int64  \n",
            " 20  renovated            21613 non-null  int64  \n",
            " 21  median_cost_persqft  21613 non-null  float64\n",
            "dtypes: float64(13), int64(9)\n",
            "memory usage: 3.8 MB\n"
          ],
          "name": "stdout"
        }
      ]
    },
    {
      "cell_type": "code",
      "metadata": {
        "id": "iJWOTDrBfdaK",
        "colab_type": "code",
        "colab": {}
      },
      "source": [
        "house_dat2['ceil'] = pd.Categorical(house_dat2.ceil)\n",
        "house_dat2['coast'] = pd.Categorical(house_dat2.coast)\n",
        "house_dat2['sight'] = pd.Categorical(house_dat2.sight)\n",
        "house_dat2['condition'] = pd.Categorical(house_dat2.condition)\n",
        "house_dat2['quality'] = pd.Categorical(house_dat2.quality)\n",
        "house_dat2['furnished'] = pd.Categorical(house_dat2.furnished)\n",
        "house_dat2['renovated'] = pd.Categorical(house_dat2.renovated)\n",
        "house_dat2['zipcode'] = pd.Categorical(house_dat2.zipcode)"
      ],
      "execution_count": 0,
      "outputs": []
    },
    {
      "cell_type": "code",
      "metadata": {
        "id": "Jg5vwzqEmc6j",
        "colab_type": "code",
        "colab": {}
      },
      "source": [
        "house_dat2.drop([\"soldyr\", \"soldmonth\", \"lat\", \"long\"], axis = 1, inplace = True)"
      ],
      "execution_count": 0,
      "outputs": []
    },
    {
      "cell_type": "code",
      "metadata": {
        "id": "uIWVi7CDgH1C",
        "colab_type": "code",
        "outputId": "4735b62d-abcf-4937-ef16-65ec3686a44d",
        "colab": {
          "base_uri": "https://localhost:8080/",
          "height": 442
        }
      },
      "source": [
        "house_dat2.info()"
      ],
      "execution_count": 218,
      "outputs": [
        {
          "output_type": "stream",
          "text": [
            "<class 'pandas.core.frame.DataFrame'>\n",
            "Int64Index: 21613 entries, 0 to 21612\n",
            "Data columns (total 18 columns):\n",
            " #   Column               Non-Null Count  Dtype   \n",
            "---  ------               --------------  -----   \n",
            " 0   price                21613 non-null  int64   \n",
            " 1   room_bed             21613 non-null  float64 \n",
            " 2   room_bath            21613 non-null  float64 \n",
            " 3   living_measure       21613 non-null  float64 \n",
            " 4   lot_measure          21613 non-null  float64 \n",
            " 5   ceil                 21613 non-null  category\n",
            " 6   coast                21613 non-null  category\n",
            " 7   sight                21613 non-null  category\n",
            " 8   condition            21613 non-null  category\n",
            " 9   quality              21613 non-null  category\n",
            " 10  ceil_measure         21613 non-null  float64 \n",
            " 11  basement             21613 non-null  float64 \n",
            " 12  yr_built             21613 non-null  int64   \n",
            " 13  zipcode              21613 non-null  category\n",
            " 14  furnished            21613 non-null  category\n",
            " 15  total_area           21613 non-null  float64 \n",
            " 16  renovated            21613 non-null  category\n",
            " 17  median_cost_persqft  21613 non-null  float64 \n",
            "dtypes: category(8), float64(8), int64(2)\n",
            "memory usage: 2.0 MB\n"
          ],
          "name": "stdout"
        }
      ]
    },
    {
      "cell_type": "code",
      "metadata": {
        "id": "rEJN7kAXndX-",
        "colab_type": "code",
        "colab": {}
      },
      "source": [
        "house_dat2['current_yr'] = 2015"
      ],
      "execution_count": 0,
      "outputs": []
    },
    {
      "cell_type": "code",
      "metadata": {
        "id": "_A2MFqPsnjji",
        "colab_type": "code",
        "outputId": "eae2f8ca-5e57-4a76-8e8a-bcd0b34fabe8",
        "colab": {
          "base_uri": "https://localhost:8080/",
          "height": 224
        }
      },
      "source": [
        "# creating \"house_age\" feature by subracting yr_built to 2015\n",
        "house_dat2['house_old'] = house_dat2['current_yr'] - house_dat2['yr_built']\n",
        "house_dat2.drop([\"current_yr\", \"yr_built\"], axis = 1, inplace = True)\n",
        "house_dat2.head()"
      ],
      "execution_count": 220,
      "outputs": [
        {
          "output_type": "execute_result",
          "data": {
            "text/html": [
              "<div>\n",
              "<style scoped>\n",
              "    .dataframe tbody tr th:only-of-type {\n",
              "        vertical-align: middle;\n",
              "    }\n",
              "\n",
              "    .dataframe tbody tr th {\n",
              "        vertical-align: top;\n",
              "    }\n",
              "\n",
              "    .dataframe thead th {\n",
              "        text-align: right;\n",
              "    }\n",
              "</style>\n",
              "<table border=\"1\" class=\"dataframe\">\n",
              "  <thead>\n",
              "    <tr style=\"text-align: right;\">\n",
              "      <th></th>\n",
              "      <th>price</th>\n",
              "      <th>room_bed</th>\n",
              "      <th>room_bath</th>\n",
              "      <th>living_measure</th>\n",
              "      <th>lot_measure</th>\n",
              "      <th>ceil</th>\n",
              "      <th>coast</th>\n",
              "      <th>sight</th>\n",
              "      <th>condition</th>\n",
              "      <th>quality</th>\n",
              "      <th>ceil_measure</th>\n",
              "      <th>basement</th>\n",
              "      <th>zipcode</th>\n",
              "      <th>furnished</th>\n",
              "      <th>total_area</th>\n",
              "      <th>renovated</th>\n",
              "      <th>median_cost_persqft</th>\n",
              "      <th>house_old</th>\n",
              "    </tr>\n",
              "  </thead>\n",
              "  <tbody>\n",
              "    <tr>\n",
              "      <th>0</th>\n",
              "      <td>808100</td>\n",
              "      <td>4.0</td>\n",
              "      <td>3.25</td>\n",
              "      <td>3020.0</td>\n",
              "      <td>13457.0</td>\n",
              "      <td>1.0</td>\n",
              "      <td>0</td>\n",
              "      <td>0</td>\n",
              "      <td>5.0</td>\n",
              "      <td>9.0</td>\n",
              "      <td>3020.0</td>\n",
              "      <td>0.0</td>\n",
              "      <td>98133</td>\n",
              "      <td>1</td>\n",
              "      <td>16477.0</td>\n",
              "      <td>1</td>\n",
              "      <td>42.522548</td>\n",
              "      <td>59</td>\n",
              "    </tr>\n",
              "    <tr>\n",
              "      <th>1</th>\n",
              "      <td>300000</td>\n",
              "      <td>2.0</td>\n",
              "      <td>1.00</td>\n",
              "      <td>820.0</td>\n",
              "      <td>3844.0</td>\n",
              "      <td>1.0</td>\n",
              "      <td>0</td>\n",
              "      <td>0</td>\n",
              "      <td>4.0</td>\n",
              "      <td>6.0</td>\n",
              "      <td>820.0</td>\n",
              "      <td>0.0</td>\n",
              "      <td>98133</td>\n",
              "      <td>0</td>\n",
              "      <td>4664.0</td>\n",
              "      <td>1</td>\n",
              "      <td>42.522548</td>\n",
              "      <td>99</td>\n",
              "    </tr>\n",
              "    <tr>\n",
              "      <th>2</th>\n",
              "      <td>465000</td>\n",
              "      <td>3.0</td>\n",
              "      <td>1.75</td>\n",
              "      <td>1480.0</td>\n",
              "      <td>6360.0</td>\n",
              "      <td>1.0</td>\n",
              "      <td>0</td>\n",
              "      <td>0</td>\n",
              "      <td>3.0</td>\n",
              "      <td>7.0</td>\n",
              "      <td>1480.0</td>\n",
              "      <td>0.0</td>\n",
              "      <td>98133</td>\n",
              "      <td>0</td>\n",
              "      <td>7840.0</td>\n",
              "      <td>0</td>\n",
              "      <td>42.522548</td>\n",
              "      <td>61</td>\n",
              "    </tr>\n",
              "    <tr>\n",
              "      <th>3</th>\n",
              "      <td>529900</td>\n",
              "      <td>5.0</td>\n",
              "      <td>2.25</td>\n",
              "      <td>3030.0</td>\n",
              "      <td>9430.0</td>\n",
              "      <td>2.0</td>\n",
              "      <td>0</td>\n",
              "      <td>0</td>\n",
              "      <td>4.0</td>\n",
              "      <td>8.0</td>\n",
              "      <td>2600.0</td>\n",
              "      <td>430.0</td>\n",
              "      <td>98133</td>\n",
              "      <td>0</td>\n",
              "      <td>12460.0</td>\n",
              "      <td>1</td>\n",
              "      <td>42.522548</td>\n",
              "      <td>54</td>\n",
              "    </tr>\n",
              "    <tr>\n",
              "      <th>4</th>\n",
              "      <td>385000</td>\n",
              "      <td>4.0</td>\n",
              "      <td>1.75</td>\n",
              "      <td>1620.0</td>\n",
              "      <td>4980.0</td>\n",
              "      <td>1.0</td>\n",
              "      <td>0</td>\n",
              "      <td>0</td>\n",
              "      <td>4.0</td>\n",
              "      <td>7.0</td>\n",
              "      <td>860.0</td>\n",
              "      <td>760.0</td>\n",
              "      <td>98133</td>\n",
              "      <td>0</td>\n",
              "      <td>6600.0</td>\n",
              "      <td>1</td>\n",
              "      <td>42.522548</td>\n",
              "      <td>68</td>\n",
              "    </tr>\n",
              "  </tbody>\n",
              "</table>\n",
              "</div>"
            ],
            "text/plain": [
              "    price  room_bed  room_bath  ...  renovated  median_cost_persqft house_old\n",
              "0  808100       4.0       3.25  ...          1            42.522548        59\n",
              "1  300000       2.0       1.00  ...          1            42.522548        99\n",
              "2  465000       3.0       1.75  ...          0            42.522548        61\n",
              "3  529900       5.0       2.25  ...          1            42.522548        54\n",
              "4  385000       4.0       1.75  ...          1            42.522548        68\n",
              "\n",
              "[5 rows x 18 columns]"
            ]
          },
          "metadata": {
            "tags": []
          },
          "execution_count": 220
        }
      ]
    },
    {
      "cell_type": "markdown",
      "metadata": {
        "id": "z9JFfvzwG-fO",
        "colab_type": "text"
      },
      "source": [
        "**Adding ZipCode**"
      ]
    },
    {
      "cell_type": "markdown",
      "metadata": {
        "id": "B6s2P2ClqKak",
        "colab_type": "text"
      },
      "source": [
        "Created additional data based on zip codes"
      ]
    },
    {
      "cell_type": "code",
      "metadata": {
        "id": "HcJtUY0rG-GP",
        "colab_type": "code",
        "outputId": "fbfb3c2f-4ee1-4dfa-fd58-d8e87a8f55bf",
        "colab": {
          "base_uri": "https://localhost:8080/",
          "height": 204
        }
      },
      "source": [
        "df_zip = pd.read_csv(\"/content/drive/My Drive/Machine Learning/Great Learning/Capstone/zipcode3.csv\")\n",
        "df_zip.head()"
      ],
      "execution_count": 221,
      "outputs": [
        {
          "output_type": "execute_result",
          "data": {
            "text/html": [
              "<div>\n",
              "<style scoped>\n",
              "    .dataframe tbody tr th:only-of-type {\n",
              "        vertical-align: middle;\n",
              "    }\n",
              "\n",
              "    .dataframe tbody tr th {\n",
              "        vertical-align: top;\n",
              "    }\n",
              "\n",
              "    .dataframe thead th {\n",
              "        text-align: right;\n",
              "    }\n",
              "</style>\n",
              "<table border=\"1\" class=\"dataframe\">\n",
              "  <thead>\n",
              "    <tr style=\"text-align: right;\">\n",
              "      <th></th>\n",
              "      <th>zipcode</th>\n",
              "      <th>region</th>\n",
              "      <th>Total_population</th>\n",
              "      <th>Housing_units</th>\n",
              "      <th>Density</th>\n",
              "      <th>White_Population</th>\n",
              "      <th>Median_Income</th>\n",
              "      <th>link1</th>\n",
              "      <th>link2</th>\n",
              "    </tr>\n",
              "  </thead>\n",
              "  <tbody>\n",
              "    <tr>\n",
              "      <th>0</th>\n",
              "      <td>98133</td>\n",
              "      <td>Seattle</td>\n",
              "      <td>44,555</td>\n",
              "      <td>21,903</td>\n",
              "      <td>6,275.35</td>\n",
              "      <td>28,217</td>\n",
              "      <td>50,960</td>\n",
              "      <td>https://www.uszip.com/zip/</td>\n",
              "      <td>https://www.uszip.com/zip/98133</td>\n",
              "    </tr>\n",
              "    <tr>\n",
              "      <th>1</th>\n",
              "      <td>98023</td>\n",
              "      <td>Federal Way</td>\n",
              "      <td>47,510</td>\n",
              "      <td>18,026</td>\n",
              "      <td>4,603.68</td>\n",
              "      <td>26,315</td>\n",
              "      <td>66,438</td>\n",
              "      <td>https://www.uszip.com/zip/</td>\n",
              "      <td>https://www.uszip.com/zip/98023</td>\n",
              "    </tr>\n",
              "    <tr>\n",
              "      <th>2</th>\n",
              "      <td>98038</td>\n",
              "      <td>Maple Valley</td>\n",
              "      <td>31,171</td>\n",
              "      <td>11,387</td>\n",
              "      <td>468.81</td>\n",
              "      <td>26,315</td>\n",
              "      <td>97,593</td>\n",
              "      <td>https://www.uszip.com/zip/</td>\n",
              "      <td>https://www.uszip.com/zip/98038</td>\n",
              "    </tr>\n",
              "    <tr>\n",
              "      <th>3</th>\n",
              "      <td>98115</td>\n",
              "      <td>Seattle</td>\n",
              "      <td>46,206</td>\n",
              "      <td>21,623</td>\n",
              "      <td>7,022.19</td>\n",
              "      <td>36,621</td>\n",
              "      <td>82,654</td>\n",
              "      <td>https://www.uszip.com/zip/</td>\n",
              "      <td>https://www.uszip.com/zip/98115</td>\n",
              "    </tr>\n",
              "    <tr>\n",
              "      <th>4</th>\n",
              "      <td>98059</td>\n",
              "      <td>Renton</td>\n",
              "      <td>34,463</td>\n",
              "      <td>13,004</td>\n",
              "      <td>1,724.87</td>\n",
              "      <td>21,550</td>\n",
              "      <td>87,581</td>\n",
              "      <td>https://www.uszip.com/zip/</td>\n",
              "      <td>https://www.uszip.com/zip/98059</td>\n",
              "    </tr>\n",
              "  </tbody>\n",
              "</table>\n",
              "</div>"
            ],
            "text/plain": [
              "   zipcode  ...                            link2\n",
              "0    98133  ...  https://www.uszip.com/zip/98133\n",
              "1    98023  ...  https://www.uszip.com/zip/98023\n",
              "2    98038  ...  https://www.uszip.com/zip/98038\n",
              "3    98115  ...  https://www.uszip.com/zip/98115\n",
              "4    98059  ...  https://www.uszip.com/zip/98059\n",
              "\n",
              "[5 rows x 9 columns]"
            ]
          },
          "metadata": {
            "tags": []
          },
          "execution_count": 221
        }
      ]
    },
    {
      "cell_type": "code",
      "metadata": {
        "id": "ZxRbkcJrHH_W",
        "colab_type": "code",
        "colab": {}
      },
      "source": [
        "df_zip.drop([\"region\", \"link1\", \"link2\"], axis = 1, inplace = True)"
      ],
      "execution_count": 0,
      "outputs": []
    },
    {
      "cell_type": "code",
      "metadata": {
        "id": "E8_lnEqvHH7u",
        "colab_type": "code",
        "outputId": "244b4e05-da9c-46c1-a342-d2b5e64cf977",
        "colab": {
          "base_uri": "https://localhost:8080/",
          "height": 204
        }
      },
      "source": [
        "df_zip.head()"
      ],
      "execution_count": 223,
      "outputs": [
        {
          "output_type": "execute_result",
          "data": {
            "text/html": [
              "<div>\n",
              "<style scoped>\n",
              "    .dataframe tbody tr th:only-of-type {\n",
              "        vertical-align: middle;\n",
              "    }\n",
              "\n",
              "    .dataframe tbody tr th {\n",
              "        vertical-align: top;\n",
              "    }\n",
              "\n",
              "    .dataframe thead th {\n",
              "        text-align: right;\n",
              "    }\n",
              "</style>\n",
              "<table border=\"1\" class=\"dataframe\">\n",
              "  <thead>\n",
              "    <tr style=\"text-align: right;\">\n",
              "      <th></th>\n",
              "      <th>zipcode</th>\n",
              "      <th>Total_population</th>\n",
              "      <th>Housing_units</th>\n",
              "      <th>Density</th>\n",
              "      <th>White_Population</th>\n",
              "      <th>Median_Income</th>\n",
              "    </tr>\n",
              "  </thead>\n",
              "  <tbody>\n",
              "    <tr>\n",
              "      <th>0</th>\n",
              "      <td>98133</td>\n",
              "      <td>44,555</td>\n",
              "      <td>21,903</td>\n",
              "      <td>6,275.35</td>\n",
              "      <td>28,217</td>\n",
              "      <td>50,960</td>\n",
              "    </tr>\n",
              "    <tr>\n",
              "      <th>1</th>\n",
              "      <td>98023</td>\n",
              "      <td>47,510</td>\n",
              "      <td>18,026</td>\n",
              "      <td>4,603.68</td>\n",
              "      <td>26,315</td>\n",
              "      <td>66,438</td>\n",
              "    </tr>\n",
              "    <tr>\n",
              "      <th>2</th>\n",
              "      <td>98038</td>\n",
              "      <td>31,171</td>\n",
              "      <td>11,387</td>\n",
              "      <td>468.81</td>\n",
              "      <td>26,315</td>\n",
              "      <td>97,593</td>\n",
              "    </tr>\n",
              "    <tr>\n",
              "      <th>3</th>\n",
              "      <td>98115</td>\n",
              "      <td>46,206</td>\n",
              "      <td>21,623</td>\n",
              "      <td>7,022.19</td>\n",
              "      <td>36,621</td>\n",
              "      <td>82,654</td>\n",
              "    </tr>\n",
              "    <tr>\n",
              "      <th>4</th>\n",
              "      <td>98059</td>\n",
              "      <td>34,463</td>\n",
              "      <td>13,004</td>\n",
              "      <td>1,724.87</td>\n",
              "      <td>21,550</td>\n",
              "      <td>87,581</td>\n",
              "    </tr>\n",
              "  </tbody>\n",
              "</table>\n",
              "</div>"
            ],
            "text/plain": [
              "   zipcode Total_population  ... White_Population Median_Income\n",
              "0    98133           44,555  ...           28,217        50,960\n",
              "1    98023           47,510  ...           26,315        66,438\n",
              "2    98038           31,171  ...           26,315        97,593\n",
              "3    98115           46,206  ...           36,621        82,654\n",
              "4    98059           34,463  ...           21,550        87,581\n",
              "\n",
              "[5 rows x 6 columns]"
            ]
          },
          "metadata": {
            "tags": []
          },
          "execution_count": 223
        }
      ]
    },
    {
      "cell_type": "code",
      "metadata": {
        "id": "qQoRt5qP7BHG",
        "colab_type": "code",
        "outputId": "6bd7e6aa-5f4f-4057-ae8b-b65142917b88",
        "colab": {
          "base_uri": "https://localhost:8080/",
          "height": 238
        }
      },
      "source": [
        "df_zip.info()"
      ],
      "execution_count": 224,
      "outputs": [
        {
          "output_type": "stream",
          "text": [
            "<class 'pandas.core.frame.DataFrame'>\n",
            "RangeIndex: 70 entries, 0 to 69\n",
            "Data columns (total 6 columns):\n",
            " #   Column            Non-Null Count  Dtype \n",
            "---  ------            --------------  ----- \n",
            " 0   zipcode           70 non-null     int64 \n",
            " 1   Total_population  70 non-null     object\n",
            " 2   Housing_units     70 non-null     object\n",
            " 3   Density           70 non-null     object\n",
            " 4   White_Population  70 non-null     object\n",
            " 5   Median_Income     70 non-null     object\n",
            "dtypes: int64(1), object(5)\n",
            "memory usage: 3.4+ KB\n"
          ],
          "name": "stdout"
        }
      ]
    },
    {
      "cell_type": "code",
      "metadata": {
        "id": "0Jm0i5_f_P_E",
        "colab_type": "code",
        "colab": {}
      },
      "source": [
        "df_zip[\"Total_population\"] = df_zip[\"Total_population\"].str.replace(\",\",\"\").astype(float)\n",
        "df_zip[\"Housing_units\"] = df_zip[\"Housing_units\"].str.replace(\",\",\"\").astype(float)\n",
        "df_zip[\"Density\"] = df_zip[\"Density\"].str.replace(\",\",\"\").astype(float)\n",
        "df_zip[\"White_Population\"] = df_zip[\"White_Population\"].str.replace(\",\",\"\").astype(float)\n",
        "df_zip[\"Median_Income\"] = df_zip[\"Median_Income\"].str.replace(\",\",\"\").astype(float)"
      ],
      "execution_count": 0,
      "outputs": []
    },
    {
      "cell_type": "code",
      "metadata": {
        "id": "2ILlL9kl_WL2",
        "colab_type": "code",
        "outputId": "ce6c600f-6fc3-406c-e889-bbbbfc7f8963",
        "colab": {
          "base_uri": "https://localhost:8080/",
          "height": 204
        }
      },
      "source": [
        "df_zip.head()"
      ],
      "execution_count": 226,
      "outputs": [
        {
          "output_type": "execute_result",
          "data": {
            "text/html": [
              "<div>\n",
              "<style scoped>\n",
              "    .dataframe tbody tr th:only-of-type {\n",
              "        vertical-align: middle;\n",
              "    }\n",
              "\n",
              "    .dataframe tbody tr th {\n",
              "        vertical-align: top;\n",
              "    }\n",
              "\n",
              "    .dataframe thead th {\n",
              "        text-align: right;\n",
              "    }\n",
              "</style>\n",
              "<table border=\"1\" class=\"dataframe\">\n",
              "  <thead>\n",
              "    <tr style=\"text-align: right;\">\n",
              "      <th></th>\n",
              "      <th>zipcode</th>\n",
              "      <th>Total_population</th>\n",
              "      <th>Housing_units</th>\n",
              "      <th>Density</th>\n",
              "      <th>White_Population</th>\n",
              "      <th>Median_Income</th>\n",
              "    </tr>\n",
              "  </thead>\n",
              "  <tbody>\n",
              "    <tr>\n",
              "      <th>0</th>\n",
              "      <td>98133</td>\n",
              "      <td>44555.0</td>\n",
              "      <td>21903.0</td>\n",
              "      <td>6275.35</td>\n",
              "      <td>28217.0</td>\n",
              "      <td>50960.0</td>\n",
              "    </tr>\n",
              "    <tr>\n",
              "      <th>1</th>\n",
              "      <td>98023</td>\n",
              "      <td>47510.0</td>\n",
              "      <td>18026.0</td>\n",
              "      <td>4603.68</td>\n",
              "      <td>26315.0</td>\n",
              "      <td>66438.0</td>\n",
              "    </tr>\n",
              "    <tr>\n",
              "      <th>2</th>\n",
              "      <td>98038</td>\n",
              "      <td>31171.0</td>\n",
              "      <td>11387.0</td>\n",
              "      <td>468.81</td>\n",
              "      <td>26315.0</td>\n",
              "      <td>97593.0</td>\n",
              "    </tr>\n",
              "    <tr>\n",
              "      <th>3</th>\n",
              "      <td>98115</td>\n",
              "      <td>46206.0</td>\n",
              "      <td>21623.0</td>\n",
              "      <td>7022.19</td>\n",
              "      <td>36621.0</td>\n",
              "      <td>82654.0</td>\n",
              "    </tr>\n",
              "    <tr>\n",
              "      <th>4</th>\n",
              "      <td>98059</td>\n",
              "      <td>34463.0</td>\n",
              "      <td>13004.0</td>\n",
              "      <td>1724.87</td>\n",
              "      <td>21550.0</td>\n",
              "      <td>87581.0</td>\n",
              "    </tr>\n",
              "  </tbody>\n",
              "</table>\n",
              "</div>"
            ],
            "text/plain": [
              "   zipcode  Total_population  ...  White_Population  Median_Income\n",
              "0    98133           44555.0  ...           28217.0        50960.0\n",
              "1    98023           47510.0  ...           26315.0        66438.0\n",
              "2    98038           31171.0  ...           26315.0        97593.0\n",
              "3    98115           46206.0  ...           36621.0        82654.0\n",
              "4    98059           34463.0  ...           21550.0        87581.0\n",
              "\n",
              "[5 rows x 6 columns]"
            ]
          },
          "metadata": {
            "tags": []
          },
          "execution_count": 226
        }
      ]
    },
    {
      "cell_type": "code",
      "metadata": {
        "id": "pVRBgFlTMJa3",
        "colab_type": "code",
        "colab": {}
      },
      "source": [
        "df_zip['white_perc'] = df_zip['White_Population']/df_zip['Total_population']\n",
        "df_zip['per_capita_house'] = df_zip['Housing_units']/df_zip['Total_population']"
      ],
      "execution_count": 0,
      "outputs": []
    },
    {
      "cell_type": "code",
      "metadata": {
        "id": "zrX0jpkEHH4X",
        "colab_type": "code",
        "outputId": "5482512d-c038-443d-8b16-2816c0299bcf",
        "colab": {
          "base_uri": "https://localhost:8080/",
          "height": 204
        }
      },
      "source": [
        "df_zip.head()"
      ],
      "execution_count": 228,
      "outputs": [
        {
          "output_type": "execute_result",
          "data": {
            "text/html": [
              "<div>\n",
              "<style scoped>\n",
              "    .dataframe tbody tr th:only-of-type {\n",
              "        vertical-align: middle;\n",
              "    }\n",
              "\n",
              "    .dataframe tbody tr th {\n",
              "        vertical-align: top;\n",
              "    }\n",
              "\n",
              "    .dataframe thead th {\n",
              "        text-align: right;\n",
              "    }\n",
              "</style>\n",
              "<table border=\"1\" class=\"dataframe\">\n",
              "  <thead>\n",
              "    <tr style=\"text-align: right;\">\n",
              "      <th></th>\n",
              "      <th>zipcode</th>\n",
              "      <th>Total_population</th>\n",
              "      <th>Housing_units</th>\n",
              "      <th>Density</th>\n",
              "      <th>White_Population</th>\n",
              "      <th>Median_Income</th>\n",
              "      <th>white_perc</th>\n",
              "      <th>per_capita_house</th>\n",
              "    </tr>\n",
              "  </thead>\n",
              "  <tbody>\n",
              "    <tr>\n",
              "      <th>0</th>\n",
              "      <td>98133</td>\n",
              "      <td>44555.0</td>\n",
              "      <td>21903.0</td>\n",
              "      <td>6275.35</td>\n",
              "      <td>28217.0</td>\n",
              "      <td>50960.0</td>\n",
              "      <td>0.633307</td>\n",
              "      <td>0.491595</td>\n",
              "    </tr>\n",
              "    <tr>\n",
              "      <th>1</th>\n",
              "      <td>98023</td>\n",
              "      <td>47510.0</td>\n",
              "      <td>18026.0</td>\n",
              "      <td>4603.68</td>\n",
              "      <td>26315.0</td>\n",
              "      <td>66438.0</td>\n",
              "      <td>0.553883</td>\n",
              "      <td>0.379415</td>\n",
              "    </tr>\n",
              "    <tr>\n",
              "      <th>2</th>\n",
              "      <td>98038</td>\n",
              "      <td>31171.0</td>\n",
              "      <td>11387.0</td>\n",
              "      <td>468.81</td>\n",
              "      <td>26315.0</td>\n",
              "      <td>97593.0</td>\n",
              "      <td>0.844214</td>\n",
              "      <td>0.365307</td>\n",
              "    </tr>\n",
              "    <tr>\n",
              "      <th>3</th>\n",
              "      <td>98115</td>\n",
              "      <td>46206.0</td>\n",
              "      <td>21623.0</td>\n",
              "      <td>7022.19</td>\n",
              "      <td>36621.0</td>\n",
              "      <td>82654.0</td>\n",
              "      <td>0.792559</td>\n",
              "      <td>0.467970</td>\n",
              "    </tr>\n",
              "    <tr>\n",
              "      <th>4</th>\n",
              "      <td>98059</td>\n",
              "      <td>34463.0</td>\n",
              "      <td>13004.0</td>\n",
              "      <td>1724.87</td>\n",
              "      <td>21550.0</td>\n",
              "      <td>87581.0</td>\n",
              "      <td>0.625308</td>\n",
              "      <td>0.377332</td>\n",
              "    </tr>\n",
              "  </tbody>\n",
              "</table>\n",
              "</div>"
            ],
            "text/plain": [
              "   zipcode  Total_population  ...  white_perc  per_capita_house\n",
              "0    98133           44555.0  ...    0.633307          0.491595\n",
              "1    98023           47510.0  ...    0.553883          0.379415\n",
              "2    98038           31171.0  ...    0.844214          0.365307\n",
              "3    98115           46206.0  ...    0.792559          0.467970\n",
              "4    98059           34463.0  ...    0.625308          0.377332\n",
              "\n",
              "[5 rows x 8 columns]"
            ]
          },
          "metadata": {
            "tags": []
          },
          "execution_count": 228
        }
      ]
    },
    {
      "cell_type": "code",
      "metadata": {
        "id": "4gxeh_2jHH1b",
        "colab_type": "code",
        "colab": {}
      },
      "source": [
        "house_dat2 = pd.merge(house_dat2, df_zip, on='zipcode')"
      ],
      "execution_count": 0,
      "outputs": []
    },
    {
      "cell_type": "code",
      "metadata": {
        "id": "srGLUMeDHHyU",
        "colab_type": "code",
        "outputId": "3256bcdc-dfb5-432d-b50a-39e8ee60f260",
        "colab": {
          "base_uri": "https://localhost:8080/",
          "height": 224
        }
      },
      "source": [
        "house_dat2.head()"
      ],
      "execution_count": 230,
      "outputs": [
        {
          "output_type": "execute_result",
          "data": {
            "text/html": [
              "<div>\n",
              "<style scoped>\n",
              "    .dataframe tbody tr th:only-of-type {\n",
              "        vertical-align: middle;\n",
              "    }\n",
              "\n",
              "    .dataframe tbody tr th {\n",
              "        vertical-align: top;\n",
              "    }\n",
              "\n",
              "    .dataframe thead th {\n",
              "        text-align: right;\n",
              "    }\n",
              "</style>\n",
              "<table border=\"1\" class=\"dataframe\">\n",
              "  <thead>\n",
              "    <tr style=\"text-align: right;\">\n",
              "      <th></th>\n",
              "      <th>price</th>\n",
              "      <th>room_bed</th>\n",
              "      <th>room_bath</th>\n",
              "      <th>living_measure</th>\n",
              "      <th>lot_measure</th>\n",
              "      <th>ceil</th>\n",
              "      <th>coast</th>\n",
              "      <th>sight</th>\n",
              "      <th>condition</th>\n",
              "      <th>quality</th>\n",
              "      <th>ceil_measure</th>\n",
              "      <th>basement</th>\n",
              "      <th>zipcode</th>\n",
              "      <th>furnished</th>\n",
              "      <th>total_area</th>\n",
              "      <th>renovated</th>\n",
              "      <th>median_cost_persqft</th>\n",
              "      <th>house_old</th>\n",
              "      <th>Total_population</th>\n",
              "      <th>Housing_units</th>\n",
              "      <th>Density</th>\n",
              "      <th>White_Population</th>\n",
              "      <th>Median_Income</th>\n",
              "      <th>white_perc</th>\n",
              "      <th>per_capita_house</th>\n",
              "    </tr>\n",
              "  </thead>\n",
              "  <tbody>\n",
              "    <tr>\n",
              "      <th>0</th>\n",
              "      <td>808100</td>\n",
              "      <td>4.0</td>\n",
              "      <td>3.25</td>\n",
              "      <td>3020.0</td>\n",
              "      <td>13457.0</td>\n",
              "      <td>1.0</td>\n",
              "      <td>0</td>\n",
              "      <td>0</td>\n",
              "      <td>5.0</td>\n",
              "      <td>9.0</td>\n",
              "      <td>3020.0</td>\n",
              "      <td>0.0</td>\n",
              "      <td>98133</td>\n",
              "      <td>1</td>\n",
              "      <td>16477.0</td>\n",
              "      <td>1</td>\n",
              "      <td>42.522548</td>\n",
              "      <td>59</td>\n",
              "      <td>44555.0</td>\n",
              "      <td>21903.0</td>\n",
              "      <td>6275.35</td>\n",
              "      <td>28217.0</td>\n",
              "      <td>50960.0</td>\n",
              "      <td>0.633307</td>\n",
              "      <td>0.491595</td>\n",
              "    </tr>\n",
              "    <tr>\n",
              "      <th>1</th>\n",
              "      <td>300000</td>\n",
              "      <td>2.0</td>\n",
              "      <td>1.00</td>\n",
              "      <td>820.0</td>\n",
              "      <td>3844.0</td>\n",
              "      <td>1.0</td>\n",
              "      <td>0</td>\n",
              "      <td>0</td>\n",
              "      <td>4.0</td>\n",
              "      <td>6.0</td>\n",
              "      <td>820.0</td>\n",
              "      <td>0.0</td>\n",
              "      <td>98133</td>\n",
              "      <td>0</td>\n",
              "      <td>4664.0</td>\n",
              "      <td>1</td>\n",
              "      <td>42.522548</td>\n",
              "      <td>99</td>\n",
              "      <td>44555.0</td>\n",
              "      <td>21903.0</td>\n",
              "      <td>6275.35</td>\n",
              "      <td>28217.0</td>\n",
              "      <td>50960.0</td>\n",
              "      <td>0.633307</td>\n",
              "      <td>0.491595</td>\n",
              "    </tr>\n",
              "    <tr>\n",
              "      <th>2</th>\n",
              "      <td>465000</td>\n",
              "      <td>3.0</td>\n",
              "      <td>1.75</td>\n",
              "      <td>1480.0</td>\n",
              "      <td>6360.0</td>\n",
              "      <td>1.0</td>\n",
              "      <td>0</td>\n",
              "      <td>0</td>\n",
              "      <td>3.0</td>\n",
              "      <td>7.0</td>\n",
              "      <td>1480.0</td>\n",
              "      <td>0.0</td>\n",
              "      <td>98133</td>\n",
              "      <td>0</td>\n",
              "      <td>7840.0</td>\n",
              "      <td>0</td>\n",
              "      <td>42.522548</td>\n",
              "      <td>61</td>\n",
              "      <td>44555.0</td>\n",
              "      <td>21903.0</td>\n",
              "      <td>6275.35</td>\n",
              "      <td>28217.0</td>\n",
              "      <td>50960.0</td>\n",
              "      <td>0.633307</td>\n",
              "      <td>0.491595</td>\n",
              "    </tr>\n",
              "    <tr>\n",
              "      <th>3</th>\n",
              "      <td>529900</td>\n",
              "      <td>5.0</td>\n",
              "      <td>2.25</td>\n",
              "      <td>3030.0</td>\n",
              "      <td>9430.0</td>\n",
              "      <td>2.0</td>\n",
              "      <td>0</td>\n",
              "      <td>0</td>\n",
              "      <td>4.0</td>\n",
              "      <td>8.0</td>\n",
              "      <td>2600.0</td>\n",
              "      <td>430.0</td>\n",
              "      <td>98133</td>\n",
              "      <td>0</td>\n",
              "      <td>12460.0</td>\n",
              "      <td>1</td>\n",
              "      <td>42.522548</td>\n",
              "      <td>54</td>\n",
              "      <td>44555.0</td>\n",
              "      <td>21903.0</td>\n",
              "      <td>6275.35</td>\n",
              "      <td>28217.0</td>\n",
              "      <td>50960.0</td>\n",
              "      <td>0.633307</td>\n",
              "      <td>0.491595</td>\n",
              "    </tr>\n",
              "    <tr>\n",
              "      <th>4</th>\n",
              "      <td>385000</td>\n",
              "      <td>4.0</td>\n",
              "      <td>1.75</td>\n",
              "      <td>1620.0</td>\n",
              "      <td>4980.0</td>\n",
              "      <td>1.0</td>\n",
              "      <td>0</td>\n",
              "      <td>0</td>\n",
              "      <td>4.0</td>\n",
              "      <td>7.0</td>\n",
              "      <td>860.0</td>\n",
              "      <td>760.0</td>\n",
              "      <td>98133</td>\n",
              "      <td>0</td>\n",
              "      <td>6600.0</td>\n",
              "      <td>1</td>\n",
              "      <td>42.522548</td>\n",
              "      <td>68</td>\n",
              "      <td>44555.0</td>\n",
              "      <td>21903.0</td>\n",
              "      <td>6275.35</td>\n",
              "      <td>28217.0</td>\n",
              "      <td>50960.0</td>\n",
              "      <td>0.633307</td>\n",
              "      <td>0.491595</td>\n",
              "    </tr>\n",
              "  </tbody>\n",
              "</table>\n",
              "</div>"
            ],
            "text/plain": [
              "    price  room_bed  room_bath  ...  Median_Income  white_perc per_capita_house\n",
              "0  808100       4.0       3.25  ...        50960.0    0.633307         0.491595\n",
              "1  300000       2.0       1.00  ...        50960.0    0.633307         0.491595\n",
              "2  465000       3.0       1.75  ...        50960.0    0.633307         0.491595\n",
              "3  529900       5.0       2.25  ...        50960.0    0.633307         0.491595\n",
              "4  385000       4.0       1.75  ...        50960.0    0.633307         0.491595\n",
              "\n",
              "[5 rows x 25 columns]"
            ]
          },
          "metadata": {
            "tags": []
          },
          "execution_count": 230
        }
      ]
    },
    {
      "cell_type": "code",
      "metadata": {
        "id": "-Dp7EQuYIpbl",
        "colab_type": "code",
        "colab": {}
      },
      "source": [
        "house_dat2.drop([\"Total_population\", \"Housing_units\", \"White_Population\"], axis = 1, inplace = True)"
      ],
      "execution_count": 0,
      "outputs": []
    },
    {
      "cell_type": "code",
      "metadata": {
        "id": "qYkH0fVXJ1BF",
        "colab_type": "code",
        "colab": {}
      },
      "source": [
        "house_dat2['zipcode'] = pd.Categorical(house_dat2.zipcode)"
      ],
      "execution_count": 0,
      "outputs": []
    },
    {
      "cell_type": "code",
      "metadata": {
        "id": "zhos9VWbIpVf",
        "colab_type": "code",
        "outputId": "24ae9d34-745d-445d-d5d0-5de8e7cac04f",
        "colab": {
          "base_uri": "https://localhost:8080/",
          "height": 510
        }
      },
      "source": [
        "house_dat2.info()"
      ],
      "execution_count": 233,
      "outputs": [
        {
          "output_type": "stream",
          "text": [
            "<class 'pandas.core.frame.DataFrame'>\n",
            "Int64Index: 21613 entries, 0 to 21612\n",
            "Data columns (total 22 columns):\n",
            " #   Column               Non-Null Count  Dtype   \n",
            "---  ------               --------------  -----   \n",
            " 0   price                21613 non-null  int64   \n",
            " 1   room_bed             21613 non-null  float64 \n",
            " 2   room_bath            21613 non-null  float64 \n",
            " 3   living_measure       21613 non-null  float64 \n",
            " 4   lot_measure          21613 non-null  float64 \n",
            " 5   ceil                 21613 non-null  category\n",
            " 6   coast                21613 non-null  category\n",
            " 7   sight                21613 non-null  category\n",
            " 8   condition            21613 non-null  category\n",
            " 9   quality              21613 non-null  category\n",
            " 10  ceil_measure         21613 non-null  float64 \n",
            " 11  basement             21613 non-null  float64 \n",
            " 12  zipcode              21613 non-null  category\n",
            " 13  furnished            21613 non-null  category\n",
            " 14  total_area           21613 non-null  float64 \n",
            " 15  renovated            21613 non-null  category\n",
            " 16  median_cost_persqft  21613 non-null  float64 \n",
            " 17  house_old            21613 non-null  int64   \n",
            " 18  Density              21613 non-null  float64 \n",
            " 19  Median_Income        21613 non-null  float64 \n",
            " 20  white_perc           21613 non-null  float64 \n",
            " 21  per_capita_house     21613 non-null  float64 \n",
            "dtypes: category(8), float64(12), int64(2)\n",
            "memory usage: 2.6 MB\n"
          ],
          "name": "stdout"
        }
      ]
    },
    {
      "cell_type": "code",
      "metadata": {
        "id": "SSMVP1wrilff",
        "colab_type": "code",
        "colab": {}
      },
      "source": [
        "# Fetch all numeric features\n",
        "numeric_dtypes = ['int16', 'int32', 'int64', 'float16', 'float32', 'float64']\n",
        "numeric = []\n",
        "for i in house_dat2.columns:\n",
        "    if house_dat2[i].dtype in numeric_dtypes:\n",
        "        numeric.append(i)"
      ],
      "execution_count": 0,
      "outputs": []
    },
    {
      "cell_type": "code",
      "metadata": {
        "id": "Pq8HBiOliwRk",
        "colab_type": "code",
        "outputId": "f86ec643-6a54-45fa-89b5-4bb1ae2b7a4a",
        "colab": {
          "base_uri": "https://localhost:8080/",
          "height": 374
        }
      },
      "source": [
        "house_dat2[numeric].info()"
      ],
      "execution_count": 235,
      "outputs": [
        {
          "output_type": "stream",
          "text": [
            "<class 'pandas.core.frame.DataFrame'>\n",
            "Int64Index: 21613 entries, 0 to 21612\n",
            "Data columns (total 14 columns):\n",
            " #   Column               Non-Null Count  Dtype  \n",
            "---  ------               --------------  -----  \n",
            " 0   price                21613 non-null  int64  \n",
            " 1   room_bed             21613 non-null  float64\n",
            " 2   room_bath            21613 non-null  float64\n",
            " 3   living_measure       21613 non-null  float64\n",
            " 4   lot_measure          21613 non-null  float64\n",
            " 5   ceil_measure         21613 non-null  float64\n",
            " 6   basement             21613 non-null  float64\n",
            " 7   total_area           21613 non-null  float64\n",
            " 8   median_cost_persqft  21613 non-null  float64\n",
            " 9   house_old            21613 non-null  int64  \n",
            " 10  Density              21613 non-null  float64\n",
            " 11  Median_Income        21613 non-null  float64\n",
            " 12  white_perc           21613 non-null  float64\n",
            " 13  per_capita_house     21613 non-null  float64\n",
            "dtypes: float64(12), int64(2)\n",
            "memory usage: 2.5 MB\n"
          ],
          "name": "stdout"
        }
      ]
    },
    {
      "cell_type": "code",
      "metadata": {
        "id": "1WV9Y_xbiwHw",
        "colab_type": "code",
        "outputId": "8b087462-811a-4784-e1a0-a4642333d2c8",
        "colab": {
          "base_uri": "https://localhost:8080/",
          "height": 224
        }
      },
      "source": [
        "house_dat2[numeric].head()"
      ],
      "execution_count": 236,
      "outputs": [
        {
          "output_type": "execute_result",
          "data": {
            "text/html": [
              "<div>\n",
              "<style scoped>\n",
              "    .dataframe tbody tr th:only-of-type {\n",
              "        vertical-align: middle;\n",
              "    }\n",
              "\n",
              "    .dataframe tbody tr th {\n",
              "        vertical-align: top;\n",
              "    }\n",
              "\n",
              "    .dataframe thead th {\n",
              "        text-align: right;\n",
              "    }\n",
              "</style>\n",
              "<table border=\"1\" class=\"dataframe\">\n",
              "  <thead>\n",
              "    <tr style=\"text-align: right;\">\n",
              "      <th></th>\n",
              "      <th>price</th>\n",
              "      <th>room_bed</th>\n",
              "      <th>room_bath</th>\n",
              "      <th>living_measure</th>\n",
              "      <th>lot_measure</th>\n",
              "      <th>ceil_measure</th>\n",
              "      <th>basement</th>\n",
              "      <th>total_area</th>\n",
              "      <th>median_cost_persqft</th>\n",
              "      <th>house_old</th>\n",
              "      <th>Density</th>\n",
              "      <th>Median_Income</th>\n",
              "      <th>white_perc</th>\n",
              "      <th>per_capita_house</th>\n",
              "    </tr>\n",
              "  </thead>\n",
              "  <tbody>\n",
              "    <tr>\n",
              "      <th>0</th>\n",
              "      <td>808100</td>\n",
              "      <td>4.0</td>\n",
              "      <td>3.25</td>\n",
              "      <td>3020.0</td>\n",
              "      <td>13457.0</td>\n",
              "      <td>3020.0</td>\n",
              "      <td>0.0</td>\n",
              "      <td>16477.0</td>\n",
              "      <td>42.522548</td>\n",
              "      <td>59</td>\n",
              "      <td>6275.35</td>\n",
              "      <td>50960.0</td>\n",
              "      <td>0.633307</td>\n",
              "      <td>0.491595</td>\n",
              "    </tr>\n",
              "    <tr>\n",
              "      <th>1</th>\n",
              "      <td>300000</td>\n",
              "      <td>2.0</td>\n",
              "      <td>1.00</td>\n",
              "      <td>820.0</td>\n",
              "      <td>3844.0</td>\n",
              "      <td>820.0</td>\n",
              "      <td>0.0</td>\n",
              "      <td>4664.0</td>\n",
              "      <td>42.522548</td>\n",
              "      <td>99</td>\n",
              "      <td>6275.35</td>\n",
              "      <td>50960.0</td>\n",
              "      <td>0.633307</td>\n",
              "      <td>0.491595</td>\n",
              "    </tr>\n",
              "    <tr>\n",
              "      <th>2</th>\n",
              "      <td>465000</td>\n",
              "      <td>3.0</td>\n",
              "      <td>1.75</td>\n",
              "      <td>1480.0</td>\n",
              "      <td>6360.0</td>\n",
              "      <td>1480.0</td>\n",
              "      <td>0.0</td>\n",
              "      <td>7840.0</td>\n",
              "      <td>42.522548</td>\n",
              "      <td>61</td>\n",
              "      <td>6275.35</td>\n",
              "      <td>50960.0</td>\n",
              "      <td>0.633307</td>\n",
              "      <td>0.491595</td>\n",
              "    </tr>\n",
              "    <tr>\n",
              "      <th>3</th>\n",
              "      <td>529900</td>\n",
              "      <td>5.0</td>\n",
              "      <td>2.25</td>\n",
              "      <td>3030.0</td>\n",
              "      <td>9430.0</td>\n",
              "      <td>2600.0</td>\n",
              "      <td>430.0</td>\n",
              "      <td>12460.0</td>\n",
              "      <td>42.522548</td>\n",
              "      <td>54</td>\n",
              "      <td>6275.35</td>\n",
              "      <td>50960.0</td>\n",
              "      <td>0.633307</td>\n",
              "      <td>0.491595</td>\n",
              "    </tr>\n",
              "    <tr>\n",
              "      <th>4</th>\n",
              "      <td>385000</td>\n",
              "      <td>4.0</td>\n",
              "      <td>1.75</td>\n",
              "      <td>1620.0</td>\n",
              "      <td>4980.0</td>\n",
              "      <td>860.0</td>\n",
              "      <td>760.0</td>\n",
              "      <td>6600.0</td>\n",
              "      <td>42.522548</td>\n",
              "      <td>68</td>\n",
              "      <td>6275.35</td>\n",
              "      <td>50960.0</td>\n",
              "      <td>0.633307</td>\n",
              "      <td>0.491595</td>\n",
              "    </tr>\n",
              "  </tbody>\n",
              "</table>\n",
              "</div>"
            ],
            "text/plain": [
              "    price  room_bed  room_bath  ...  Median_Income  white_perc  per_capita_house\n",
              "0  808100       4.0       3.25  ...        50960.0    0.633307          0.491595\n",
              "1  300000       2.0       1.00  ...        50960.0    0.633307          0.491595\n",
              "2  465000       3.0       1.75  ...        50960.0    0.633307          0.491595\n",
              "3  529900       5.0       2.25  ...        50960.0    0.633307          0.491595\n",
              "4  385000       4.0       1.75  ...        50960.0    0.633307          0.491595\n",
              "\n",
              "[5 rows x 14 columns]"
            ]
          },
          "metadata": {
            "tags": []
          },
          "execution_count": 236
        }
      ]
    },
    {
      "cell_type": "code",
      "metadata": {
        "id": "SXTCvjnWZw32",
        "colab_type": "code",
        "outputId": "e87de122-fe09-43ac-c123-eb91696d6690",
        "colab": {
          "base_uri": "https://localhost:8080/",
          "height": 204
        }
      },
      "source": [
        "import pandas as pd\n",
        "import numpy as np\n",
        "from sklearn.feature_selection import SelectKBest\n",
        "from sklearn.feature_selection import chi2\n",
        "X1=house_dat2.drop('price',axis=1) #Indepedent feature columns\n",
        "y1=house_dat2['price'] # dependent feature column\n",
        "#apply SelectKBest class to extract top 10 best features\n",
        "bestfeatures = SelectKBest(score_func=chi2, k=10)\n",
        "fit = bestfeatures.fit(X1,y1)\n",
        "dfscores = pd.DataFrame(fit.scores_)\n",
        "dfcolumns = pd.DataFrame(X1.columns)\n",
        "#concat two dataframes for better visualization \n",
        "featureScores = pd.concat([dfcolumns,dfscores],axis=1)\n",
        "featureScores.columns = ['Specs','Score']  #naming the dataframe columns\n",
        "print(featureScores.nlargest(10,'Score'))  #print 10 best features"
      ],
      "execution_count": 237,
      "outputs": [
        {
          "output_type": "stream",
          "text": [
            "                  Specs         Score\n",
            "3           lot_measure  2.558928e+08\n",
            "13           total_area  2.323686e+08\n",
            "18        Median_Income  4.578212e+07\n",
            "17              Density  3.356609e+07\n",
            "2        living_measure  5.116975e+06\n",
            "9          ceil_measure  4.000428e+06\n",
            "10             basement  3.644538e+06\n",
            "15  median_cost_persqft  1.533128e+05\n",
            "16            house_old  8.454712e+04\n",
            "6                 sight  1.564297e+04\n"
          ],
          "name": "stdout"
        }
      ]
    },
    {
      "cell_type": "code",
      "metadata": {
        "id": "j659tCMX07ke",
        "colab_type": "code",
        "colab": {}
      },
      "source": [
        "from scipy.stats import zscore"
      ],
      "execution_count": 0,
      "outputs": []
    },
    {
      "cell_type": "code",
      "metadata": {
        "id": "b2gyPKw817dU",
        "colab_type": "code",
        "colab": {}
      },
      "source": [
        "house_dat2[numeric] = house_dat2[numeric].apply(zscore)"
      ],
      "execution_count": 0,
      "outputs": []
    },
    {
      "cell_type": "code",
      "metadata": {
        "id": "YEUB0HiD3pu_",
        "colab_type": "code",
        "outputId": "d137dd63-2943-4b02-a9a2-186c23d98272",
        "colab": {
          "base_uri": "https://localhost:8080/",
          "height": 224
        }
      },
      "source": [
        "house_dat2[numeric].head()"
      ],
      "execution_count": 240,
      "outputs": [
        {
          "output_type": "execute_result",
          "data": {
            "text/html": [
              "<div>\n",
              "<style scoped>\n",
              "    .dataframe tbody tr th:only-of-type {\n",
              "        vertical-align: middle;\n",
              "    }\n",
              "\n",
              "    .dataframe tbody tr th {\n",
              "        vertical-align: top;\n",
              "    }\n",
              "\n",
              "    .dataframe thead th {\n",
              "        text-align: right;\n",
              "    }\n",
              "</style>\n",
              "<table border=\"1\" class=\"dataframe\">\n",
              "  <thead>\n",
              "    <tr style=\"text-align: right;\">\n",
              "      <th></th>\n",
              "      <th>price</th>\n",
              "      <th>room_bed</th>\n",
              "      <th>room_bath</th>\n",
              "      <th>living_measure</th>\n",
              "      <th>lot_measure</th>\n",
              "      <th>ceil_measure</th>\n",
              "      <th>basement</th>\n",
              "      <th>total_area</th>\n",
              "      <th>median_cost_persqft</th>\n",
              "      <th>house_old</th>\n",
              "      <th>Density</th>\n",
              "      <th>Median_Income</th>\n",
              "      <th>white_perc</th>\n",
              "      <th>per_capita_house</th>\n",
              "    </tr>\n",
              "  </thead>\n",
              "  <tbody>\n",
              "    <tr>\n",
              "      <th>0</th>\n",
              "      <td>0.729318</td>\n",
              "      <td>0.673257</td>\n",
              "      <td>1.438981</td>\n",
              "      <td>0.981504</td>\n",
              "      <td>-0.061298</td>\n",
              "      <td>1.427407</td>\n",
              "      <td>-0.683407</td>\n",
              "      <td>-0.039646</td>\n",
              "      <td>-0.398495</td>\n",
              "      <td>0.510853</td>\n",
              "      <td>0.182109</td>\n",
              "      <td>-1.261171</td>\n",
              "      <td>-0.264245</td>\n",
              "      <td>0.940347</td>\n",
              "    </tr>\n",
              "    <tr>\n",
              "      <th>1</th>\n",
              "      <td>-0.653817</td>\n",
              "      <td>-1.537989</td>\n",
              "      <td>-1.470133</td>\n",
              "      <td>-1.392753</td>\n",
              "      <td>-0.304155</td>\n",
              "      <td>-1.195458</td>\n",
              "      <td>-0.683407</td>\n",
              "      <td>-0.336398</td>\n",
              "      <td>-0.398495</td>\n",
              "      <td>1.872660</td>\n",
              "      <td>0.182109</td>\n",
              "      <td>-1.261171</td>\n",
              "      <td>-0.264245</td>\n",
              "      <td>0.940347</td>\n",
              "    </tr>\n",
              "    <tr>\n",
              "      <th>2</th>\n",
              "      <td>-0.204659</td>\n",
              "      <td>-0.432366</td>\n",
              "      <td>-0.500428</td>\n",
              "      <td>-0.680476</td>\n",
              "      <td>-0.240592</td>\n",
              "      <td>-0.408598</td>\n",
              "      <td>-0.683407</td>\n",
              "      <td>-0.256615</td>\n",
              "      <td>-0.398495</td>\n",
              "      <td>0.578943</td>\n",
              "      <td>0.182109</td>\n",
              "      <td>-1.261171</td>\n",
              "      <td>-0.264245</td>\n",
              "      <td>0.940347</td>\n",
              "    </tr>\n",
              "    <tr>\n",
              "      <th>3</th>\n",
              "      <td>-0.027990</td>\n",
              "      <td>1.778880</td>\n",
              "      <td>0.146041</td>\n",
              "      <td>0.992296</td>\n",
              "      <td>-0.163033</td>\n",
              "      <td>0.926678</td>\n",
              "      <td>0.274251</td>\n",
              "      <td>-0.140556</td>\n",
              "      <td>-0.398495</td>\n",
              "      <td>0.340627</td>\n",
              "      <td>0.182109</td>\n",
              "      <td>-1.261171</td>\n",
              "      <td>-0.264245</td>\n",
              "      <td>0.940347</td>\n",
              "    </tr>\n",
              "    <tr>\n",
              "      <th>4</th>\n",
              "      <td>-0.422433</td>\n",
              "      <td>0.673257</td>\n",
              "      <td>-0.500428</td>\n",
              "      <td>-0.529387</td>\n",
              "      <td>-0.275455</td>\n",
              "      <td>-1.147769</td>\n",
              "      <td>1.009197</td>\n",
              "      <td>-0.287764</td>\n",
              "      <td>-0.398495</td>\n",
              "      <td>0.817259</td>\n",
              "      <td>0.182109</td>\n",
              "      <td>-1.261171</td>\n",
              "      <td>-0.264245</td>\n",
              "      <td>0.940347</td>\n",
              "    </tr>\n",
              "  </tbody>\n",
              "</table>\n",
              "</div>"
            ],
            "text/plain": [
              "      price  room_bed  room_bath  ...  Median_Income  white_perc  per_capita_house\n",
              "0  0.729318  0.673257   1.438981  ...      -1.261171   -0.264245          0.940347\n",
              "1 -0.653817 -1.537989  -1.470133  ...      -1.261171   -0.264245          0.940347\n",
              "2 -0.204659 -0.432366  -0.500428  ...      -1.261171   -0.264245          0.940347\n",
              "3 -0.027990  1.778880   0.146041  ...      -1.261171   -0.264245          0.940347\n",
              "4 -0.422433  0.673257  -0.500428  ...      -1.261171   -0.264245          0.940347\n",
              "\n",
              "[5 rows x 14 columns]"
            ]
          },
          "metadata": {
            "tags": []
          },
          "execution_count": 240
        }
      ]
    },
    {
      "cell_type": "code",
      "metadata": {
        "id": "8yrCOeRP30Jh",
        "colab_type": "code",
        "outputId": "1f06cf70-2604-4159-d35c-189df10ae664",
        "colab": {
          "base_uri": "https://localhost:8080/",
          "height": 224
        }
      },
      "source": [
        "house_dat2.head()"
      ],
      "execution_count": 241,
      "outputs": [
        {
          "output_type": "execute_result",
          "data": {
            "text/html": [
              "<div>\n",
              "<style scoped>\n",
              "    .dataframe tbody tr th:only-of-type {\n",
              "        vertical-align: middle;\n",
              "    }\n",
              "\n",
              "    .dataframe tbody tr th {\n",
              "        vertical-align: top;\n",
              "    }\n",
              "\n",
              "    .dataframe thead th {\n",
              "        text-align: right;\n",
              "    }\n",
              "</style>\n",
              "<table border=\"1\" class=\"dataframe\">\n",
              "  <thead>\n",
              "    <tr style=\"text-align: right;\">\n",
              "      <th></th>\n",
              "      <th>price</th>\n",
              "      <th>room_bed</th>\n",
              "      <th>room_bath</th>\n",
              "      <th>living_measure</th>\n",
              "      <th>lot_measure</th>\n",
              "      <th>ceil</th>\n",
              "      <th>coast</th>\n",
              "      <th>sight</th>\n",
              "      <th>condition</th>\n",
              "      <th>quality</th>\n",
              "      <th>ceil_measure</th>\n",
              "      <th>basement</th>\n",
              "      <th>zipcode</th>\n",
              "      <th>furnished</th>\n",
              "      <th>total_area</th>\n",
              "      <th>renovated</th>\n",
              "      <th>median_cost_persqft</th>\n",
              "      <th>house_old</th>\n",
              "      <th>Density</th>\n",
              "      <th>Median_Income</th>\n",
              "      <th>white_perc</th>\n",
              "      <th>per_capita_house</th>\n",
              "    </tr>\n",
              "  </thead>\n",
              "  <tbody>\n",
              "    <tr>\n",
              "      <th>0</th>\n",
              "      <td>0.729318</td>\n",
              "      <td>0.673257</td>\n",
              "      <td>1.438981</td>\n",
              "      <td>0.981504</td>\n",
              "      <td>-0.061298</td>\n",
              "      <td>1.0</td>\n",
              "      <td>0</td>\n",
              "      <td>0</td>\n",
              "      <td>5.0</td>\n",
              "      <td>9.0</td>\n",
              "      <td>1.427407</td>\n",
              "      <td>-0.683407</td>\n",
              "      <td>98133</td>\n",
              "      <td>1</td>\n",
              "      <td>-0.039646</td>\n",
              "      <td>1</td>\n",
              "      <td>-0.398495</td>\n",
              "      <td>0.510853</td>\n",
              "      <td>0.182109</td>\n",
              "      <td>-1.261171</td>\n",
              "      <td>-0.264245</td>\n",
              "      <td>0.940347</td>\n",
              "    </tr>\n",
              "    <tr>\n",
              "      <th>1</th>\n",
              "      <td>-0.653817</td>\n",
              "      <td>-1.537989</td>\n",
              "      <td>-1.470133</td>\n",
              "      <td>-1.392753</td>\n",
              "      <td>-0.304155</td>\n",
              "      <td>1.0</td>\n",
              "      <td>0</td>\n",
              "      <td>0</td>\n",
              "      <td>4.0</td>\n",
              "      <td>6.0</td>\n",
              "      <td>-1.195458</td>\n",
              "      <td>-0.683407</td>\n",
              "      <td>98133</td>\n",
              "      <td>0</td>\n",
              "      <td>-0.336398</td>\n",
              "      <td>1</td>\n",
              "      <td>-0.398495</td>\n",
              "      <td>1.872660</td>\n",
              "      <td>0.182109</td>\n",
              "      <td>-1.261171</td>\n",
              "      <td>-0.264245</td>\n",
              "      <td>0.940347</td>\n",
              "    </tr>\n",
              "    <tr>\n",
              "      <th>2</th>\n",
              "      <td>-0.204659</td>\n",
              "      <td>-0.432366</td>\n",
              "      <td>-0.500428</td>\n",
              "      <td>-0.680476</td>\n",
              "      <td>-0.240592</td>\n",
              "      <td>1.0</td>\n",
              "      <td>0</td>\n",
              "      <td>0</td>\n",
              "      <td>3.0</td>\n",
              "      <td>7.0</td>\n",
              "      <td>-0.408598</td>\n",
              "      <td>-0.683407</td>\n",
              "      <td>98133</td>\n",
              "      <td>0</td>\n",
              "      <td>-0.256615</td>\n",
              "      <td>0</td>\n",
              "      <td>-0.398495</td>\n",
              "      <td>0.578943</td>\n",
              "      <td>0.182109</td>\n",
              "      <td>-1.261171</td>\n",
              "      <td>-0.264245</td>\n",
              "      <td>0.940347</td>\n",
              "    </tr>\n",
              "    <tr>\n",
              "      <th>3</th>\n",
              "      <td>-0.027990</td>\n",
              "      <td>1.778880</td>\n",
              "      <td>0.146041</td>\n",
              "      <td>0.992296</td>\n",
              "      <td>-0.163033</td>\n",
              "      <td>2.0</td>\n",
              "      <td>0</td>\n",
              "      <td>0</td>\n",
              "      <td>4.0</td>\n",
              "      <td>8.0</td>\n",
              "      <td>0.926678</td>\n",
              "      <td>0.274251</td>\n",
              "      <td>98133</td>\n",
              "      <td>0</td>\n",
              "      <td>-0.140556</td>\n",
              "      <td>1</td>\n",
              "      <td>-0.398495</td>\n",
              "      <td>0.340627</td>\n",
              "      <td>0.182109</td>\n",
              "      <td>-1.261171</td>\n",
              "      <td>-0.264245</td>\n",
              "      <td>0.940347</td>\n",
              "    </tr>\n",
              "    <tr>\n",
              "      <th>4</th>\n",
              "      <td>-0.422433</td>\n",
              "      <td>0.673257</td>\n",
              "      <td>-0.500428</td>\n",
              "      <td>-0.529387</td>\n",
              "      <td>-0.275455</td>\n",
              "      <td>1.0</td>\n",
              "      <td>0</td>\n",
              "      <td>0</td>\n",
              "      <td>4.0</td>\n",
              "      <td>7.0</td>\n",
              "      <td>-1.147769</td>\n",
              "      <td>1.009197</td>\n",
              "      <td>98133</td>\n",
              "      <td>0</td>\n",
              "      <td>-0.287764</td>\n",
              "      <td>1</td>\n",
              "      <td>-0.398495</td>\n",
              "      <td>0.817259</td>\n",
              "      <td>0.182109</td>\n",
              "      <td>-1.261171</td>\n",
              "      <td>-0.264245</td>\n",
              "      <td>0.940347</td>\n",
              "    </tr>\n",
              "  </tbody>\n",
              "</table>\n",
              "</div>"
            ],
            "text/plain": [
              "      price  room_bed  room_bath  ...  Median_Income  white_perc per_capita_house\n",
              "0  0.729318  0.673257   1.438981  ...      -1.261171   -0.264245         0.940347\n",
              "1 -0.653817 -1.537989  -1.470133  ...      -1.261171   -0.264245         0.940347\n",
              "2 -0.204659 -0.432366  -0.500428  ...      -1.261171   -0.264245         0.940347\n",
              "3 -0.027990  1.778880   0.146041  ...      -1.261171   -0.264245         0.940347\n",
              "4 -0.422433  0.673257  -0.500428  ...      -1.261171   -0.264245         0.940347\n",
              "\n",
              "[5 rows x 22 columns]"
            ]
          },
          "metadata": {
            "tags": []
          },
          "execution_count": 241
        }
      ]
    },
    {
      "cell_type": "code",
      "metadata": {
        "id": "V4WmWoAdpYbM",
        "colab_type": "code",
        "outputId": "b2583498-a1b2-458f-de73-69c8f89b4c83",
        "colab": {
          "base_uri": "https://localhost:8080/",
          "height": 517
        }
      },
      "source": [
        "# Create box plots for all numeric features\n",
        "sns.set_style(\"white\")\n",
        "f, ax = plt.subplots(figsize=(16, 8))\n",
        "ax.set_xscale(\"log\")\n",
        "ax = sns.boxplot(data=house_dat2[numeric] , orient=\"h\", palette=\"Set1\")\n",
        "ax.xaxis.grid(False)\n",
        "ax.set(ylabel=\"Feature names\")\n",
        "ax.set(xlabel=\"Numeric values\")\n",
        "ax.set(title=\"Numeric Distribution of Features\")\n",
        "sns.despine(trim=True, left=True)"
      ],
      "execution_count": 242,
      "outputs": [
        {
          "output_type": "display_data",
          "data": {
            "image/png": "[encoded data removed]",
            "text/plain": [
              "<Figure size 1152x576 with 1 Axes>"
            ]
          },
          "metadata": {
            "tags": []
          }
        }
      ]
    },
    {
      "cell_type": "markdown",
      "metadata": {
        "id": "AvF2hjfCLotX",
        "colab_type": "text"
      },
      "source": [
        "**Studying relationship of target/other variable in the given data set using pair plot**"
      ]
    },
    {
      "cell_type": "code",
      "metadata": {
        "id": "sL5pnFiyLlYR",
        "colab_type": "code",
        "colab": {}
      },
      "source": [
        "#sns.pairplot(housedat_scaled_z,diag_kind = 'kde')\n",
        "#plt.show"
      ],
      "execution_count": 0,
      "outputs": []
    },
    {
      "cell_type": "markdown",
      "metadata": {
        "id": "WgBk0t9gL1Fo",
        "colab_type": "text"
      },
      "source": [
        "Inference from the above plot:\n",
        "Price seems to have linearity relationship with room_bed,room_bath,living measure,quality,ceil measure but doesnt have any linearity with other attributes and price is highly distributed in the range of 1000000 - 2000000"
      ]
    },
    {
      "cell_type": "code",
      "metadata": {
        "id": "Sv5ovCKQLwa8",
        "colab_type": "code",
        "colab": {}
      },
      "source": [
        "from sklearn.model_selection import train_test_split\n",
        "X=house_dat2.drop('price',axis=1) #Indepedent feature columns\n",
        "y=house_dat2['price'] # dependent feature column\n",
        "x_train,x_test,y_train,y_test=train_test_split(X,y,test_size=0.3,random_state=1)"
      ],
      "execution_count": 0,
      "outputs": []
    },
    {
      "cell_type": "markdown",
      "metadata": {
        "id": "BYSMCmyVMHzv",
        "colab_type": "text"
      },
      "source": [
        "**3.Model building**"
      ]
    },
    {
      "cell_type": "markdown",
      "metadata": {
        "id": "dMm0Lg8AMOZA",
        "colab_type": "text"
      },
      "source": [
        "In the below section,we will evaluate the performance of the different models on the dataset.We will analyse the score of each model and find the best fit regressor for this pricing model"
      ]
    },
    {
      "cell_type": "markdown",
      "metadata": {
        "id": "ktZhejjuMWlW",
        "colab_type": "text"
      },
      "source": [
        "**Linear Regression model**"
      ]
    },
    {
      "cell_type": "code",
      "metadata": {
        "id": "uwNZdtqhMDWD",
        "colab_type": "code",
        "colab": {}
      },
      "source": [
        "from sklearn.linear_model import LinearRegression\n",
        "#fit the model on training data\n",
        "linmodel= LinearRegression()\n",
        "linmodel.fit(x_train,y_train)\n",
        "#predict using test\n",
        "y_predict=linmodel.predict(x_test)\n",
        "#predict using training data\n",
        "y_predict_trn=linmodel.predict(x_train)"
      ],
      "execution_count": 0,
      "outputs": []
    },
    {
      "cell_type": "code",
      "metadata": {
        "id": "2FwaZfo6McFu",
        "colab_type": "code",
        "outputId": "140067bc-f2a8-4d96-ba5a-58f87cc0c2c2",
        "colab": {
          "base_uri": "https://localhost:8080/",
          "height": 51
        }
      },
      "source": [
        "#linear regression model score\n",
        "model_score_trn=linmodel.score(x_train,y_train)\n",
        "print(\"Linear regresion model score using training data:\",model_score_trn)\n",
        "model_score=linmodel.score(x_test,y_test)\n",
        "print(\"Linear regresion model score using test data:\",model_score)"
      ],
      "execution_count": 246,
      "outputs": [
        {
          "output_type": "stream",
          "text": [
            "Linear regresion model score using training data: 0.728691978345062\n",
            "Linear regresion model score using test data: 0.7366844974069688\n"
          ],
          "name": "stdout"
        }
      ]
    },
    {
      "cell_type": "code",
      "metadata": {
        "id": "tncJ-RzkMe2P",
        "colab_type": "code",
        "colab": {}
      },
      "source": [
        "#RMSE of linear regression model\n",
        "from sklearn.metrics import mean_squared_error \n",
        "RMSE_lin=np.sqrt(mean_squared_error(y_test,y_predict))"
      ],
      "execution_count": 0,
      "outputs": []
    },
    {
      "cell_type": "code",
      "metadata": {
        "id": "pyoSZA02Mh4b",
        "colab_type": "code",
        "colab": {}
      },
      "source": [
        "#creating a dataframe to track the performance of each model\n",
        "data={'Model':[],'Traindata_score':[],'Testdata_score':[],'RMSE':[]}\n",
        "Perf_metric=pd.DataFrame(data)\n",
        "Perf_metric.loc[0]=['Linear regression',model_score_trn,model_score,RMSE_lin]"
      ],
      "execution_count": 0,
      "outputs": []
    },
    {
      "cell_type": "markdown",
      "metadata": {
        "id": "6dbJ81V6MnGB",
        "colab_type": "text"
      },
      "source": [
        "**Polynomial Regression model**"
      ]
    },
    {
      "cell_type": "code",
      "metadata": {
        "id": "Ol7NyTxtMkYP",
        "colab_type": "code",
        "colab": {}
      },
      "source": [
        "#since not all other independent variables are linear with the target(pricing)>we apply polynomial features as data is non linear\n",
        "from sklearn.preprocessing import PolynomialFeatures\n",
        "from sklearn import linear_model\n",
        "polymodel = PolynomialFeatures(degree=2,interaction_only=True)\n",
        "poly_x_train = polymodel.fit_transform(x_train)\n",
        "poly_x_test = polymodel.fit_transform(x_test)\n",
        "linear_polymodel = linear_model.LinearRegression()\n",
        "linear_polymodel.fit(poly_x_train,y_train)\n",
        "#predict using test\n",
        "poly_y_predict=linear_polymodel.predict(poly_x_test)\n",
        "#predict using training data\n",
        "poly_y_predict_trn=linear_polymodel.predict(poly_x_train)"
      ],
      "execution_count": 0,
      "outputs": []
    },
    {
      "cell_type": "code",
      "metadata": {
        "id": "HD_EFRcBMtW2",
        "colab_type": "code",
        "outputId": "654d1d43-d73b-40db-b7b2-83403e2554a5",
        "colab": {
          "base_uri": "https://localhost:8080/",
          "height": 51
        }
      },
      "source": [
        "#polynomial regression model score\n",
        "model_score_polytrn=linear_polymodel.score(poly_x_train,y_train)\n",
        "print(\"Polynomial regresion model score using training data:\",model_score_polytrn)\n",
        "model_score_poly=linear_polymodel.score(poly_x_test,y_test)\n",
        "print(\"Polynomial regresion model score using test data:\",model_score_poly)"
      ],
      "execution_count": 250,
      "outputs": [
        {
          "output_type": "stream",
          "text": [
            "Polynomial regresion model score using training data: 0.8599749530808589\n",
            "Polynomial regresion model score using test data: 0.8515621605703616\n"
          ],
          "name": "stdout"
        }
      ]
    },
    {
      "cell_type": "code",
      "metadata": {
        "id": "wJp_9jLxMz6D",
        "colab_type": "code",
        "colab": {}
      },
      "source": [
        "#RMSE of polynomial regression model\n",
        "rmse_poly=np.sqrt(mean_squared_error(y_test,poly_y_predict))\n",
        "Perf_metric.loc[1]=['Polynomial regression',model_score_polytrn,model_score_poly,rmse_poly]"
      ],
      "execution_count": 0,
      "outputs": []
    },
    {
      "cell_type": "markdown",
      "metadata": {
        "id": "OSNrcgc9M6Jb",
        "colab_type": "text"
      },
      "source": [
        "**K- Nearest Neighbor regression model**"
      ]
    },
    {
      "cell_type": "code",
      "metadata": {
        "id": "qRQ9Zy4aM24E",
        "colab_type": "code",
        "colab": {}
      },
      "source": [
        "##KNN regressor model\n",
        "from sklearn.neighbors import KNeighborsRegressor\n",
        "#fit the model on training data\n",
        "knnmodel=KNeighborsRegressor(n_neighbors=5)\n",
        "knnmodel.fit(x_train,y_train)\n",
        "#predict using training data\n",
        "y_predict_knn_trn=knnmodel.predict(x_train)\n",
        "#predict using test\n",
        "y_predict_knn=knnmodel.predict(x_test)"
      ],
      "execution_count": 0,
      "outputs": []
    },
    {
      "cell_type": "code",
      "metadata": {
        "id": "17JT6czoM_xR",
        "colab_type": "code",
        "outputId": "acd06b60-630f-4d11-b8fc-a7d23233ecb3",
        "colab": {
          "base_uri": "https://localhost:8080/",
          "height": 51
        }
      },
      "source": [
        "#K-NN model model score\n",
        "knnmodel_score_trn=knnmodel.score(x_train,y_train)\n",
        "print(\"K-NN model score using training data:\",knnmodel_score_trn)\n",
        "knnmodel_score=knnmodel.score(x_test,y_test)\n",
        "print(\"K-NN model score using test data:\",knnmodel_score)"
      ],
      "execution_count": 253,
      "outputs": [
        {
          "output_type": "stream",
          "text": [
            "K-NN model score using training data: 0.8660261303306906\n",
            "K-NN model score using test data: 0.7589562440239699\n"
          ],
          "name": "stdout"
        }
      ]
    },
    {
      "cell_type": "code",
      "metadata": {
        "id": "1vF1V4lMNFLm",
        "colab_type": "code",
        "colab": {}
      },
      "source": [
        "#RMSE of KNN regression model\n",
        "rmse_knn=np.sqrt(mean_squared_error(y_test,y_predict_knn))\n",
        "Perf_metric.loc[2]=['KNN regression',knnmodel_score_trn,knnmodel_score,rmse_knn]"
      ],
      "execution_count": 0,
      "outputs": []
    },
    {
      "cell_type": "markdown",
      "metadata": {
        "id": "ohYdXQd7NLl6",
        "colab_type": "text"
      },
      "source": [
        "**Decision Tree**"
      ]
    },
    {
      "cell_type": "code",
      "metadata": {
        "id": "-2ZII5S4NK8D",
        "colab_type": "code",
        "outputId": "9a1b427a-e08d-4816-cfae-56619fab3386",
        "colab": {
          "base_uri": "https://localhost:8080/",
          "height": 51
        }
      },
      "source": [
        "#Decision Tree Model\n",
        "from sklearn.tree import DecisionTreeRegressor\n",
        "dTree=DecisionTreeRegressor(criterion='mse',random_state=1)\n",
        "dTree.fit(x_train,y_train)\n",
        "#predict using test data\n",
        "y_predict_dtree=dTree.predict(x_test)\n",
        "#decision tree score\n",
        "print(\"Decision Tree score for training dataset:\",dTree.score(x_train,y_train))\n",
        "print(\"Decision Tree score for test dataset:\",dTree.score(x_test,y_test))"
      ],
      "execution_count": 255,
      "outputs": [
        {
          "output_type": "stream",
          "text": [
            "Decision Tree score for training dataset: 0.999540136953868\n",
            "Decision Tree score for test dataset: 0.7255801008749702\n"
          ],
          "name": "stdout"
        }
      ]
    },
    {
      "cell_type": "code",
      "metadata": {
        "id": "Tid7uTOnNQrb",
        "colab_type": "code",
        "colab": {}
      },
      "source": [
        "#RMSE of dtree regression model\n",
        "rmse_dtree=np.sqrt(mean_squared_error(y_test,y_predict_dtree))\n",
        "Perf_metric.loc[4]=['Decision tree',dTree.score(x_train,y_train),dTree.score(x_test,y_test),rmse_dtree]"
      ],
      "execution_count": 0,
      "outputs": []
    },
    {
      "cell_type": "markdown",
      "metadata": {
        "id": "w6e4u0o9NZgB",
        "colab_type": "text"
      },
      "source": [
        "**Feature selection based on feature importance**"
      ]
    },
    {
      "cell_type": "code",
      "metadata": {
        "id": "wz8ZpqCbNVPU",
        "colab_type": "code",
        "outputId": "666523ca-bff8-447d-b69a-63df67f1fa76",
        "colab": {
          "base_uri": "https://localhost:8080/",
          "height": 391
        }
      },
      "source": [
        "# Get feature importance\n",
        "feature_importances = dTree.feature_importances_\n",
        "print (pd.DataFrame(feature_importances, columns = [\"Imp\"], index = x_train.columns))"
      ],
      "execution_count": 257,
      "outputs": [
        {
          "output_type": "stream",
          "text": [
            "                          Imp\n",
            "room_bed             0.006344\n",
            "room_bath            0.019512\n",
            "living_measure       0.246103\n",
            "lot_measure          0.012189\n",
            "ceil                 0.003487\n",
            "coast                0.020440\n",
            "sight                0.037147\n",
            "condition            0.005136\n",
            "quality              0.021367\n",
            "ceil_measure         0.024012\n",
            "basement             0.006358\n",
            "zipcode              0.013753\n",
            "furnished            0.322481\n",
            "total_area           0.010210\n",
            "renovated            0.000105\n",
            "median_cost_persqft  0.187154\n",
            "house_old            0.022659\n",
            "Density              0.007931\n",
            "Median_Income        0.009670\n",
            "white_perc           0.009799\n",
            "per_capita_house     0.014144\n"
          ],
          "name": "stdout"
        }
      ]
    },
    {
      "cell_type": "markdown",
      "metadata": {
        "id": "HBbuNYflNjnI",
        "colab_type": "text"
      },
      "source": [
        "From the above analysis on feature importance,we see that renovated,soldyr,ceil are of least important.Hence we will evaluate the performance by dropping these column"
      ]
    },
    {
      "cell_type": "markdown",
      "metadata": {
        "id": "Nlow-hxJNnHO",
        "colab_type": "text"
      },
      "source": [
        "**Decision tree regressor after feature selection**"
      ]
    },
    {
      "cell_type": "code",
      "metadata": {
        "id": "bIW3lXNWNhKF",
        "colab_type": "code",
        "outputId": "b2b503c0-073d-4b8b-90d7-c3ae19834d32",
        "colab": {
          "base_uri": "https://localhost:8080/",
          "height": 51
        }
      },
      "source": [
        "#Dropping renovated,soldyr,ceil and predicting using decision tree\n",
        "X2 = house_dat2.drop(['price', 'ceil', 'renovated'],axis=1) \n",
        "y2 = house_dat2['price']\n",
        "x2_train,x2_test,y2_train,y2_test=train_test_split(X2,y2,test_size=0.3,random_state=1)\n",
        "dTree.fit(x2_train,y2_train)\n",
        "#predict using test data\n",
        "y2_predict_dtree=dTree.predict(x2_test)\n",
        "#predict using train data\n",
        "y2_predict_dtree_train=dTree.predict(x2_train)\n",
        "#decision tree score\n",
        "print(\"Decision Tree score for training dataset:\",dTree.score(x2_train,y2_train))\n",
        "print(\"Decision Tree score for test dataset:\",dTree.score(x2_test,y2_test))"
      ],
      "execution_count": 258,
      "outputs": [
        {
          "output_type": "stream",
          "text": [
            "Decision Tree score for training dataset: 0.9995394693652151\n",
            "Decision Tree score for test dataset: 0.71027656895777\n"
          ],
          "name": "stdout"
        }
      ]
    },
    {
      "cell_type": "code",
      "metadata": {
        "id": "kIj4GCfSNrO-",
        "colab_type": "code",
        "colab": {}
      },
      "source": [
        "#RMSE of dtree after feature selection model\n",
        "rmse_dtree_fs=np.sqrt(mean_squared_error(y2_test,y2_predict_dtree))\n",
        "Perf_metric.loc[5]=['Decisiontree_featuresel',dTree.score(x2_train,y2_train),dTree.score(x2_test,y2_test),rmse_dtree_fs]"
      ],
      "execution_count": 0,
      "outputs": []
    },
    {
      "cell_type": "markdown",
      "metadata": {
        "id": "lozRj2DUOBaF",
        "colab_type": "text"
      },
      "source": [
        "**Ensemble Techniques**\n",
        "\n",
        "In below selection,we evaluate by applying different ensemble techniques like bagging,boosting & random forest to improve the performance of model.\n",
        "\n",
        "From the base model analysis,decision tree seems to perform well compared to other models and hence we apply ensemble technique on top of decision tree"
      ]
    },
    {
      "cell_type": "markdown",
      "metadata": {
        "id": "qrJ-j_N4OMO8",
        "colab_type": "text"
      },
      "source": [
        "**Applying bagging on top of decision tree**"
      ]
    },
    {
      "cell_type": "code",
      "metadata": {
        "id": "3C9Z31hGN7yF",
        "colab_type": "code",
        "outputId": "6da3a05a-45e7-4b6b-be0a-6e49cea1e17f",
        "colab": {
          "base_uri": "https://localhost:8080/",
          "height": 51
        }
      },
      "source": [
        "#Bagging\n",
        "from sklearn.ensemble import BaggingRegressor\n",
        "bgc=BaggingRegressor(base_estimator=dTree,n_estimators=10,random_state=1)\n",
        "bgc.fit(x2_train,y2_train)\n",
        "#predict using test data\n",
        "bgc_predict=bgc.predict(x2_test)\n",
        "#accuracy score\n",
        "print(\"Bagging regressor score for test dataset:\",bgc.score(x2_test,y2_test))\n",
        "print(\"Bagging regressor score for training dataset:\",bgc.score(x2_train,y2_train))"
      ],
      "execution_count": 260,
      "outputs": [
        {
          "output_type": "stream",
          "text": [
            "Bagging regressor score for test dataset: 0.8552080033277345\n",
            "Bagging regressor score for training dataset: 0.9666811958043688\n"
          ],
          "name": "stdout"
        }
      ]
    },
    {
      "cell_type": "code",
      "metadata": {
        "id": "HlNn09-uORGS",
        "colab_type": "code",
        "outputId": "f9207265-d224-4c42-a68d-e95df8c404c7",
        "colab": {
          "base_uri": "https://localhost:8080/",
          "height": 235
        }
      },
      "source": [
        "#RMSE of bagging regression model\n",
        "rmse_bagging=np.sqrt(mean_squared_error(y2_test,bgc_predict))\n",
        "Perf_metric.loc[6]=['Bagging_DecTree',bgc.score(x2_train,y2_train),bgc.score(x2_test,y2_test),rmse_bagging]\n",
        "Perf_metric"
      ],
      "execution_count": 261,
      "outputs": [
        {
          "output_type": "execute_result",
          "data": {
            "text/html": [
              "<div>\n",
              "<style scoped>\n",
              "    .dataframe tbody tr th:only-of-type {\n",
              "        vertical-align: middle;\n",
              "    }\n",
              "\n",
              "    .dataframe tbody tr th {\n",
              "        vertical-align: top;\n",
              "    }\n",
              "\n",
              "    .dataframe thead th {\n",
              "        text-align: right;\n",
              "    }\n",
              "</style>\n",
              "<table border=\"1\" class=\"dataframe\">\n",
              "  <thead>\n",
              "    <tr style=\"text-align: right;\">\n",
              "      <th></th>\n",
              "      <th>Model</th>\n",
              "      <th>Traindata_score</th>\n",
              "      <th>Testdata_score</th>\n",
              "      <th>RMSE</th>\n",
              "    </tr>\n",
              "  </thead>\n",
              "  <tbody>\n",
              "    <tr>\n",
              "      <th>0</th>\n",
              "      <td>Linear regression</td>\n",
              "      <td>0.728692</td>\n",
              "      <td>0.736684</td>\n",
              "      <td>0.529725</td>\n",
              "    </tr>\n",
              "    <tr>\n",
              "      <th>1</th>\n",
              "      <td>Polynomial regression</td>\n",
              "      <td>0.859975</td>\n",
              "      <td>0.851562</td>\n",
              "      <td>0.397727</td>\n",
              "    </tr>\n",
              "    <tr>\n",
              "      <th>2</th>\n",
              "      <td>KNN regression</td>\n",
              "      <td>0.866026</td>\n",
              "      <td>0.758956</td>\n",
              "      <td>0.506828</td>\n",
              "    </tr>\n",
              "    <tr>\n",
              "      <th>4</th>\n",
              "      <td>Decision tree</td>\n",
              "      <td>0.999540</td>\n",
              "      <td>0.725580</td>\n",
              "      <td>0.540780</td>\n",
              "    </tr>\n",
              "    <tr>\n",
              "      <th>5</th>\n",
              "      <td>Decisiontree_featuresel</td>\n",
              "      <td>0.999539</td>\n",
              "      <td>0.710277</td>\n",
              "      <td>0.555654</td>\n",
              "    </tr>\n",
              "    <tr>\n",
              "      <th>6</th>\n",
              "      <td>Bagging_DecTree</td>\n",
              "      <td>0.966681</td>\n",
              "      <td>0.855208</td>\n",
              "      <td>0.392812</td>\n",
              "    </tr>\n",
              "  </tbody>\n",
              "</table>\n",
              "</div>"
            ],
            "text/plain": [
              "                     Model  Traindata_score  Testdata_score      RMSE\n",
              "0        Linear regression         0.728692        0.736684  0.529725\n",
              "1    Polynomial regression         0.859975        0.851562  0.397727\n",
              "2           KNN regression         0.866026        0.758956  0.506828\n",
              "4            Decision tree         0.999540        0.725580  0.540780\n",
              "5  Decisiontree_featuresel         0.999539        0.710277  0.555654\n",
              "6          Bagging_DecTree         0.966681        0.855208  0.392812"
            ]
          },
          "metadata": {
            "tags": []
          },
          "execution_count": 261
        }
      ]
    },
    {
      "cell_type": "markdown",
      "metadata": {
        "id": "kADFxsOaOaSn",
        "colab_type": "text"
      },
      "source": [
        "**Applying Adaboost on top of decision tree**"
      ]
    },
    {
      "cell_type": "code",
      "metadata": {
        "id": "hEoH05vAOUkU",
        "colab_type": "code",
        "outputId": "ed8a3a9c-d260-4a41-8c36-c8e49ffa4e60",
        "colab": {
          "base_uri": "https://localhost:8080/",
          "height": 51
        }
      },
      "source": [
        "#AdaBoosting\n",
        "from sklearn.ensemble import AdaBoostRegressor\n",
        "abc=AdaBoostRegressor(base_estimator=dTree,n_estimators=10,random_state=1)\n",
        "abc.fit(x2_train,y2_train)\n",
        "#predict using test data\n",
        "abc_predict=abc.predict(x2_test)\n",
        "#accuracy score\n",
        "print(\"Adaboost regressor score for test dataset:\",abc.score(x2_test,y2_test))\n",
        "print(\"Adaboost regressor score for training dataset:\",abc.score(x2_train,y2_train))"
      ],
      "execution_count": 262,
      "outputs": [
        {
          "output_type": "stream",
          "text": [
            "Adaboost regressor score for test dataset: 0.8443829599891796\n",
            "Adaboost regressor score for training dataset: 0.9981089787675791\n"
          ],
          "name": "stdout"
        }
      ]
    },
    {
      "cell_type": "code",
      "metadata": {
        "id": "dloF4oyVOe5-",
        "colab_type": "code",
        "colab": {}
      },
      "source": [
        "#RMSE of boosting regression model\n",
        "rmse_boosting=np.sqrt(mean_squared_error(y2_test,abc_predict))\n",
        "Perf_metric.loc[7]=['Boosting_DecTree',abc.score(x2_train,y2_train),abc.score(x2_test,y2_test),rmse_boosting]"
      ],
      "execution_count": 0,
      "outputs": []
    },
    {
      "cell_type": "markdown",
      "metadata": {
        "id": "PVQKnYXuOmdV",
        "colab_type": "text"
      },
      "source": [
        "**Applying GradientBoost on top of decision tree**"
      ]
    },
    {
      "cell_type": "code",
      "metadata": {
        "id": "v5GRqsMZOi4y",
        "colab_type": "code",
        "outputId": "7e5c47b1-eb3f-47b5-ec19-4611b51d1771",
        "colab": {
          "base_uri": "https://localhost:8080/",
          "height": 51
        }
      },
      "source": [
        "#GradientBoost\n",
        "from sklearn.ensemble import GradientBoostingRegressor\n",
        "gbc=GradientBoostingRegressor(init=dTree,n_estimators=10,random_state=1)\n",
        "gbc.fit(x2_train,y2_train)\n",
        "#predict using test data\n",
        "gbc_predict=gbc.predict(x2_test)\n",
        "#accuracy score\n",
        "print(\"GradientBoost regressor score for test dataset:\",gbc.score(x2_test,y2_test))\n",
        "print(\"GradientBoost regressor score for training dataset:\",gbc.score(x2_train,y2_train))"
      ],
      "execution_count": 264,
      "outputs": [
        {
          "output_type": "stream",
          "text": [
            "GradientBoost regressor score for test dataset: 0.7102765683027995\n",
            "GradientBoost regressor score for training dataset: 0.9995394693735676\n"
          ],
          "name": "stdout"
        }
      ]
    },
    {
      "cell_type": "code",
      "metadata": {
        "id": "HyTeF-nnOric",
        "colab_type": "code",
        "colab": {}
      },
      "source": [
        "#RMSE of gradient boosting regression model\n",
        "rmse_gradboosting=np.sqrt(mean_squared_error(y2_test,gbc_predict))\n",
        "Perf_metric.loc[8]=['GradBoosting_DecTree',gbc.score(x2_train,y2_train),gbc.score(x2_test,y2_test),rmse_gradboosting]"
      ],
      "execution_count": 0,
      "outputs": []
    },
    {
      "cell_type": "markdown",
      "metadata": {
        "id": "0lpP6FdyOzBY",
        "colab_type": "text"
      },
      "source": [
        "**Applying random forest regressor on top of decision tree**"
      ]
    },
    {
      "cell_type": "code",
      "metadata": {
        "id": "RjrFoCqBwd7_",
        "colab_type": "code",
        "colab": {}
      },
      "source": [
        "hyperparameters = { 'randomforestregressor__max_features' : ['auto', 'sqrt', 'log2'],\n",
        "                  'randomforestregressor__max_depth': [None, 5, 3, 1],\n",
        "                  'randomforestregressor__min_samples_split': [2, 5],\n",
        "                  'randomforestregressor__min_samples_leaf': [10, 5]}"
      ],
      "execution_count": 0,
      "outputs": []
    },
    {
      "cell_type": "code",
      "metadata": {
        "id": "Dj2WJ_MLwisj",
        "colab_type": "code",
        "colab": {}
      },
      "source": [
        "from sklearn.ensemble import RandomForestRegressor\n",
        "from sklearn.pipeline import make_pipeline\n",
        "pipeline = make_pipeline(RandomForestRegressor(n_estimators=50))"
      ],
      "execution_count": 0,
      "outputs": []
    },
    {
      "cell_type": "code",
      "metadata": {
        "id": "VbTLqwttwipO",
        "colab_type": "code",
        "colab": {}
      },
      "source": [
        "from sklearn.model_selection import learning_curve, GridSearchCV"
      ],
      "execution_count": 0,
      "outputs": []
    },
    {
      "cell_type": "code",
      "metadata": {
        "id": "tmq3tfxxwimM",
        "colab_type": "code",
        "outputId": "def1807e-11a5-47f3-9e42-e144670d01f9",
        "colab": {
          "base_uri": "https://localhost:8080/",
          "height": 442
        }
      },
      "source": [
        "#Cross Validation to find best parameters\n",
        "clf = GridSearchCV(pipeline, hyperparameters, cv=10)\n",
        "# Fit and tune model\n",
        "clf.fit(x2_train,y2_train)"
      ],
      "execution_count": 269,
      "outputs": [
        {
          "output_type": "execute_result",
          "data": {
            "text/plain": [
              "GridSearchCV(cv=10, error_score=nan,\n",
              "             estimator=Pipeline(memory=None,\n",
              "                                steps=[('randomforestregressor',\n",
              "                                        RandomForestRegressor(bootstrap=True,\n",
              "                                                              ccp_alpha=0.0,\n",
              "                                                              criterion='mse',\n",
              "                                                              max_depth=None,\n",
              "                                                              max_features='auto',\n",
              "                                                              max_leaf_nodes=None,\n",
              "                                                              max_samples=None,\n",
              "                                                              min_impurity_decrease=0.0,\n",
              "                                                              min_impurity_split=None,\n",
              "                                                              min_samples_leaf=1,\n",
              "                                                              min_samples_split=2,\n",
              "                                                              min_weight_fraction_leaf...\n",
              "                                                              warm_start=False))],\n",
              "                                verbose=False),\n",
              "             iid='deprecated', n_jobs=None,\n",
              "             param_grid={'randomforestregressor__max_depth': [None, 5, 3, 1],\n",
              "                         'randomforestregressor__max_features': ['auto', 'sqrt',\n",
              "                                                                 'log2'],\n",
              "                         'randomforestregressor__min_samples_leaf': [10, 5],\n",
              "                         'randomforestregressor__min_samples_split': [2, 5]},\n",
              "             pre_dispatch='2*n_jobs', refit=True, return_train_score=False,\n",
              "             scoring=None, verbose=0)"
            ]
          },
          "metadata": {
            "tags": []
          },
          "execution_count": 269
        }
      ]
    },
    {
      "cell_type": "code",
      "metadata": {
        "id": "U_uXm1rNwiiB",
        "colab_type": "code",
        "outputId": "09c8d60d-0f5b-4259-c522-293ccd01c3fb",
        "colab": {
          "base_uri": "https://localhost:8080/",
          "height": 85
        }
      },
      "source": [
        "clf.best_params_"
      ],
      "execution_count": 270,
      "outputs": [
        {
          "output_type": "execute_result",
          "data": {
            "text/plain": [
              "{'randomforestregressor__max_depth': None,\n",
              " 'randomforestregressor__max_features': 'auto',\n",
              " 'randomforestregressor__min_samples_leaf': 5,\n",
              " 'randomforestregressor__min_samples_split': 5}"
            ]
          },
          "metadata": {
            "tags": []
          },
          "execution_count": 270
        }
      ]
    },
    {
      "cell_type": "code",
      "metadata": {
        "id": "iPniemenwica",
        "colab_type": "code",
        "outputId": "9602463b-5b6d-4847-a043-de694b3eebdf",
        "colab": {
          "base_uri": "https://localhost:8080/",
          "height": 34
        }
      },
      "source": [
        "clf.best_score_"
      ],
      "execution_count": 271,
      "outputs": [
        {
          "output_type": "execute_result",
          "data": {
            "text/plain": [
              "0.8446792709040107"
            ]
          },
          "metadata": {
            "tags": []
          },
          "execution_count": 271
        }
      ]
    },
    {
      "cell_type": "code",
      "metadata": {
        "id": "2eoFDxm_w75H",
        "colab_type": "code",
        "outputId": "89586322-6525-4112-cb1a-c181132c1703",
        "colab": {
          "base_uri": "https://localhost:8080/",
          "height": 255
        }
      },
      "source": [
        "clf.best_estimator_"
      ],
      "execution_count": 272,
      "outputs": [
        {
          "output_type": "execute_result",
          "data": {
            "text/plain": [
              "Pipeline(memory=None,\n",
              "         steps=[('randomforestregressor',\n",
              "                 RandomForestRegressor(bootstrap=True, ccp_alpha=0.0,\n",
              "                                       criterion='mse', max_depth=None,\n",
              "                                       max_features='auto', max_leaf_nodes=None,\n",
              "                                       max_samples=None,\n",
              "                                       min_impurity_decrease=0.0,\n",
              "                                       min_impurity_split=None,\n",
              "                                       min_samples_leaf=5, min_samples_split=5,\n",
              "                                       min_weight_fraction_leaf=0.0,\n",
              "                                       n_estimators=50, n_jobs=None,\n",
              "                                       oob_score=False, random_state=None,\n",
              "                                       verbose=0, warm_start=False))],\n",
              "         verbose=False)"
            ]
          },
          "metadata": {
            "tags": []
          },
          "execution_count": 272
        }
      ]
    },
    {
      "cell_type": "code",
      "metadata": {
        "id": "Q6i4WpOGw71M",
        "colab_type": "code",
        "outputId": "e4892160-004b-49a9-a2c4-40afcf451b63",
        "colab": {
          "base_uri": "https://localhost:8080/",
          "height": 34
        }
      },
      "source": [
        "#Quick check accuracy of the model after CV\n",
        "score = clf.score(x2_train,y2_train)\n",
        "print(score)"
      ],
      "execution_count": 273,
      "outputs": [
        {
          "output_type": "stream",
          "text": [
            "0.9233995471189059\n"
          ],
          "name": "stdout"
        }
      ]
    },
    {
      "cell_type": "code",
      "metadata": {
        "id": "R3o4c-ktw7x0",
        "colab_type": "code",
        "outputId": "e470e9e2-6b61-4c64-9974-f58c330da3a1",
        "colab": {
          "base_uri": "https://localhost:8080/",
          "height": 34
        }
      },
      "source": [
        "#Quick check accuracy of the model\n",
        "score = clf.score(x2_test,y2_test)\n",
        "print(score)"
      ],
      "execution_count": 274,
      "outputs": [
        {
          "output_type": "stream",
          "text": [
            "0.8531292612625065\n"
          ],
          "name": "stdout"
        }
      ]
    },
    {
      "cell_type": "code",
      "metadata": {
        "id": "dcV9_6G2xM6G",
        "colab_type": "code",
        "colab": {}
      },
      "source": [
        "RF_predictions = clf.predict(x2_test)"
      ],
      "execution_count": 0,
      "outputs": []
    },
    {
      "cell_type": "code",
      "metadata": {
        "id": "V2XjvaJ2w7tN",
        "colab_type": "code",
        "outputId": "6a892a00-d462-4704-bc79-69426615851e",
        "colab": {
          "base_uri": "https://localhost:8080/",
          "height": 34
        }
      },
      "source": [
        "from sklearn.metrics import mean_squared_error\n",
        "np.sqrt(mean_squared_error(y2_test,RF_predictions))"
      ],
      "execution_count": 276,
      "outputs": [
        {
          "output_type": "execute_result",
          "data": {
            "text/plain": [
              "0.3956216790007306"
            ]
          },
          "metadata": {
            "tags": []
          },
          "execution_count": 276
        }
      ]
    },
    {
      "cell_type": "code",
      "metadata": {
        "id": "LDO_nssDxSO3",
        "colab_type": "code",
        "outputId": "88fa0526-199b-469f-870f-e08a35248c47",
        "colab": {
          "base_uri": "https://localhost:8080/",
          "height": 51
        }
      },
      "source": [
        "#accuracy score\n",
        "print(\"RandomForest regressor score for test dataset:\",clf.score(x2_test,y2_test))\n",
        "print(\"RandomForest regressor score for training dataset:\",clf.score(x2_train,y2_train))"
      ],
      "execution_count": 277,
      "outputs": [
        {
          "output_type": "stream",
          "text": [
            "RandomForest regressor score for test dataset: 0.8531292612625065\n",
            "RandomForest regressor score for training dataset: 0.9233995471189059\n"
          ],
          "name": "stdout"
        }
      ]
    },
    {
      "cell_type": "code",
      "metadata": {
        "id": "PEqowaCYxSHS",
        "colab_type": "code",
        "colab": {}
      },
      "source": [
        "#RMSE of random forest regression model\n",
        "rmse_ranforest=np.sqrt(mean_squared_error(y2_test,RF_predictions))\n",
        "Perf_metric.loc[9]=['RandomForest_DecTree',clf.score(x2_train,y2_train),clf.score(x2_test,y2_test),rmse_ranforest]"
      ],
      "execution_count": 0,
      "outputs": []
    },
    {
      "cell_type": "markdown",
      "metadata": {
        "id": "Z7V3-aq5PD4u",
        "colab_type": "text"
      },
      "source": [
        "**Inference on Performance of the models**"
      ]
    },
    {
      "cell_type": "code",
      "metadata": {
        "id": "guQPwFxUO_sn",
        "colab_type": "code",
        "outputId": "ce2f10ab-8fd3-444a-fbca-ea98bb417b43",
        "colab": {
          "base_uri": "https://localhost:8080/",
          "height": 328
        }
      },
      "source": [
        "Perf_metric"
      ],
      "execution_count": 279,
      "outputs": [
        {
          "output_type": "execute_result",
          "data": {
            "text/html": [
              "<div>\n",
              "<style scoped>\n",
              "    .dataframe tbody tr th:only-of-type {\n",
              "        vertical-align: middle;\n",
              "    }\n",
              "\n",
              "    .dataframe tbody tr th {\n",
              "        vertical-align: top;\n",
              "    }\n",
              "\n",
              "    .dataframe thead th {\n",
              "        text-align: right;\n",
              "    }\n",
              "</style>\n",
              "<table border=\"1\" class=\"dataframe\">\n",
              "  <thead>\n",
              "    <tr style=\"text-align: right;\">\n",
              "      <th></th>\n",
              "      <th>Model</th>\n",
              "      <th>Traindata_score</th>\n",
              "      <th>Testdata_score</th>\n",
              "      <th>RMSE</th>\n",
              "    </tr>\n",
              "  </thead>\n",
              "  <tbody>\n",
              "    <tr>\n",
              "      <th>0</th>\n",
              "      <td>Linear regression</td>\n",
              "      <td>0.728692</td>\n",
              "      <td>0.736684</td>\n",
              "      <td>0.529725</td>\n",
              "    </tr>\n",
              "    <tr>\n",
              "      <th>1</th>\n",
              "      <td>Polynomial regression</td>\n",
              "      <td>0.859975</td>\n",
              "      <td>0.851562</td>\n",
              "      <td>0.397727</td>\n",
              "    </tr>\n",
              "    <tr>\n",
              "      <th>2</th>\n",
              "      <td>KNN regression</td>\n",
              "      <td>0.866026</td>\n",
              "      <td>0.758956</td>\n",
              "      <td>0.506828</td>\n",
              "    </tr>\n",
              "    <tr>\n",
              "      <th>4</th>\n",
              "      <td>Decision tree</td>\n",
              "      <td>0.999540</td>\n",
              "      <td>0.725580</td>\n",
              "      <td>0.540780</td>\n",
              "    </tr>\n",
              "    <tr>\n",
              "      <th>5</th>\n",
              "      <td>Decisiontree_featuresel</td>\n",
              "      <td>0.999539</td>\n",
              "      <td>0.710277</td>\n",
              "      <td>0.555654</td>\n",
              "    </tr>\n",
              "    <tr>\n",
              "      <th>6</th>\n",
              "      <td>Bagging_DecTree</td>\n",
              "      <td>0.966681</td>\n",
              "      <td>0.855208</td>\n",
              "      <td>0.392812</td>\n",
              "    </tr>\n",
              "    <tr>\n",
              "      <th>7</th>\n",
              "      <td>Boosting_DecTree</td>\n",
              "      <td>0.998109</td>\n",
              "      <td>0.844383</td>\n",
              "      <td>0.407231</td>\n",
              "    </tr>\n",
              "    <tr>\n",
              "      <th>8</th>\n",
              "      <td>GradBoosting_DecTree</td>\n",
              "      <td>0.999539</td>\n",
              "      <td>0.710277</td>\n",
              "      <td>0.555654</td>\n",
              "    </tr>\n",
              "    <tr>\n",
              "      <th>9</th>\n",
              "      <td>RandomForest_DecTree</td>\n",
              "      <td>0.923400</td>\n",
              "      <td>0.853129</td>\n",
              "      <td>0.395622</td>\n",
              "    </tr>\n",
              "  </tbody>\n",
              "</table>\n",
              "</div>"
            ],
            "text/plain": [
              "                     Model  Traindata_score  Testdata_score      RMSE\n",
              "0        Linear regression         0.728692        0.736684  0.529725\n",
              "1    Polynomial regression         0.859975        0.851562  0.397727\n",
              "2           KNN regression         0.866026        0.758956  0.506828\n",
              "4            Decision tree         0.999540        0.725580  0.540780\n",
              "5  Decisiontree_featuresel         0.999539        0.710277  0.555654\n",
              "6          Bagging_DecTree         0.966681        0.855208  0.392812\n",
              "7         Boosting_DecTree         0.998109        0.844383  0.407231\n",
              "8     GradBoosting_DecTree         0.999539        0.710277  0.555654\n",
              "9     RandomForest_DecTree         0.923400        0.853129  0.395622"
            ]
          },
          "metadata": {
            "tags": []
          },
          "execution_count": 279
        }
      ]
    },
    {
      "cell_type": "code",
      "metadata": {
        "id": "DVtkmUn7nE4O",
        "colab_type": "code",
        "colab": {}
      },
      "source": [
        ""
      ],
      "execution_count": 0,
      "outputs": []
    }
  ]
}