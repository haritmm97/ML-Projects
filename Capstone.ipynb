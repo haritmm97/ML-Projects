{
  "nbformat": 4,
  "nbformat_minor": 0,
  "metadata": {
    "colab": {
      "name": "Capstone.ipynb",
      "provenance": [],
      "collapsed_sections": [],
      "authorship_tag": "ABX9TyMdkQDXvIZbeOF7HU5fJw2E",
      "include_colab_link": true
    },
    "kernelspec": {
      "name": "python3",
      "display_name": "Python 3"
    }
  },
  "cells": [
    {
      "cell_type": "markdown",
      "metadata": {
        "id": "view-in-github",
        "colab_type": "text"
      },
      "source": [
        "<a href=\"https://colab.research.google.com/github/haritmm97/ML-Projects-Portfolio/blob/master/Capstone.ipynb\" target=\"_parent\"><img src=\"https://colab.research.google.com/assets/colab-badge.svg\" alt=\"Open In Colab\"/></a>"
      ]
    },
    {
      "cell_type": "markdown",
      "metadata": {
        "id": "1FlByirI3ijX",
        "colab_type": "text"
      },
      "source": [
        "**Problem statement:** A house value is simply more than location and square footage. Like the features that make up a person, an educated party would want to know all aspects that give a house its value.For example, you want to sell a house and you don’t know the price which you can take — it can’t be too low or too high. To find house price you usually try to find similar properties in your neighbourhoodand based on gathered data you will try to assess your house price.\n",
        "\n",
        "**Objective:**\n",
        "Take advantage of all of the feature variables available below,use it to analyse and predict house prices.\n",
        "1.cid: a notation for a house\n",
        "2.dayhours: Date house was sold\n",
        "3.price: Price is prediction target\n",
        "4.room_bed: Number of Bedrooms/House\n",
        "5.room_bath: Number of bathrooms/bedrooms\n",
        "6.living_measure: square footage of the home\n",
        "7.lot_measure: quare footage of the lot\n",
        "8.ceil: Total floors (levels) in house\n",
        "9.coast: House which has a view to a waterfront\n",
        "10.sight: Has been viewed\n",
        "11.condition: How goodthe condition is (Overall)\n",
        "12.quality: grade given to the housing unit, based on grading system\n",
        "13.ceil_measure: square footage of house apart from basement\n",
        "14.basement_measure: square footage of the basement\n",
        "15.yr_built: Built Year\n",
        "16.yr_renovated: Year when house was renovated\n",
        "17.zipcode: zip\n",
        "18.lat: Latitude coordinate\n",
        "19.long: Longitude coordinate\n",
        "20.living_measure15: Living room area in 2015(implies--some renovations) This might or might not have affected the lotsize area\n",
        "21.lot_measure15: lotSizearea in 2015(implies--some renovations)\n",
        "22.furnished: Based on the quality of room \n",
        "23: total_area: Measure of both living and lot\n"
      ]
    },
    {
      "cell_type": "code",
      "metadata": {
        "id": "mK-DBgYtz-h5",
        "colab_type": "code",
        "outputId": "8d1c643a-cb8e-4f30-d43e-2538976015e3",
        "colab": {
          "base_uri": "https://localhost:8080/",
          "height": 34
        }
      },
      "source": [
        "from google.colab import drive\n",
        "drive.mount('/content/drive')"
      ],
      "execution_count": 42,
      "outputs": [
        {
          "output_type": "stream",
          "text": [
            "Drive already mounted at /content/drive; to attempt to forcibly remount, call drive.mount(\"/content/drive\", force_remount=True).\n"
          ],
          "name": "stdout"
        }
      ]
    },
    {
      "cell_type": "markdown",
      "metadata": {
        "id": "d_1riySu7Dhu",
        "colab_type": "text"
      },
      "source": [
        "## 1. Importing Libraries"
      ]
    },
    {
      "cell_type": "code",
      "metadata": {
        "id": "ufyPeePX7Kg7",
        "colab_type": "code",
        "colab": {}
      },
      "source": [
        "#For numerical libraries\n",
        "import numpy as np\n",
        "#To handle data in the form of rows and columns\n",
        "import pandas as pd\n",
        "#importing seaborn for statistical plots\n",
        "import seaborn as sns\n",
        "#importing ploting libraries\n",
        "import matplotlib.pyplot as plt\n",
        "#styling figures\n",
        "plt.rc('font',size=14)\n",
        "sns.set(style='white')\n",
        "sns.set(style='whitegrid',color_codes=True)\n",
        "#To enable plotting graphs in Jupyter notebook\n",
        "%matplotlib inline\n",
        "#importing the feature scaling library\n",
        "from sklearn.preprocessing import StandardScaler\n",
        "#Import Sklearn package's data splitting function which is based on random function\n",
        "from sklearn.model_selection import train_test_split\n",
        "# Import Linear Regression, Ridge and Lasso machine learning library\n",
        "from sklearn.linear_model import LinearRegression, Ridge, Lasso\n",
        "# Import KNN Regressor machine learning library\n",
        "from sklearn.neighbors import KNeighborsRegressor\n",
        "# Import Decision Tree Regressor machine learning library\n",
        "from sklearn.tree import DecisionTreeRegressor\n",
        "# Import ensemble machine learning library\n",
        "from sklearn.ensemble import (RandomForestRegressor, GradientBoostingRegressor,AdaBoostRegressor,BaggingRegressor)\n",
        "# Import support vector regressor machine learning library\n",
        "from sklearn.svm import SVR\n",
        "#Import the metrics\n",
        "from sklearn import metrics\n",
        "#Import the Voting regressor for Ensemble\n",
        "from sklearn.ensemble import VotingRegressor\n",
        "# Import stats from scipy\n",
        "from scipy import stats\n",
        "# Import zscore for scaling\n",
        "from scipy.stats import zscore\n",
        "#importing the metrics\n",
        "from sklearn.metrics import mean_squared_error,mean_absolute_error,r2_score\n",
        "#importing the K fold\n",
        "from sklearn.model_selection import KFold\n",
        "#importing the cross validation score\n",
        "from sklearn.model_selection import cross_val_score\n",
        "#importing the preprocessing library\n",
        "from sklearn import preprocessing\n",
        "# importing the Polynomial features\n",
        "from sklearn.preprocessing import PolynomialFeatures\n",
        "#importing kmeans clustering library\n",
        "from sklearn.cluster import KMeans\n",
        "from sklearn.utils import resample"
      ],
      "execution_count": 0,
      "outputs": []
    },
    {
      "cell_type": "markdown",
      "metadata": {
        "id": "qMB0Ea2-6fsg",
        "colab_type": "text"
      },
      "source": [
        "## 2. Loading Dataset"
      ]
    },
    {
      "cell_type": "code",
      "metadata": {
        "id": "nXipYJxv03MT",
        "colab_type": "code",
        "colab": {}
      },
      "source": [
        "import pandas as pd\n",
        "df = pd.read_csv(\"/content/drive/My Drive/Machine Learning/Great Learning/Capstone/innercity.csv\")"
      ],
      "execution_count": 0,
      "outputs": []
    },
    {
      "cell_type": "code",
      "metadata": {
        "id": "6xC2ANXr1c0O",
        "colab_type": "code",
        "outputId": "d71d5177-318c-42e8-994b-eba35cdca9a7",
        "colab": {
          "base_uri": "https://localhost:8080/",
          "height": 224
        }
      },
      "source": [
        "df.head()"
      ],
      "execution_count": 45,
      "outputs": [
        {
          "output_type": "execute_result",
          "data": {
            "text/html": [
              "<div>\n",
              "<style scoped>\n",
              "    .dataframe tbody tr th:only-of-type {\n",
              "        vertical-align: middle;\n",
              "    }\n",
              "\n",
              "    .dataframe tbody tr th {\n",
              "        vertical-align: top;\n",
              "    }\n",
              "\n",
              "    .dataframe thead th {\n",
              "        text-align: right;\n",
              "    }\n",
              "</style>\n",
              "<table border=\"1\" class=\"dataframe\">\n",
              "  <thead>\n",
              "    <tr style=\"text-align: right;\">\n",
              "      <th></th>\n",
              "      <th>cid</th>\n",
              "      <th>dayhours</th>\n",
              "      <th>price</th>\n",
              "      <th>room_bed</th>\n",
              "      <th>room_bath</th>\n",
              "      <th>living_measure</th>\n",
              "      <th>lot_measure</th>\n",
              "      <th>ceil</th>\n",
              "      <th>coast</th>\n",
              "      <th>sight</th>\n",
              "      <th>condition</th>\n",
              "      <th>quality</th>\n",
              "      <th>ceil_measure</th>\n",
              "      <th>basement</th>\n",
              "      <th>yr_built</th>\n",
              "      <th>yr_renovated</th>\n",
              "      <th>zipcode</th>\n",
              "      <th>lat</th>\n",
              "      <th>long</th>\n",
              "      <th>living_measure15</th>\n",
              "      <th>lot_measure15</th>\n",
              "      <th>furnished</th>\n",
              "      <th>total_area</th>\n",
              "    </tr>\n",
              "  </thead>\n",
              "  <tbody>\n",
              "    <tr>\n",
              "      <th>0</th>\n",
              "      <td>3034200666</td>\n",
              "      <td>20141107T000000</td>\n",
              "      <td>808100</td>\n",
              "      <td>4</td>\n",
              "      <td>3.25</td>\n",
              "      <td>3020</td>\n",
              "      <td>13457</td>\n",
              "      <td>1.0</td>\n",
              "      <td>0</td>\n",
              "      <td>0</td>\n",
              "      <td>5</td>\n",
              "      <td>9</td>\n",
              "      <td>3020</td>\n",
              "      <td>0</td>\n",
              "      <td>1956</td>\n",
              "      <td>0</td>\n",
              "      <td>98133</td>\n",
              "      <td>47.7174</td>\n",
              "      <td>-122.336</td>\n",
              "      <td>2120</td>\n",
              "      <td>7553</td>\n",
              "      <td>1</td>\n",
              "      <td>16477</td>\n",
              "    </tr>\n",
              "    <tr>\n",
              "      <th>1</th>\n",
              "      <td>8731981640</td>\n",
              "      <td>20141204T000000</td>\n",
              "      <td>277500</td>\n",
              "      <td>4</td>\n",
              "      <td>2.50</td>\n",
              "      <td>2550</td>\n",
              "      <td>7500</td>\n",
              "      <td>1.0</td>\n",
              "      <td>0</td>\n",
              "      <td>0</td>\n",
              "      <td>3</td>\n",
              "      <td>8</td>\n",
              "      <td>1750</td>\n",
              "      <td>800</td>\n",
              "      <td>1976</td>\n",
              "      <td>0</td>\n",
              "      <td>98023</td>\n",
              "      <td>47.3165</td>\n",
              "      <td>-122.386</td>\n",
              "      <td>2260</td>\n",
              "      <td>8800</td>\n",
              "      <td>0</td>\n",
              "      <td>10050</td>\n",
              "    </tr>\n",
              "    <tr>\n",
              "      <th>2</th>\n",
              "      <td>5104530220</td>\n",
              "      <td>20150420T000000</td>\n",
              "      <td>404000</td>\n",
              "      <td>3</td>\n",
              "      <td>2.50</td>\n",
              "      <td>2370</td>\n",
              "      <td>4324</td>\n",
              "      <td>2.0</td>\n",
              "      <td>0</td>\n",
              "      <td>0</td>\n",
              "      <td>3</td>\n",
              "      <td>8</td>\n",
              "      <td>2370</td>\n",
              "      <td>0</td>\n",
              "      <td>2006</td>\n",
              "      <td>0</td>\n",
              "      <td>98038</td>\n",
              "      <td>47.3515</td>\n",
              "      <td>-121.999</td>\n",
              "      <td>2370</td>\n",
              "      <td>4348</td>\n",
              "      <td>0</td>\n",
              "      <td>6694</td>\n",
              "    </tr>\n",
              "    <tr>\n",
              "      <th>3</th>\n",
              "      <td>6145600285</td>\n",
              "      <td>20140529T000000</td>\n",
              "      <td>300000</td>\n",
              "      <td>2</td>\n",
              "      <td>1.00</td>\n",
              "      <td>820</td>\n",
              "      <td>3844</td>\n",
              "      <td>1.0</td>\n",
              "      <td>0</td>\n",
              "      <td>0</td>\n",
              "      <td>4</td>\n",
              "      <td>6</td>\n",
              "      <td>820</td>\n",
              "      <td>0</td>\n",
              "      <td>1916</td>\n",
              "      <td>0</td>\n",
              "      <td>98133</td>\n",
              "      <td>47.7049</td>\n",
              "      <td>-122.349</td>\n",
              "      <td>1520</td>\n",
              "      <td>3844</td>\n",
              "      <td>0</td>\n",
              "      <td>4664</td>\n",
              "    </tr>\n",
              "    <tr>\n",
              "      <th>4</th>\n",
              "      <td>8924100111</td>\n",
              "      <td>20150424T000000</td>\n",
              "      <td>699000</td>\n",
              "      <td>2</td>\n",
              "      <td>1.50</td>\n",
              "      <td>1400</td>\n",
              "      <td>4050</td>\n",
              "      <td>1.0</td>\n",
              "      <td>0</td>\n",
              "      <td>0</td>\n",
              "      <td>4</td>\n",
              "      <td>8</td>\n",
              "      <td>1400</td>\n",
              "      <td>0</td>\n",
              "      <td>1954</td>\n",
              "      <td>0</td>\n",
              "      <td>98115</td>\n",
              "      <td>47.6768</td>\n",
              "      <td>-122.269</td>\n",
              "      <td>1900</td>\n",
              "      <td>5940</td>\n",
              "      <td>0</td>\n",
              "      <td>5450</td>\n",
              "    </tr>\n",
              "  </tbody>\n",
              "</table>\n",
              "</div>"
            ],
            "text/plain": [
              "          cid         dayhours   price  ...  lot_measure15  furnished  total_area\n",
              "0  3034200666  20141107T000000  808100  ...           7553          1       16477\n",
              "1  8731981640  20141204T000000  277500  ...           8800          0       10050\n",
              "2  5104530220  20150420T000000  404000  ...           4348          0        6694\n",
              "3  6145600285  20140529T000000  300000  ...           3844          0        4664\n",
              "4  8924100111  20150424T000000  699000  ...           5940          0        5450\n",
              "\n",
              "[5 rows x 23 columns]"
            ]
          },
          "metadata": {
            "tags": []
          },
          "execution_count": 45
        }
      ]
    },
    {
      "cell_type": "code",
      "metadata": {
        "id": "cU2U3A171zPb",
        "colab_type": "code",
        "outputId": "1aaf79e4-f86a-4e3b-fdb6-e501e6a0807f",
        "colab": {
          "base_uri": "https://localhost:8080/",
          "height": 224
        }
      },
      "source": [
        "df.tail()"
      ],
      "execution_count": 46,
      "outputs": [
        {
          "output_type": "execute_result",
          "data": {
            "text/html": [
              "<div>\n",
              "<style scoped>\n",
              "    .dataframe tbody tr th:only-of-type {\n",
              "        vertical-align: middle;\n",
              "    }\n",
              "\n",
              "    .dataframe tbody tr th {\n",
              "        vertical-align: top;\n",
              "    }\n",
              "\n",
              "    .dataframe thead th {\n",
              "        text-align: right;\n",
              "    }\n",
              "</style>\n",
              "<table border=\"1\" class=\"dataframe\">\n",
              "  <thead>\n",
              "    <tr style=\"text-align: right;\">\n",
              "      <th></th>\n",
              "      <th>cid</th>\n",
              "      <th>dayhours</th>\n",
              "      <th>price</th>\n",
              "      <th>room_bed</th>\n",
              "      <th>room_bath</th>\n",
              "      <th>living_measure</th>\n",
              "      <th>lot_measure</th>\n",
              "      <th>ceil</th>\n",
              "      <th>coast</th>\n",
              "      <th>sight</th>\n",
              "      <th>condition</th>\n",
              "      <th>quality</th>\n",
              "      <th>ceil_measure</th>\n",
              "      <th>basement</th>\n",
              "      <th>yr_built</th>\n",
              "      <th>yr_renovated</th>\n",
              "      <th>zipcode</th>\n",
              "      <th>lat</th>\n",
              "      <th>long</th>\n",
              "      <th>living_measure15</th>\n",
              "      <th>lot_measure15</th>\n",
              "      <th>furnished</th>\n",
              "      <th>total_area</th>\n",
              "    </tr>\n",
              "  </thead>\n",
              "  <tbody>\n",
              "    <tr>\n",
              "      <th>21608</th>\n",
              "      <td>5137800030</td>\n",
              "      <td>20140701T000000</td>\n",
              "      <td>300000</td>\n",
              "      <td>4</td>\n",
              "      <td>2.50</td>\n",
              "      <td>2303</td>\n",
              "      <td>3826</td>\n",
              "      <td>2.0</td>\n",
              "      <td>0</td>\n",
              "      <td>0</td>\n",
              "      <td>3</td>\n",
              "      <td>8</td>\n",
              "      <td>2303</td>\n",
              "      <td>0</td>\n",
              "      <td>2006</td>\n",
              "      <td>0</td>\n",
              "      <td>98092</td>\n",
              "      <td>47.3258</td>\n",
              "      <td>-122.165</td>\n",
              "      <td>2516</td>\n",
              "      <td>4500</td>\n",
              "      <td>0</td>\n",
              "      <td>6129</td>\n",
              "    </tr>\n",
              "    <tr>\n",
              "      <th>21609</th>\n",
              "      <td>8562890910</td>\n",
              "      <td>20140619T000000</td>\n",
              "      <td>320000</td>\n",
              "      <td>4</td>\n",
              "      <td>2.50</td>\n",
              "      <td>3490</td>\n",
              "      <td>5000</td>\n",
              "      <td>2.0</td>\n",
              "      <td>0</td>\n",
              "      <td>0</td>\n",
              "      <td>3</td>\n",
              "      <td>8</td>\n",
              "      <td>3490</td>\n",
              "      <td>0</td>\n",
              "      <td>2003</td>\n",
              "      <td>0</td>\n",
              "      <td>98042</td>\n",
              "      <td>47.3772</td>\n",
              "      <td>-122.127</td>\n",
              "      <td>2910</td>\n",
              "      <td>5025</td>\n",
              "      <td>0</td>\n",
              "      <td>8490</td>\n",
              "    </tr>\n",
              "    <tr>\n",
              "      <th>21610</th>\n",
              "      <td>1442880160</td>\n",
              "      <td>20140627T000000</td>\n",
              "      <td>483453</td>\n",
              "      <td>4</td>\n",
              "      <td>2.75</td>\n",
              "      <td>2790</td>\n",
              "      <td>5527</td>\n",
              "      <td>2.0</td>\n",
              "      <td>0</td>\n",
              "      <td>0</td>\n",
              "      <td>3</td>\n",
              "      <td>8</td>\n",
              "      <td>2790</td>\n",
              "      <td>0</td>\n",
              "      <td>2014</td>\n",
              "      <td>0</td>\n",
              "      <td>98045</td>\n",
              "      <td>47.4827</td>\n",
              "      <td>-121.773</td>\n",
              "      <td>2620</td>\n",
              "      <td>5509</td>\n",
              "      <td>0</td>\n",
              "      <td>8317</td>\n",
              "    </tr>\n",
              "    <tr>\n",
              "      <th>21611</th>\n",
              "      <td>622100130</td>\n",
              "      <td>20140917T000000</td>\n",
              "      <td>365000</td>\n",
              "      <td>2</td>\n",
              "      <td>2.00</td>\n",
              "      <td>1440</td>\n",
              "      <td>15000</td>\n",
              "      <td>1.0</td>\n",
              "      <td>0</td>\n",
              "      <td>0</td>\n",
              "      <td>3</td>\n",
              "      <td>7</td>\n",
              "      <td>1440</td>\n",
              "      <td>0</td>\n",
              "      <td>1985</td>\n",
              "      <td>0</td>\n",
              "      <td>98072</td>\n",
              "      <td>47.7648</td>\n",
              "      <td>-122.159</td>\n",
              "      <td>1780</td>\n",
              "      <td>15000</td>\n",
              "      <td>0</td>\n",
              "      <td>16440</td>\n",
              "    </tr>\n",
              "    <tr>\n",
              "      <th>21612</th>\n",
              "      <td>6413600276</td>\n",
              "      <td>20150324T000000</td>\n",
              "      <td>354950</td>\n",
              "      <td>3</td>\n",
              "      <td>1.00</td>\n",
              "      <td>970</td>\n",
              "      <td>5922</td>\n",
              "      <td>1.5</td>\n",
              "      <td>0</td>\n",
              "      <td>0</td>\n",
              "      <td>3</td>\n",
              "      <td>7</td>\n",
              "      <td>970</td>\n",
              "      <td>0</td>\n",
              "      <td>1949</td>\n",
              "      <td>0</td>\n",
              "      <td>98125</td>\n",
              "      <td>47.7190</td>\n",
              "      <td>-122.321</td>\n",
              "      <td>1730</td>\n",
              "      <td>6128</td>\n",
              "      <td>0</td>\n",
              "      <td>6892</td>\n",
              "    </tr>\n",
              "  </tbody>\n",
              "</table>\n",
              "</div>"
            ],
            "text/plain": [
              "              cid         dayhours  ...  furnished  total_area\n",
              "21608  5137800030  20140701T000000  ...          0        6129\n",
              "21609  8562890910  20140619T000000  ...          0        8490\n",
              "21610  1442880160  20140627T000000  ...          0        8317\n",
              "21611   622100130  20140917T000000  ...          0       16440\n",
              "21612  6413600276  20150324T000000  ...          0        6892\n",
              "\n",
              "[5 rows x 23 columns]"
            ]
          },
          "metadata": {
            "tags": []
          },
          "execution_count": 46
        }
      ]
    },
    {
      "cell_type": "markdown",
      "metadata": {
        "id": "XHvy6lFnaklL",
        "colab_type": "text"
      },
      "source": [
        "## 3. Exploratory Data Analysis"
      ]
    },
    {
      "cell_type": "code",
      "metadata": {
        "id": "NirzkqjD7cBa",
        "colab_type": "code",
        "colab": {
          "base_uri": "https://localhost:8080/",
          "height": 731
        },
        "outputId": "b8619537-6921-4f68-d73e-66d2c3f02c0c"
      },
      "source": [
        "df.describe().T"
      ],
      "execution_count": 47,
      "outputs": [
        {
          "output_type": "execute_result",
          "data": {
            "text/html": [
              "<div>\n",
              "<style scoped>\n",
              "    .dataframe tbody tr th:only-of-type {\n",
              "        vertical-align: middle;\n",
              "    }\n",
              "\n",
              "    .dataframe tbody tr th {\n",
              "        vertical-align: top;\n",
              "    }\n",
              "\n",
              "    .dataframe thead th {\n",
              "        text-align: right;\n",
              "    }\n",
              "</style>\n",
              "<table border=\"1\" class=\"dataframe\">\n",
              "  <thead>\n",
              "    <tr style=\"text-align: right;\">\n",
              "      <th></th>\n",
              "      <th>count</th>\n",
              "      <th>mean</th>\n",
              "      <th>std</th>\n",
              "      <th>min</th>\n",
              "      <th>25%</th>\n",
              "      <th>50%</th>\n",
              "      <th>75%</th>\n",
              "      <th>max</th>\n",
              "    </tr>\n",
              "  </thead>\n",
              "  <tbody>\n",
              "    <tr>\n",
              "      <th>cid</th>\n",
              "      <td>21613.0</td>\n",
              "      <td>4.580302e+09</td>\n",
              "      <td>2.876566e+09</td>\n",
              "      <td>1.000102e+06</td>\n",
              "      <td>2.123049e+09</td>\n",
              "      <td>3.904930e+09</td>\n",
              "      <td>7.308900e+09</td>\n",
              "      <td>9.900000e+09</td>\n",
              "    </tr>\n",
              "    <tr>\n",
              "      <th>price</th>\n",
              "      <td>21613.0</td>\n",
              "      <td>5.401822e+05</td>\n",
              "      <td>3.673622e+05</td>\n",
              "      <td>7.500000e+04</td>\n",
              "      <td>3.219500e+05</td>\n",
              "      <td>4.500000e+05</td>\n",
              "      <td>6.450000e+05</td>\n",
              "      <td>7.700000e+06</td>\n",
              "    </tr>\n",
              "    <tr>\n",
              "      <th>room_bed</th>\n",
              "      <td>21613.0</td>\n",
              "      <td>3.370842e+00</td>\n",
              "      <td>9.300618e-01</td>\n",
              "      <td>0.000000e+00</td>\n",
              "      <td>3.000000e+00</td>\n",
              "      <td>3.000000e+00</td>\n",
              "      <td>4.000000e+00</td>\n",
              "      <td>3.300000e+01</td>\n",
              "    </tr>\n",
              "    <tr>\n",
              "      <th>room_bath</th>\n",
              "      <td>21613.0</td>\n",
              "      <td>2.114757e+00</td>\n",
              "      <td>7.701632e-01</td>\n",
              "      <td>0.000000e+00</td>\n",
              "      <td>1.750000e+00</td>\n",
              "      <td>2.250000e+00</td>\n",
              "      <td>2.500000e+00</td>\n",
              "      <td>8.000000e+00</td>\n",
              "    </tr>\n",
              "    <tr>\n",
              "      <th>living_measure</th>\n",
              "      <td>21613.0</td>\n",
              "      <td>2.079900e+03</td>\n",
              "      <td>9.184409e+02</td>\n",
              "      <td>2.900000e+02</td>\n",
              "      <td>1.427000e+03</td>\n",
              "      <td>1.910000e+03</td>\n",
              "      <td>2.550000e+03</td>\n",
              "      <td>1.354000e+04</td>\n",
              "    </tr>\n",
              "    <tr>\n",
              "      <th>lot_measure</th>\n",
              "      <td>21613.0</td>\n",
              "      <td>1.510697e+04</td>\n",
              "      <td>4.142051e+04</td>\n",
              "      <td>5.200000e+02</td>\n",
              "      <td>5.040000e+03</td>\n",
              "      <td>7.618000e+03</td>\n",
              "      <td>1.068800e+04</td>\n",
              "      <td>1.651359e+06</td>\n",
              "    </tr>\n",
              "    <tr>\n",
              "      <th>ceil</th>\n",
              "      <td>21613.0</td>\n",
              "      <td>1.494309e+00</td>\n",
              "      <td>5.399889e-01</td>\n",
              "      <td>1.000000e+00</td>\n",
              "      <td>1.000000e+00</td>\n",
              "      <td>1.500000e+00</td>\n",
              "      <td>2.000000e+00</td>\n",
              "      <td>3.500000e+00</td>\n",
              "    </tr>\n",
              "    <tr>\n",
              "      <th>coast</th>\n",
              "      <td>21613.0</td>\n",
              "      <td>7.541757e-03</td>\n",
              "      <td>8.651720e-02</td>\n",
              "      <td>0.000000e+00</td>\n",
              "      <td>0.000000e+00</td>\n",
              "      <td>0.000000e+00</td>\n",
              "      <td>0.000000e+00</td>\n",
              "      <td>1.000000e+00</td>\n",
              "    </tr>\n",
              "    <tr>\n",
              "      <th>sight</th>\n",
              "      <td>21613.0</td>\n",
              "      <td>2.343034e-01</td>\n",
              "      <td>7.663176e-01</td>\n",
              "      <td>0.000000e+00</td>\n",
              "      <td>0.000000e+00</td>\n",
              "      <td>0.000000e+00</td>\n",
              "      <td>0.000000e+00</td>\n",
              "      <td>4.000000e+00</td>\n",
              "    </tr>\n",
              "    <tr>\n",
              "      <th>condition</th>\n",
              "      <td>21613.0</td>\n",
              "      <td>3.409430e+00</td>\n",
              "      <td>6.507430e-01</td>\n",
              "      <td>1.000000e+00</td>\n",
              "      <td>3.000000e+00</td>\n",
              "      <td>3.000000e+00</td>\n",
              "      <td>4.000000e+00</td>\n",
              "      <td>5.000000e+00</td>\n",
              "    </tr>\n",
              "    <tr>\n",
              "      <th>quality</th>\n",
              "      <td>21613.0</td>\n",
              "      <td>7.656873e+00</td>\n",
              "      <td>1.175459e+00</td>\n",
              "      <td>1.000000e+00</td>\n",
              "      <td>7.000000e+00</td>\n",
              "      <td>7.000000e+00</td>\n",
              "      <td>8.000000e+00</td>\n",
              "      <td>1.300000e+01</td>\n",
              "    </tr>\n",
              "    <tr>\n",
              "      <th>ceil_measure</th>\n",
              "      <td>21613.0</td>\n",
              "      <td>1.788391e+03</td>\n",
              "      <td>8.280910e+02</td>\n",
              "      <td>2.900000e+02</td>\n",
              "      <td>1.190000e+03</td>\n",
              "      <td>1.560000e+03</td>\n",
              "      <td>2.210000e+03</td>\n",
              "      <td>9.410000e+03</td>\n",
              "    </tr>\n",
              "    <tr>\n",
              "      <th>basement</th>\n",
              "      <td>21613.0</td>\n",
              "      <td>2.915090e+02</td>\n",
              "      <td>4.425750e+02</td>\n",
              "      <td>0.000000e+00</td>\n",
              "      <td>0.000000e+00</td>\n",
              "      <td>0.000000e+00</td>\n",
              "      <td>5.600000e+02</td>\n",
              "      <td>4.820000e+03</td>\n",
              "    </tr>\n",
              "    <tr>\n",
              "      <th>yr_built</th>\n",
              "      <td>21613.0</td>\n",
              "      <td>1.971005e+03</td>\n",
              "      <td>2.937341e+01</td>\n",
              "      <td>1.900000e+03</td>\n",
              "      <td>1.951000e+03</td>\n",
              "      <td>1.975000e+03</td>\n",
              "      <td>1.997000e+03</td>\n",
              "      <td>2.015000e+03</td>\n",
              "    </tr>\n",
              "    <tr>\n",
              "      <th>yr_renovated</th>\n",
              "      <td>21613.0</td>\n",
              "      <td>8.440226e+01</td>\n",
              "      <td>4.016792e+02</td>\n",
              "      <td>0.000000e+00</td>\n",
              "      <td>0.000000e+00</td>\n",
              "      <td>0.000000e+00</td>\n",
              "      <td>0.000000e+00</td>\n",
              "      <td>2.015000e+03</td>\n",
              "    </tr>\n",
              "    <tr>\n",
              "      <th>zipcode</th>\n",
              "      <td>21613.0</td>\n",
              "      <td>9.807794e+04</td>\n",
              "      <td>5.350503e+01</td>\n",
              "      <td>9.800100e+04</td>\n",
              "      <td>9.803300e+04</td>\n",
              "      <td>9.806500e+04</td>\n",
              "      <td>9.811800e+04</td>\n",
              "      <td>9.819900e+04</td>\n",
              "    </tr>\n",
              "    <tr>\n",
              "      <th>lat</th>\n",
              "      <td>21613.0</td>\n",
              "      <td>4.756005e+01</td>\n",
              "      <td>1.385637e-01</td>\n",
              "      <td>4.715590e+01</td>\n",
              "      <td>4.747100e+01</td>\n",
              "      <td>4.757180e+01</td>\n",
              "      <td>4.767800e+01</td>\n",
              "      <td>4.777760e+01</td>\n",
              "    </tr>\n",
              "    <tr>\n",
              "      <th>long</th>\n",
              "      <td>21613.0</td>\n",
              "      <td>-1.222139e+02</td>\n",
              "      <td>1.408283e-01</td>\n",
              "      <td>-1.225190e+02</td>\n",
              "      <td>-1.223280e+02</td>\n",
              "      <td>-1.222300e+02</td>\n",
              "      <td>-1.221250e+02</td>\n",
              "      <td>-1.213150e+02</td>\n",
              "    </tr>\n",
              "    <tr>\n",
              "      <th>living_measure15</th>\n",
              "      <td>21613.0</td>\n",
              "      <td>1.986552e+03</td>\n",
              "      <td>6.853913e+02</td>\n",
              "      <td>3.990000e+02</td>\n",
              "      <td>1.490000e+03</td>\n",
              "      <td>1.840000e+03</td>\n",
              "      <td>2.360000e+03</td>\n",
              "      <td>6.210000e+03</td>\n",
              "    </tr>\n",
              "    <tr>\n",
              "      <th>lot_measure15</th>\n",
              "      <td>21613.0</td>\n",
              "      <td>1.276846e+04</td>\n",
              "      <td>2.730418e+04</td>\n",
              "      <td>6.510000e+02</td>\n",
              "      <td>5.100000e+03</td>\n",
              "      <td>7.620000e+03</td>\n",
              "      <td>1.008300e+04</td>\n",
              "      <td>8.712000e+05</td>\n",
              "    </tr>\n",
              "    <tr>\n",
              "      <th>furnished</th>\n",
              "      <td>21613.0</td>\n",
              "      <td>1.966872e-01</td>\n",
              "      <td>3.975030e-01</td>\n",
              "      <td>0.000000e+00</td>\n",
              "      <td>0.000000e+00</td>\n",
              "      <td>0.000000e+00</td>\n",
              "      <td>0.000000e+00</td>\n",
              "      <td>1.000000e+00</td>\n",
              "    </tr>\n",
              "    <tr>\n",
              "      <th>total_area</th>\n",
              "      <td>21613.0</td>\n",
              "      <td>1.718687e+04</td>\n",
              "      <td>4.158908e+04</td>\n",
              "      <td>1.423000e+03</td>\n",
              "      <td>7.035000e+03</td>\n",
              "      <td>9.575000e+03</td>\n",
              "      <td>1.300000e+04</td>\n",
              "      <td>1.652659e+06</td>\n",
              "    </tr>\n",
              "  </tbody>\n",
              "</table>\n",
              "</div>"
            ],
            "text/plain": [
              "                    count          mean  ...           75%           max\n",
              "cid               21613.0  4.580302e+09  ...  7.308900e+09  9.900000e+09\n",
              "price             21613.0  5.401822e+05  ...  6.450000e+05  7.700000e+06\n",
              "room_bed          21613.0  3.370842e+00  ...  4.000000e+00  3.300000e+01\n",
              "room_bath         21613.0  2.114757e+00  ...  2.500000e+00  8.000000e+00\n",
              "living_measure    21613.0  2.079900e+03  ...  2.550000e+03  1.354000e+04\n",
              "lot_measure       21613.0  1.510697e+04  ...  1.068800e+04  1.651359e+06\n",
              "ceil              21613.0  1.494309e+00  ...  2.000000e+00  3.500000e+00\n",
              "coast             21613.0  7.541757e-03  ...  0.000000e+00  1.000000e+00\n",
              "sight             21613.0  2.343034e-01  ...  0.000000e+00  4.000000e+00\n",
              "condition         21613.0  3.409430e+00  ...  4.000000e+00  5.000000e+00\n",
              "quality           21613.0  7.656873e+00  ...  8.000000e+00  1.300000e+01\n",
              "ceil_measure      21613.0  1.788391e+03  ...  2.210000e+03  9.410000e+03\n",
              "basement          21613.0  2.915090e+02  ...  5.600000e+02  4.820000e+03\n",
              "yr_built          21613.0  1.971005e+03  ...  1.997000e+03  2.015000e+03\n",
              "yr_renovated      21613.0  8.440226e+01  ...  0.000000e+00  2.015000e+03\n",
              "zipcode           21613.0  9.807794e+04  ...  9.811800e+04  9.819900e+04\n",
              "lat               21613.0  4.756005e+01  ...  4.767800e+01  4.777760e+01\n",
              "long              21613.0 -1.222139e+02  ... -1.221250e+02 -1.213150e+02\n",
              "living_measure15  21613.0  1.986552e+03  ...  2.360000e+03  6.210000e+03\n",
              "lot_measure15     21613.0  1.276846e+04  ...  1.008300e+04  8.712000e+05\n",
              "furnished         21613.0  1.966872e-01  ...  0.000000e+00  1.000000e+00\n",
              "total_area        21613.0  1.718687e+04  ...  1.300000e+04  1.652659e+06\n",
              "\n",
              "[22 rows x 8 columns]"
            ]
          },
          "metadata": {
            "tags": []
          },
          "execution_count": 47
        }
      ]
    },
    {
      "cell_type": "code",
      "metadata": {
        "id": "SrvZML7jkuWm",
        "colab_type": "code",
        "colab": {
          "base_uri": "https://localhost:8080/",
          "height": 493
        },
        "outputId": "1480a6c7-aeea-48eb-f321-7021fe493f89"
      },
      "source": [
        "df.info()"
      ],
      "execution_count": 48,
      "outputs": [
        {
          "output_type": "stream",
          "text": [
            "<class 'pandas.core.frame.DataFrame'>\n",
            "RangeIndex: 21613 entries, 0 to 21612\n",
            "Data columns (total 23 columns):\n",
            "cid                 21613 non-null int64\n",
            "dayhours            21613 non-null object\n",
            "price               21613 non-null int64\n",
            "room_bed            21613 non-null int64\n",
            "room_bath           21613 non-null float64\n",
            "living_measure      21613 non-null int64\n",
            "lot_measure         21613 non-null int64\n",
            "ceil                21613 non-null float64\n",
            "coast               21613 non-null int64\n",
            "sight               21613 non-null int64\n",
            "condition           21613 non-null int64\n",
            "quality             21613 non-null int64\n",
            "ceil_measure        21613 non-null int64\n",
            "basement            21613 non-null int64\n",
            "yr_built            21613 non-null int64\n",
            "yr_renovated        21613 non-null int64\n",
            "zipcode             21613 non-null int64\n",
            "lat                 21613 non-null float64\n",
            "long                21613 non-null float64\n",
            "living_measure15    21613 non-null int64\n",
            "lot_measure15       21613 non-null int64\n",
            "furnished           21613 non-null int64\n",
            "total_area          21613 non-null int64\n",
            "dtypes: float64(4), int64(18), object(1)\n",
            "memory usage: 3.8+ MB\n"
          ],
          "name": "stdout"
        }
      ]
    },
    {
      "cell_type": "markdown",
      "metadata": {
        "id": "1PGaRUqRePkZ",
        "colab_type": "text"
      },
      "source": [
        "#### 3.1 Analysis on price variable: the variable we're trying to predict"
      ]
    },
    {
      "cell_type": "code",
      "metadata": {
        "id": "WzKVI5Nxatbj",
        "colab_type": "code",
        "colab": {
          "base_uri": "https://localhost:8080/",
          "height": 464
        },
        "outputId": "ab61c189-505d-449c-8b3c-3c89e2080357"
      },
      "source": [
        "sns.set_style(\"white\")\n",
        "sns.set_color_codes(palette='deep')\n",
        "f, ax = plt.subplots(figsize=(8, 7))\n",
        "#Check the new distribution \n",
        "sns.distplot(df['price'], color=\"b\");\n",
        "ax.xaxis.grid(False)\n",
        "ax.set(ylabel=\"Frequency\")\n",
        "ax.set(xlabel=\"Price\")\n",
        "ax.set(title=\"Price distribution\")\n",
        "sns.despine(trim=True, left=True)\n",
        "plt.show()"
      ],
      "execution_count": 49,
      "outputs": [
        {
          "output_type": "display_data",
          "data": {
            "image/png": "[encoded data removed]",
            "text/plain": [
              "<Figure size 576x504 with 1 Axes>"
            ]
          },
          "metadata": {
            "tags": []
          }
        }
      ]
    },
    {
      "cell_type": "code",
      "metadata": {
        "id": "uYlxbFd3fLPw",
        "colab_type": "code",
        "colab": {
          "base_uri": "https://localhost:8080/",
          "height": 51
        },
        "outputId": "7b7e39c4-801d-4f1f-8590-d0fafbb61139"
      },
      "source": [
        "# Skew and kurt\n",
        "print(\"Skewness: %f\" % df['price'].skew())\n",
        "print(\"Kurtosis: %f\" % df['price'].kurt())"
      ],
      "execution_count": 50,
      "outputs": [
        {
          "output_type": "stream",
          "text": [
            "Skewness: 4.021716\n",
            "Kurtosis: 34.522444\n"
          ],
          "name": "stdout"
        }
      ]
    },
    {
      "cell_type": "markdown",
      "metadata": {
        "id": "HxeyAgnEferO",
        "colab_type": "text"
      },
      "source": [
        "Skewness values is more than 1, indicates data is skewed.\n",
        "Kurtosis value is very high.\n",
        "\n",
        "This indicates the data is not normally distributed"
      ]
    },
    {
      "cell_type": "code",
      "metadata": {
        "id": "7z831-rIg_ix",
        "colab_type": "code",
        "colab": {
          "base_uri": "https://localhost:8080/",
          "height": 119
        },
        "outputId": "677413a2-c324-4f67-916f-2abc78e64dd4"
      },
      "source": [
        "print('Minimum price: ', df['price'].min())\n",
        "print('Maximum price: ',df['price'].max())\n",
        "print('Mean value: ', df['price'].mean())\n",
        "print('Median value: ',df['price'].median())\n",
        "print('Standard deviation: ', df['price'].std())\n",
        "print('Range of values: ', df['price'].max()-df['price'].min())"
      ],
      "execution_count": 51,
      "outputs": [
        {
          "output_type": "stream",
          "text": [
            "Minimum price:  75000\n",
            "Maximum price:  7700000\n",
            "Mean value:  540182.1587933188\n",
            "Median value:  450000.0\n",
            "Standard deviation:  367362.2317180104\n",
            "Range of values:  7625000\n"
          ],
          "name": "stdout"
        }
      ]
    },
    {
      "cell_type": "code",
      "metadata": {
        "id": "lQ7iQx_Eh5WT",
        "colab_type": "code",
        "colab": {
          "base_uri": "https://localhost:8080/",
          "height": 68
        },
        "outputId": "9117815d-30aa-4afa-f6f6-028518a601e0"
      },
      "source": [
        "Q1=df['price'].quantile(q=0.25)\n",
        "Q3=df['price'].quantile(q=0.75)\n",
        "print('1st Quartile (Q1) is: ', Q1)\n",
        "print('3st Quartile (Q3) is: ', Q3)\n",
        "print('Interquartile range (IQR) is ', stats.iqr(df['price']))"
      ],
      "execution_count": 52,
      "outputs": [
        {
          "output_type": "stream",
          "text": [
            "1st Quartile (Q1) is:  321950.0\n",
            "3st Quartile (Q3) is:  645000.0\n",
            "Interquartile range (IQR) is  323050.0\n"
          ],
          "name": "stdout"
        }
      ]
    },
    {
      "cell_type": "code",
      "metadata": {
        "id": "QhWL_loSiTwb",
        "colab_type": "code",
        "colab": {
          "base_uri": "https://localhost:8080/",
          "height": 51
        },
        "outputId": "ba1d7c6e-5d55-43f0-db6a-eda614825ce2"
      },
      "source": [
        "# IQR=Q3-Q1\n",
        "#lower 1.5*IQR whisker i.e Q1-1.5*IQR\n",
        "#upper 1.5*IQR whisker i.e Q3+1.5*IQR\n",
        "L_outliers=Q1-1.5*(Q3-Q1)\n",
        "U_outliers=Q3+1.5*(Q3-Q1)\n",
        "print('Lower outliers: ', L_outliers)\n",
        "print('Upper outliers: ', U_outliers)"
      ],
      "execution_count": 53,
      "outputs": [
        {
          "output_type": "stream",
          "text": [
            "Lower outliers:  -162625.0\n",
            "Upper outliers:  1129575.0\n"
          ],
          "name": "stdout"
        }
      ]
    },
    {
      "cell_type": "code",
      "metadata": {
        "id": "pdcP_kSEihOd",
        "colab_type": "code",
        "colab": {
          "base_uri": "https://localhost:8080/",
          "height": 85
        },
        "outputId": "d324945f-59ab-482c-e2cc-06f099134495"
      },
      "source": [
        "print('Number of outliers in price upper : ', df[df['price']>1129575.0]['price'].count())\n",
        "print('Number of outliers in price lower : ', df[df['price']<-162625.0]['price'].count())\n",
        "print('% of Outlier in price upper: ',round(df[df['price']>1129575.0]['price'].count()*100/len(df)), '%')\n",
        "print('% of Outlier in price lower: ',round(df[df['price']<-162625.0]['price'].count()*100/len(df)), '%')"
      ],
      "execution_count": 54,
      "outputs": [
        {
          "output_type": "stream",
          "text": [
            "Number of outliers in price upper :  1159\n",
            "Number of outliers in price lower :  0\n",
            "% of Outlier in price upper:  5.0 %\n",
            "% of Outlier in price lower:  0.0 %\n"
          ],
          "name": "stdout"
        }
      ]
    },
    {
      "cell_type": "code",
      "metadata": {
        "id": "hvW4-SF_jeRl",
        "colab_type": "code",
        "colab": {
          "base_uri": "https://localhost:8080/",
          "height": 276
        },
        "outputId": "0d90964d-b05f-416f-eb28-a87e8a5c373c"
      },
      "source": [
        "#boxplot of price variable\n",
        "sns.boxplot(x='price',data=df,orient='v')"
      ],
      "execution_count": 55,
      "outputs": [
        {
          "output_type": "execute_result",
          "data": {
            "text/plain": [
              "<matplotlib.axes._subplots.AxesSubplot at 0x7f8487171940>"
            ]
          },
          "metadata": {
            "tags": []
          },
          "execution_count": 55
        },
        {
          "output_type": "display_data",
          "data": {
            "image/png": "[encoded data removed]",
            "text/plain": [
              "<Figure size 432x288 with 1 Axes>"
            ]
          },
          "metadata": {
            "tags": []
          }
        }
      ]
    },
    {
      "cell_type": "code",
      "metadata": {
        "id": "Qv2wARe5jzUy",
        "colab_type": "code",
        "colab": {
          "base_uri": "https://localhost:8080/",
          "height": 493
        },
        "outputId": "9250d5bb-ffe1-42d5-c7e1-8533b462b0b6"
      },
      "source": [
        "df['coast'] = pd.Categorical(df.coast)\n",
        "df['sight'] = pd.Categorical(df.sight)\n",
        "df['quality'] = pd.Categorical(df.quality)\n",
        "df['furnished'] = pd.Categorical(df.furnished)\n",
        "df.info()"
      ],
      "execution_count": 56,
      "outputs": [
        {
          "output_type": "stream",
          "text": [
            "<class 'pandas.core.frame.DataFrame'>\n",
            "RangeIndex: 21613 entries, 0 to 21612\n",
            "Data columns (total 23 columns):\n",
            "cid                 21613 non-null int64\n",
            "dayhours            21613 non-null object\n",
            "price               21613 non-null int64\n",
            "room_bed            21613 non-null int64\n",
            "room_bath           21613 non-null float64\n",
            "living_measure      21613 non-null int64\n",
            "lot_measure         21613 non-null int64\n",
            "ceil                21613 non-null float64\n",
            "coast               21613 non-null category\n",
            "sight               21613 non-null category\n",
            "condition           21613 non-null int64\n",
            "quality             21613 non-null category\n",
            "ceil_measure        21613 non-null int64\n",
            "basement            21613 non-null int64\n",
            "yr_built            21613 non-null int64\n",
            "yr_renovated        21613 non-null int64\n",
            "zipcode             21613 non-null int64\n",
            "lat                 21613 non-null float64\n",
            "long                21613 non-null float64\n",
            "living_measure15    21613 non-null int64\n",
            "lot_measure15       21613 non-null int64\n",
            "furnished           21613 non-null category\n",
            "total_area          21613 non-null int64\n",
            "dtypes: category(4), float64(4), int64(14), object(1)\n",
            "memory usage: 3.2+ MB\n"
          ],
          "name": "stdout"
        }
      ]
    },
    {
      "cell_type": "code",
      "metadata": {
        "id": "eiDO00DWsfYz",
        "colab_type": "code",
        "colab": {
          "base_uri": "https://localhost:8080/",
          "height": 221
        },
        "outputId": "84ad290c-280c-42f5-f023-87104b00e5cd"
      },
      "source": [
        "df['dayhours'].value_counts()"
      ],
      "execution_count": 57,
      "outputs": [
        {
          "output_type": "execute_result",
          "data": {
            "text/plain": [
              "20140623T000000    142\n",
              "20140625T000000    131\n",
              "20140626T000000    131\n",
              "20140708T000000    127\n",
              "20150427T000000    126\n",
              "                  ... \n",
              "20140803T000000      1\n",
              "20150308T000000      1\n",
              "20150131T000000      1\n",
              "20140830T000000      1\n",
              "20150524T000000      1\n",
              "Name: dayhours, Length: 372, dtype: int64"
            ]
          },
          "metadata": {
            "tags": []
          },
          "execution_count": 57
        }
      ]
    },
    {
      "cell_type": "code",
      "metadata": {
        "id": "NRvYXk-PtQsX",
        "colab_type": "code",
        "colab": {
          "base_uri": "https://localhost:8080/",
          "height": 255
        },
        "outputId": "14d1980d-42d5-4894-940b-57083be39e65"
      },
      "source": [
        "df['room_bed'].value_counts()"
      ],
      "execution_count": 58,
      "outputs": [
        {
          "output_type": "execute_result",
          "data": {
            "text/plain": [
              "3     9824\n",
              "4     6882\n",
              "2     2760\n",
              "5     1601\n",
              "6      272\n",
              "1      199\n",
              "7       38\n",
              "8       13\n",
              "0       13\n",
              "9        6\n",
              "10       3\n",
              "11       1\n",
              "33       1\n",
              "Name: room_bed, dtype: int64"
            ]
          },
          "metadata": {
            "tags": []
          },
          "execution_count": 58
        }
      ]
    },
    {
      "cell_type": "code",
      "metadata": {
        "id": "qm9wXMckw_Uz",
        "colab_type": "code",
        "colab": {
          "base_uri": "https://localhost:8080/",
          "height": 513
        },
        "outputId": "02cab97a-6b19-407b-a294-4a65475a9614"
      },
      "source": [
        "data = pd.concat([df['price'], df['room_bed']], axis=1)\n",
        "f, ax = plt.subplots(figsize=(15, 8))\n",
        "fig = sns.boxplot(x=df['room_bed'], y=\"price\", data=data)\n",
        "fig.axis(ymin=0, ymax=8000000);"
      ],
      "execution_count": 59,
      "outputs": [
        {
          "output_type": "display_data",
          "data": {
            "image/png": "[encoded data removed]",
            "text/plain": [
              "<Figure size 1080x576 with 1 Axes>"
            ]
          },
          "metadata": {
            "tags": []
          }
        }
      ]
    },
    {
      "cell_type": "code",
      "metadata": {
        "id": "K3CX9IEVtiEJ",
        "colab_type": "code",
        "colab": {
          "base_uri": "https://localhost:8080/",
          "height": 544
        },
        "outputId": "d5f513e8-c548-489d-88b5-ae65cc6ba08a"
      },
      "source": [
        "df['room_bath'].value_counts()"
      ],
      "execution_count": 60,
      "outputs": [
        {
          "output_type": "execute_result",
          "data": {
            "text/plain": [
              "2.50    5380\n",
              "1.00    3852\n",
              "1.75    3048\n",
              "2.25    2047\n",
              "2.00    1930\n",
              "1.50    1446\n",
              "2.75    1185\n",
              "3.00     753\n",
              "3.50     731\n",
              "3.25     589\n",
              "3.75     155\n",
              "4.00     136\n",
              "4.50     100\n",
              "4.25      79\n",
              "0.75      72\n",
              "4.75      23\n",
              "5.00      21\n",
              "5.25      13\n",
              "5.50      10\n",
              "0.00      10\n",
              "1.25       9\n",
              "6.00       6\n",
              "5.75       4\n",
              "0.50       4\n",
              "6.25       2\n",
              "8.00       2\n",
              "6.75       2\n",
              "6.50       2\n",
              "7.50       1\n",
              "7.75       1\n",
              "Name: room_bath, dtype: int64"
            ]
          },
          "metadata": {
            "tags": []
          },
          "execution_count": 60
        }
      ]
    },
    {
      "cell_type": "code",
      "metadata": {
        "id": "V4IxzFcE31ib",
        "colab_type": "code",
        "colab": {
          "base_uri": "https://localhost:8080/",
          "height": 513
        },
        "outputId": "31250b95-14b0-46c4-e9b5-0dddd37ba122"
      },
      "source": [
        "data = pd.concat([df['price'], df['room_bath']], axis=1)\n",
        "f, ax = plt.subplots(figsize=(15, 8))\n",
        "fig = sns.boxplot(x=df['room_bath'], y=\"price\", data=data)\n",
        "fig.axis(ymin=0, ymax=8000000);"
      ],
      "execution_count": 66,
      "outputs": [
        {
          "output_type": "display_data",
          "data": {
            "image/png": "[encoded data removed]",
            "text/plain": [
              "<Figure size 1080x576 with 1 Axes>"
            ]
          },
          "metadata": {
            "tags": []
          }
        }
      ]
    },
    {
      "cell_type": "code",
      "metadata": {
        "id": "53wzhUX3tqsb",
        "colab_type": "code",
        "colab": {
          "base_uri": "https://localhost:8080/",
          "height": 68
        },
        "outputId": "d6e7b8d3-80a0-4fe1-a24b-e9dddb65be82"
      },
      "source": [
        "df['coast'].value_counts()"
      ],
      "execution_count": 61,
      "outputs": [
        {
          "output_type": "execute_result",
          "data": {
            "text/plain": [
              "0    21450\n",
              "1      163\n",
              "Name: coast, dtype: int64"
            ]
          },
          "metadata": {
            "tags": []
          },
          "execution_count": 61
        }
      ]
    },
    {
      "cell_type": "code",
      "metadata": {
        "id": "QHUyYWDr4CYC",
        "colab_type": "code",
        "colab": {
          "base_uri": "https://localhost:8080/",
          "height": 513
        },
        "outputId": "7ac0b02a-0946-4e4a-900f-b761d2ab4ee0"
      },
      "source": [
        "data = pd.concat([df['price'], df['coast']], axis=1)\n",
        "f, ax = plt.subplots(figsize=(15, 8))\n",
        "fig = sns.boxplot(x=df['coast'], y=\"price\", data=data)\n",
        "fig.axis(ymin=0, ymax=8000000);"
      ],
      "execution_count": 67,
      "outputs": [
        {
          "output_type": "display_data",
          "data": {
            "image/png": "[encoded data removed]",
            "text/plain": [
              "<Figure size 1080x576 with 1 Axes>"
            ]
          },
          "metadata": {
            "tags": []
          }
        }
      ]
    },
    {
      "cell_type": "code",
      "metadata": {
        "id": "7RGME3e-txum",
        "colab_type": "code",
        "colab": {
          "base_uri": "https://localhost:8080/",
          "height": 119
        },
        "outputId": "24c58b0e-635e-41fb-b0ed-eac5622a9db8"
      },
      "source": [
        "df['sight'].value_counts()"
      ],
      "execution_count": 62,
      "outputs": [
        {
          "output_type": "execute_result",
          "data": {
            "text/plain": [
              "0    19489\n",
              "2      963\n",
              "3      510\n",
              "1      332\n",
              "4      319\n",
              "Name: sight, dtype: int64"
            ]
          },
          "metadata": {
            "tags": []
          },
          "execution_count": 62
        }
      ]
    },
    {
      "cell_type": "code",
      "metadata": {
        "id": "I9TWavkT4M8L",
        "colab_type": "code",
        "colab": {
          "base_uri": "https://localhost:8080/",
          "height": 513
        },
        "outputId": "8aedd3dc-9525-4d58-ea94-6f5f6439b7ee"
      },
      "source": [
        "data = pd.concat([df['price'], df['sight']], axis=1)\n",
        "f, ax = plt.subplots(figsize=(15, 8))\n",
        "fig = sns.boxplot(x=df['sight'], y=\"price\", data=data)\n",
        "fig.axis(ymin=0, ymax=8000000);"
      ],
      "execution_count": 68,
      "outputs": [
        {
          "output_type": "display_data",
          "data": {
            "image/png": "[encoded data removed]",
            "text/plain": [
              "<Figure size 1080x576 with 1 Axes>"
            ]
          },
          "metadata": {
            "tags": []
          }
        }
      ]
    },
    {
      "cell_type": "code",
      "metadata": {
        "id": "iAiqAdLxt0tn",
        "colab_type": "code",
        "colab": {
          "base_uri": "https://localhost:8080/",
          "height": 238
        },
        "outputId": "ad97025a-a9ca-4aaf-b4d2-d1a2822520b7"
      },
      "source": [
        "df['quality'].value_counts()"
      ],
      "execution_count": 63,
      "outputs": [
        {
          "output_type": "execute_result",
          "data": {
            "text/plain": [
              "7     8981\n",
              "8     6068\n",
              "9     2615\n",
              "6     2038\n",
              "10    1134\n",
              "11     399\n",
              "5      242\n",
              "12      90\n",
              "4       29\n",
              "13      13\n",
              "3        3\n",
              "1        1\n",
              "Name: quality, dtype: int64"
            ]
          },
          "metadata": {
            "tags": []
          },
          "execution_count": 63
        }
      ]
    },
    {
      "cell_type": "code",
      "metadata": {
        "id": "x7rUt-xJ4U6c",
        "colab_type": "code",
        "colab": {
          "base_uri": "https://localhost:8080/",
          "height": 513
        },
        "outputId": "e6e6b1d2-120b-4aaf-b1d5-2b589bbe78b1"
      },
      "source": [
        "data = pd.concat([df['price'], df['quality']], axis=1)\n",
        "f, ax = plt.subplots(figsize=(15, 8))\n",
        "fig = sns.boxplot(x=df['quality'], y=\"price\", data=data)\n",
        "fig.axis(ymin=0, ymax=8000000);"
      ],
      "execution_count": 69,
      "outputs": [
        {
          "output_type": "display_data",
          "data": {
            "image/png": "[encoded data removed]",
            "text/plain": [
              "<Figure size 1080x576 with 1 Axes>"
            ]
          },
          "metadata": {
            "tags": []
          }
        }
      ]
    },
    {
      "cell_type": "code",
      "metadata": {
        "id": "3ODwAZZst3Cj",
        "colab_type": "code",
        "colab": {
          "base_uri": "https://localhost:8080/",
          "height": 119
        },
        "outputId": "3872b2f4-33c9-4efe-b66e-96a63c88edf5"
      },
      "source": [
        "df['condition'].value_counts()"
      ],
      "execution_count": 64,
      "outputs": [
        {
          "output_type": "execute_result",
          "data": {
            "text/plain": [
              "3    14031\n",
              "4     5679\n",
              "5     1701\n",
              "2      172\n",
              "1       30\n",
              "Name: condition, dtype: int64"
            ]
          },
          "metadata": {
            "tags": []
          },
          "execution_count": 64
        }
      ]
    },
    {
      "cell_type": "code",
      "metadata": {
        "id": "HFwyUZsg4a-O",
        "colab_type": "code",
        "colab": {
          "base_uri": "https://localhost:8080/",
          "height": 513
        },
        "outputId": "5bad520f-b815-4cef-f6aa-5436b6577b0b"
      },
      "source": [
        "data = pd.concat([df['price'], df['condition']], axis=1)\n",
        "f, ax = plt.subplots(figsize=(15, 8))\n",
        "fig = sns.boxplot(x=df['condition'], y=\"price\", data=data)\n",
        "fig.axis(ymin=0, ymax=8000000);"
      ],
      "execution_count": 70,
      "outputs": [
        {
          "output_type": "display_data",
          "data": {
            "image/png": "[encoded data removed]",
            "text/plain": [
              "<Figure size 1080x576 with 1 Axes>"
            ]
          },
          "metadata": {
            "tags": []
          }
        }
      ]
    },
    {
      "cell_type": "code",
      "metadata": {
        "id": "gNXw0QewuBGE",
        "colab_type": "code",
        "colab": {
          "base_uri": "https://localhost:8080/",
          "height": 68
        },
        "outputId": "1416e408-ec99-430e-d478-1a4a50a8d383"
      },
      "source": [
        "df['furnished'].value_counts()"
      ],
      "execution_count": 65,
      "outputs": [
        {
          "output_type": "execute_result",
          "data": {
            "text/plain": [
              "0    17362\n",
              "1     4251\n",
              "Name: furnished, dtype: int64"
            ]
          },
          "metadata": {
            "tags": []
          },
          "execution_count": 65
        }
      ]
    },
    {
      "cell_type": "code",
      "metadata": {
        "id": "_at--4pM4hqo",
        "colab_type": "code",
        "colab": {
          "base_uri": "https://localhost:8080/",
          "height": 513
        },
        "outputId": "72cc128b-f986-460f-be42-be0224699d4b"
      },
      "source": [
        "data = pd.concat([df['price'], df['furnished']], axis=1)\n",
        "f, ax = plt.subplots(figsize=(15, 8))\n",
        "fig = sns.boxplot(x=df['furnished'], y=\"price\", data=data)\n",
        "fig.axis(ymin=0, ymax=8000000);"
      ],
      "execution_count": 71,
      "outputs": [
        {
          "output_type": "display_data",
          "data": {
            "image/png": "[encoded data removed]",
            "text/plain": [
              "<Figure size 1080x576 with 1 Axes>"
            ]
          },
          "metadata": {
            "tags": []
          }
        }
      ]
    },
    {
      "cell_type": "code",
      "metadata": {
        "id": "sdnj9-knuJjw",
        "colab_type": "code",
        "colab": {}
      },
      "source": [
        ""
      ],
      "execution_count": 0,
      "outputs": []
    }
  ]
}